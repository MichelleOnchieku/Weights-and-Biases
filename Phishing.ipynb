{
  "cells": [
    {
      "cell_type": "code",
      "execution_count": 1,
      "metadata": {
        "colab": {
          "base_uri": "https://localhost:8080/"
        },
        "id": "bUe9V1K7Ln2_",
        "outputId": "16253239-664f-4437-bcde-785c324329ba"
      },
      "outputs": [
        {
          "output_type": "stream",
          "name": "stdout",
          "text": [
            "Collecting wandb\n",
            "  Downloading wandb-0.17.5-py3-none-manylinux_2_5_x86_64.manylinux1_x86_64.manylinux_2_17_x86_64.manylinux2014_x86_64.whl (6.8 MB)\n",
            "\u001b[2K     \u001b[90m━━━━━━━━━━━━━━━━━━━━━━━━━━━━━━━━━━━━━━━━\u001b[0m \u001b[32m6.8/6.8 MB\u001b[0m \u001b[31m19.4 MB/s\u001b[0m eta \u001b[36m0:00:00\u001b[0m\n",
            "\u001b[?25hRequirement already satisfied: click!=8.0.0,>=7.1 in /usr/local/lib/python3.10/dist-packages (from wandb) (8.1.7)\n",
            "Collecting docker-pycreds>=0.4.0 (from wandb)\n",
            "  Downloading docker_pycreds-0.4.0-py2.py3-none-any.whl (9.0 kB)\n",
            "Collecting gitpython!=3.1.29,>=1.0.0 (from wandb)\n",
            "  Downloading GitPython-3.1.43-py3-none-any.whl (207 kB)\n",
            "\u001b[2K     \u001b[90m━━━━━━━━━━━━━━━━━━━━━━━━━━━━━━━━━━━━━━━━\u001b[0m \u001b[32m207.3/207.3 kB\u001b[0m \u001b[31m20.9 MB/s\u001b[0m eta \u001b[36m0:00:00\u001b[0m\n",
            "\u001b[?25hRequirement already satisfied: platformdirs in /usr/local/lib/python3.10/dist-packages (from wandb) (4.2.2)\n",
            "Requirement already satisfied: protobuf!=4.21.0,<6,>=3.19.0 in /usr/local/lib/python3.10/dist-packages (from wandb) (3.20.3)\n",
            "Requirement already satisfied: psutil>=5.0.0 in /usr/local/lib/python3.10/dist-packages (from wandb) (5.9.5)\n",
            "Requirement already satisfied: pyyaml in /usr/local/lib/python3.10/dist-packages (from wandb) (6.0.1)\n",
            "Requirement already satisfied: requests<3,>=2.0.0 in /usr/local/lib/python3.10/dist-packages (from wandb) (2.31.0)\n",
            "Collecting sentry-sdk>=1.0.0 (from wandb)\n",
            "  Downloading sentry_sdk-2.10.0-py2.py3-none-any.whl (302 kB)\n",
            "\u001b[2K     \u001b[90m━━━━━━━━━━━━━━━━━━━━━━━━━━━━━━━━━━━━━━━━\u001b[0m \u001b[32m302.1/302.1 kB\u001b[0m \u001b[31m34.0 MB/s\u001b[0m eta \u001b[36m0:00:00\u001b[0m\n",
            "\u001b[?25hCollecting setproctitle (from wandb)\n",
            "  Downloading setproctitle-1.3.3-cp310-cp310-manylinux_2_5_x86_64.manylinux1_x86_64.manylinux_2_17_x86_64.manylinux2014_x86_64.whl (30 kB)\n",
            "Requirement already satisfied: setuptools in /usr/local/lib/python3.10/dist-packages (from wandb) (67.7.2)\n",
            "Requirement already satisfied: six>=1.4.0 in /usr/local/lib/python3.10/dist-packages (from docker-pycreds>=0.4.0->wandb) (1.16.0)\n",
            "Collecting gitdb<5,>=4.0.1 (from gitpython!=3.1.29,>=1.0.0->wandb)\n",
            "  Downloading gitdb-4.0.11-py3-none-any.whl (62 kB)\n",
            "\u001b[2K     \u001b[90m━━━━━━━━━━━━━━━━━━━━━━━━━━━━━━━━━━━━━━━━\u001b[0m \u001b[32m62.7/62.7 kB\u001b[0m \u001b[31m9.6 MB/s\u001b[0m eta \u001b[36m0:00:00\u001b[0m\n",
            "\u001b[?25hRequirement already satisfied: charset-normalizer<4,>=2 in /usr/local/lib/python3.10/dist-packages (from requests<3,>=2.0.0->wandb) (3.3.2)\n",
            "Requirement already satisfied: idna<4,>=2.5 in /usr/local/lib/python3.10/dist-packages (from requests<3,>=2.0.0->wandb) (3.7)\n",
            "Requirement already satisfied: urllib3<3,>=1.21.1 in /usr/local/lib/python3.10/dist-packages (from requests<3,>=2.0.0->wandb) (2.0.7)\n",
            "Requirement already satisfied: certifi>=2017.4.17 in /usr/local/lib/python3.10/dist-packages (from requests<3,>=2.0.0->wandb) (2024.7.4)\n",
            "Collecting smmap<6,>=3.0.1 (from gitdb<5,>=4.0.1->gitpython!=3.1.29,>=1.0.0->wandb)\n",
            "  Downloading smmap-5.0.1-py3-none-any.whl (24 kB)\n",
            "Installing collected packages: smmap, setproctitle, sentry-sdk, docker-pycreds, gitdb, gitpython, wandb\n",
            "Successfully installed docker-pycreds-0.4.0 gitdb-4.0.11 gitpython-3.1.43 sentry-sdk-2.10.0 setproctitle-1.3.3 smmap-5.0.1 wandb-0.17.5\n"
          ]
        }
      ],
      "source": [
        "!pip install wandb"
      ]
    },
    {
      "cell_type": "code",
      "execution_count": 2,
      "metadata": {
        "id": "iqkQq_8nQj-X"
      },
      "outputs": [],
      "source": [
        "import wandb"
      ]
    },
    {
      "cell_type": "code",
      "execution_count": 3,
      "metadata": {
        "colab": {
          "base_uri": "https://localhost:8080/",
          "height": 126
        },
        "id": "CK85VezjQjfc",
        "outputId": "69413d4b-94af-4133-8f95-d09371ad4adb"
      },
      "outputs": [
        {
          "output_type": "display_data",
          "data": {
            "text/plain": [
              "<IPython.core.display.Javascript object>"
            ],
            "application/javascript": [
              "\n",
              "        window._wandbApiKey = new Promise((resolve, reject) => {\n",
              "            function loadScript(url) {\n",
              "            return new Promise(function(resolve, reject) {\n",
              "                let newScript = document.createElement(\"script\");\n",
              "                newScript.onerror = reject;\n",
              "                newScript.onload = resolve;\n",
              "                document.body.appendChild(newScript);\n",
              "                newScript.src = url;\n",
              "            });\n",
              "            }\n",
              "            loadScript(\"https://cdn.jsdelivr.net/npm/postmate/build/postmate.min.js\").then(() => {\n",
              "            const iframe = document.createElement('iframe')\n",
              "            iframe.style.cssText = \"width:0;height:0;border:none\"\n",
              "            document.body.appendChild(iframe)\n",
              "            const handshake = new Postmate({\n",
              "                container: iframe,\n",
              "                url: 'https://wandb.ai/authorize'\n",
              "            });\n",
              "            const timeout = setTimeout(() => reject(\"Couldn't auto authenticate\"), 5000)\n",
              "            handshake.then(function(child) {\n",
              "                child.on('authorize', data => {\n",
              "                    clearTimeout(timeout)\n",
              "                    resolve(data)\n",
              "                });\n",
              "            });\n",
              "            })\n",
              "        });\n",
              "    "
            ]
          },
          "metadata": {}
        },
        {
          "output_type": "stream",
          "name": "stderr",
          "text": [
            "\u001b[34m\u001b[1mwandb\u001b[0m: Logging into wandb.ai. (Learn how to deploy a W&B server locally: https://wandb.me/wandb-server)\n",
            "\u001b[34m\u001b[1mwandb\u001b[0m: You can find your API key in your browser here: https://wandb.ai/authorize\n",
            "wandb: Paste an API key from your profile and hit enter, or press ctrl+c to quit:"
          ]
        },
        {
          "name": "stdout",
          "output_type": "stream",
          "text": [
            " ··········\n"
          ]
        },
        {
          "output_type": "stream",
          "name": "stderr",
          "text": [
            "\u001b[34m\u001b[1mwandb\u001b[0m: Appending key for api.wandb.ai to your netrc file: /root/.netrc\n"
          ]
        },
        {
          "output_type": "execute_result",
          "data": {
            "text/plain": [
              "True"
            ]
          },
          "metadata": {},
          "execution_count": 3
        }
      ],
      "source": [
        "wandb.login()"
      ]
    },
    {
      "cell_type": "code",
      "execution_count": 4,
      "metadata": {
        "colab": {
          "base_uri": "https://localhost:8080/",
          "height": 123
        },
        "id": "Bjw27UEML3th",
        "outputId": "9fbbb2f1-a0c6-4241-afcd-b06c55682614"
      },
      "outputs": [
        {
          "output_type": "stream",
          "name": "stderr",
          "text": [
            "\u001b[34m\u001b[1mwandb\u001b[0m: Currently logged in as: \u001b[33mmichellebonchieku99\u001b[0m (\u001b[33mmichellebonchieku99-usiu\u001b[0m). Use \u001b[1m`wandb login --relogin`\u001b[0m to force relogin\n"
          ]
        },
        {
          "output_type": "display_data",
          "data": {
            "text/plain": [
              "<IPython.core.display.HTML object>"
            ],
            "text/html": [
              "Tracking run with wandb version 0.17.5"
            ]
          },
          "metadata": {}
        },
        {
          "output_type": "display_data",
          "data": {
            "text/plain": [
              "<IPython.core.display.HTML object>"
            ],
            "text/html": [
              "Run data is saved locally in <code>/content/wandb/run-20240723_045210-df3fxyz9</code>"
            ]
          },
          "metadata": {}
        },
        {
          "output_type": "display_data",
          "data": {
            "text/plain": [
              "<IPython.core.display.HTML object>"
            ],
            "text/html": [
              "Syncing run <strong><a href='https://wandb.ai/michellebonchieku99-usiu/urlset-classification/runs/df3fxyz9' target=\"_blank\">hopeful-morning-16</a></strong> to <a href='https://wandb.ai/michellebonchieku99-usiu/urlset-classification' target=\"_blank\">Weights & Biases</a> (<a href='https://wandb.me/run' target=\"_blank\">docs</a>)<br/>"
            ]
          },
          "metadata": {}
        },
        {
          "output_type": "display_data",
          "data": {
            "text/plain": [
              "<IPython.core.display.HTML object>"
            ],
            "text/html": [
              " View project at <a href='https://wandb.ai/michellebonchieku99-usiu/urlset-classification' target=\"_blank\">https://wandb.ai/michellebonchieku99-usiu/urlset-classification</a>"
            ]
          },
          "metadata": {}
        },
        {
          "output_type": "display_data",
          "data": {
            "text/plain": [
              "<IPython.core.display.HTML object>"
            ],
            "text/html": [
              " View run at <a href='https://wandb.ai/michellebonchieku99-usiu/urlset-classification/runs/df3fxyz9' target=\"_blank\">https://wandb.ai/michellebonchieku99-usiu/urlset-classification/runs/df3fxyz9</a>"
            ]
          },
          "metadata": {}
        }
      ],
      "source": [
        "run = wandb.init(project=\"urlset-classification\")"
      ]
    },
    {
      "cell_type": "code",
      "execution_count": 5,
      "metadata": {
        "id": "bkxWqK0pL36V"
      },
      "outputs": [],
      "source": [
        "import pandas as pd\n",
        "import numpy as np\n",
        "import matplotlib.pyplot as plt\n",
        "import seaborn as sns\n",
        "%matplotlib inline\n",
        "import io"
      ]
    },
    {
      "cell_type": "code",
      "execution_count": 6,
      "metadata": {
        "id": "UbmeS0aHL38z",
        "colab": {
          "base_uri": "https://localhost:8080/"
        },
        "outputId": "1127c7db-330f-43b0-e3ca-a3a2c579f50c"
      },
      "outputs": [
        {
          "output_type": "stream",
          "name": "stderr",
          "text": [
            "<ipython-input-6-29f8e4e80172>:9: DtypeWarning: Columns (1,2,3,11,12) have mixed types. Specify dtype option on import or set low_memory=False.\n",
            "  phishing = pd.read_csv(io.StringIO(decoded_data), on_bad_lines='skip')\n"
          ]
        }
      ],
      "source": [
        "# Read the file in binary mode\n",
        "with open('/content/urlset.csv', 'rb') as file:\n",
        "    raw_data = file.read()\n",
        "\n",
        "# Decode the content manually with error handling\n",
        "decoded_data = raw_data.decode('MacRoman', errors='replace')\n",
        "\n",
        "# Use io.StringIO to read the decoded content as if it were a file\n",
        "phishing = pd.read_csv(io.StringIO(decoded_data), on_bad_lines='skip')\n",
        "\n"
      ]
    },
    {
      "cell_type": "code",
      "execution_count": 7,
      "metadata": {
        "id": "Abl0QUMEL3_a",
        "colab": {
          "base_uri": "https://localhost:8080/",
          "height": 206
        },
        "outputId": "c745788a-6c99-40eb-cca6-3260c07dee01"
      },
      "outputs": [
        {
          "output_type": "execute_result",
          "data": {
            "text/plain": [
              "                                              domain   ranking mld_res  \\\n",
              "0  nobell.it/70ffb52d079109dca5664cce6f317373782/...  10000000     1.0   \n",
              "1  www.dghjdgf.com/paypal.co.uk/cycgi-bin/webscrc...  10000000     0.0   \n",
              "2  serviciosbys.com/paypal.cgi.bin.get-into.herf....  10000000     0.0   \n",
              "3  mail.printakid.com/www.online.americanexpress....  10000000     0.0   \n",
              "4  thewhiskeydregs.com/wp-content/themes/widescre...  10000000     0.0   \n",
              "\n",
              "  mld.ps_res  card_rem  ratio_Rrem  ratio_Arem  jaccard_RR  jaccard_RA  \\\n",
              "0        0.0      18.0  107.611111  107.277778         0.0         0.0   \n",
              "1        0.0      11.0  150.636364  152.272727         0.0         0.0   \n",
              "2        0.0      14.0   73.500000   72.642857         0.0         0.0   \n",
              "3        0.0       6.0  562.000000  590.666667         0.0         0.0   \n",
              "4        0.0       8.0   29.000000   24.125000         0.0         0.0   \n",
              "\n",
              "   jaccard_AR  jaccard_AA jaccard_ARrd jaccard_ARrem  label  \n",
              "0         0.0         0.0          0.8      0.795729    1.0  \n",
              "1         0.0         0.0            0      0.768577    1.0  \n",
              "2         0.0         0.0            0      0.726582    1.0  \n",
              "3         0.0         0.0            0       0.85964    1.0  \n",
              "4         0.0         0.0            0      0.748971    1.0  "
            ],
            "text/html": [
              "\n",
              "  <div id=\"df-7fc035e8-b5b1-4e73-8697-d9edbbb531eb\" class=\"colab-df-container\">\n",
              "    <div>\n",
              "<style scoped>\n",
              "    .dataframe tbody tr th:only-of-type {\n",
              "        vertical-align: middle;\n",
              "    }\n",
              "\n",
              "    .dataframe tbody tr th {\n",
              "        vertical-align: top;\n",
              "    }\n",
              "\n",
              "    .dataframe thead th {\n",
              "        text-align: right;\n",
              "    }\n",
              "</style>\n",
              "<table border=\"1\" class=\"dataframe\">\n",
              "  <thead>\n",
              "    <tr style=\"text-align: right;\">\n",
              "      <th></th>\n",
              "      <th>domain</th>\n",
              "      <th>ranking</th>\n",
              "      <th>mld_res</th>\n",
              "      <th>mld.ps_res</th>\n",
              "      <th>card_rem</th>\n",
              "      <th>ratio_Rrem</th>\n",
              "      <th>ratio_Arem</th>\n",
              "      <th>jaccard_RR</th>\n",
              "      <th>jaccard_RA</th>\n",
              "      <th>jaccard_AR</th>\n",
              "      <th>jaccard_AA</th>\n",
              "      <th>jaccard_ARrd</th>\n",
              "      <th>jaccard_ARrem</th>\n",
              "      <th>label</th>\n",
              "    </tr>\n",
              "  </thead>\n",
              "  <tbody>\n",
              "    <tr>\n",
              "      <th>0</th>\n",
              "      <td>nobell.it/70ffb52d079109dca5664cce6f317373782/...</td>\n",
              "      <td>10000000</td>\n",
              "      <td>1.0</td>\n",
              "      <td>0.0</td>\n",
              "      <td>18.0</td>\n",
              "      <td>107.611111</td>\n",
              "      <td>107.277778</td>\n",
              "      <td>0.0</td>\n",
              "      <td>0.0</td>\n",
              "      <td>0.0</td>\n",
              "      <td>0.0</td>\n",
              "      <td>0.8</td>\n",
              "      <td>0.795729</td>\n",
              "      <td>1.0</td>\n",
              "    </tr>\n",
              "    <tr>\n",
              "      <th>1</th>\n",
              "      <td>www.dghjdgf.com/paypal.co.uk/cycgi-bin/webscrc...</td>\n",
              "      <td>10000000</td>\n",
              "      <td>0.0</td>\n",
              "      <td>0.0</td>\n",
              "      <td>11.0</td>\n",
              "      <td>150.636364</td>\n",
              "      <td>152.272727</td>\n",
              "      <td>0.0</td>\n",
              "      <td>0.0</td>\n",
              "      <td>0.0</td>\n",
              "      <td>0.0</td>\n",
              "      <td>0</td>\n",
              "      <td>0.768577</td>\n",
              "      <td>1.0</td>\n",
              "    </tr>\n",
              "    <tr>\n",
              "      <th>2</th>\n",
              "      <td>serviciosbys.com/paypal.cgi.bin.get-into.herf....</td>\n",
              "      <td>10000000</td>\n",
              "      <td>0.0</td>\n",
              "      <td>0.0</td>\n",
              "      <td>14.0</td>\n",
              "      <td>73.500000</td>\n",
              "      <td>72.642857</td>\n",
              "      <td>0.0</td>\n",
              "      <td>0.0</td>\n",
              "      <td>0.0</td>\n",
              "      <td>0.0</td>\n",
              "      <td>0</td>\n",
              "      <td>0.726582</td>\n",
              "      <td>1.0</td>\n",
              "    </tr>\n",
              "    <tr>\n",
              "      <th>3</th>\n",
              "      <td>mail.printakid.com/www.online.americanexpress....</td>\n",
              "      <td>10000000</td>\n",
              "      <td>0.0</td>\n",
              "      <td>0.0</td>\n",
              "      <td>6.0</td>\n",
              "      <td>562.000000</td>\n",
              "      <td>590.666667</td>\n",
              "      <td>0.0</td>\n",
              "      <td>0.0</td>\n",
              "      <td>0.0</td>\n",
              "      <td>0.0</td>\n",
              "      <td>0</td>\n",
              "      <td>0.85964</td>\n",
              "      <td>1.0</td>\n",
              "    </tr>\n",
              "    <tr>\n",
              "      <th>4</th>\n",
              "      <td>thewhiskeydregs.com/wp-content/themes/widescre...</td>\n",
              "      <td>10000000</td>\n",
              "      <td>0.0</td>\n",
              "      <td>0.0</td>\n",
              "      <td>8.0</td>\n",
              "      <td>29.000000</td>\n",
              "      <td>24.125000</td>\n",
              "      <td>0.0</td>\n",
              "      <td>0.0</td>\n",
              "      <td>0.0</td>\n",
              "      <td>0.0</td>\n",
              "      <td>0</td>\n",
              "      <td>0.748971</td>\n",
              "      <td>1.0</td>\n",
              "    </tr>\n",
              "  </tbody>\n",
              "</table>\n",
              "</div>\n",
              "    <div class=\"colab-df-buttons\">\n",
              "\n",
              "  <div class=\"colab-df-container\">\n",
              "    <button class=\"colab-df-convert\" onclick=\"convertToInteractive('df-7fc035e8-b5b1-4e73-8697-d9edbbb531eb')\"\n",
              "            title=\"Convert this dataframe to an interactive table.\"\n",
              "            style=\"display:none;\">\n",
              "\n",
              "  <svg xmlns=\"http://www.w3.org/2000/svg\" height=\"24px\" viewBox=\"0 -960 960 960\">\n",
              "    <path d=\"M120-120v-720h720v720H120Zm60-500h600v-160H180v160Zm220 220h160v-160H400v160Zm0 220h160v-160H400v160ZM180-400h160v-160H180v160Zm440 0h160v-160H620v160ZM180-180h160v-160H180v160Zm440 0h160v-160H620v160Z\"/>\n",
              "  </svg>\n",
              "    </button>\n",
              "\n",
              "  <style>\n",
              "    .colab-df-container {\n",
              "      display:flex;\n",
              "      gap: 12px;\n",
              "    }\n",
              "\n",
              "    .colab-df-convert {\n",
              "      background-color: #E8F0FE;\n",
              "      border: none;\n",
              "      border-radius: 50%;\n",
              "      cursor: pointer;\n",
              "      display: none;\n",
              "      fill: #1967D2;\n",
              "      height: 32px;\n",
              "      padding: 0 0 0 0;\n",
              "      width: 32px;\n",
              "    }\n",
              "\n",
              "    .colab-df-convert:hover {\n",
              "      background-color: #E2EBFA;\n",
              "      box-shadow: 0px 1px 2px rgba(60, 64, 67, 0.3), 0px 1px 3px 1px rgba(60, 64, 67, 0.15);\n",
              "      fill: #174EA6;\n",
              "    }\n",
              "\n",
              "    .colab-df-buttons div {\n",
              "      margin-bottom: 4px;\n",
              "    }\n",
              "\n",
              "    [theme=dark] .colab-df-convert {\n",
              "      background-color: #3B4455;\n",
              "      fill: #D2E3FC;\n",
              "    }\n",
              "\n",
              "    [theme=dark] .colab-df-convert:hover {\n",
              "      background-color: #434B5C;\n",
              "      box-shadow: 0px 1px 3px 1px rgba(0, 0, 0, 0.15);\n",
              "      filter: drop-shadow(0px 1px 2px rgba(0, 0, 0, 0.3));\n",
              "      fill: #FFFFFF;\n",
              "    }\n",
              "  </style>\n",
              "\n",
              "    <script>\n",
              "      const buttonEl =\n",
              "        document.querySelector('#df-7fc035e8-b5b1-4e73-8697-d9edbbb531eb button.colab-df-convert');\n",
              "      buttonEl.style.display =\n",
              "        google.colab.kernel.accessAllowed ? 'block' : 'none';\n",
              "\n",
              "      async function convertToInteractive(key) {\n",
              "        const element = document.querySelector('#df-7fc035e8-b5b1-4e73-8697-d9edbbb531eb');\n",
              "        const dataTable =\n",
              "          await google.colab.kernel.invokeFunction('convertToInteractive',\n",
              "                                                    [key], {});\n",
              "        if (!dataTable) return;\n",
              "\n",
              "        const docLinkHtml = 'Like what you see? Visit the ' +\n",
              "          '<a target=\"_blank\" href=https://colab.research.google.com/notebooks/data_table.ipynb>data table notebook</a>'\n",
              "          + ' to learn more about interactive tables.';\n",
              "        element.innerHTML = '';\n",
              "        dataTable['output_type'] = 'display_data';\n",
              "        await google.colab.output.renderOutput(dataTable, element);\n",
              "        const docLink = document.createElement('div');\n",
              "        docLink.innerHTML = docLinkHtml;\n",
              "        element.appendChild(docLink);\n",
              "      }\n",
              "    </script>\n",
              "  </div>\n",
              "\n",
              "\n",
              "<div id=\"df-e40b8dcd-86da-4195-bcc6-1918baac8253\">\n",
              "  <button class=\"colab-df-quickchart\" onclick=\"quickchart('df-e40b8dcd-86da-4195-bcc6-1918baac8253')\"\n",
              "            title=\"Suggest charts\"\n",
              "            style=\"display:none;\">\n",
              "\n",
              "<svg xmlns=\"http://www.w3.org/2000/svg\" height=\"24px\"viewBox=\"0 0 24 24\"\n",
              "     width=\"24px\">\n",
              "    <g>\n",
              "        <path d=\"M19 3H5c-1.1 0-2 .9-2 2v14c0 1.1.9 2 2 2h14c1.1 0 2-.9 2-2V5c0-1.1-.9-2-2-2zM9 17H7v-7h2v7zm4 0h-2V7h2v10zm4 0h-2v-4h2v4z\"/>\n",
              "    </g>\n",
              "</svg>\n",
              "  </button>\n",
              "\n",
              "<style>\n",
              "  .colab-df-quickchart {\n",
              "      --bg-color: #E8F0FE;\n",
              "      --fill-color: #1967D2;\n",
              "      --hover-bg-color: #E2EBFA;\n",
              "      --hover-fill-color: #174EA6;\n",
              "      --disabled-fill-color: #AAA;\n",
              "      --disabled-bg-color: #DDD;\n",
              "  }\n",
              "\n",
              "  [theme=dark] .colab-df-quickchart {\n",
              "      --bg-color: #3B4455;\n",
              "      --fill-color: #D2E3FC;\n",
              "      --hover-bg-color: #434B5C;\n",
              "      --hover-fill-color: #FFFFFF;\n",
              "      --disabled-bg-color: #3B4455;\n",
              "      --disabled-fill-color: #666;\n",
              "  }\n",
              "\n",
              "  .colab-df-quickchart {\n",
              "    background-color: var(--bg-color);\n",
              "    border: none;\n",
              "    border-radius: 50%;\n",
              "    cursor: pointer;\n",
              "    display: none;\n",
              "    fill: var(--fill-color);\n",
              "    height: 32px;\n",
              "    padding: 0;\n",
              "    width: 32px;\n",
              "  }\n",
              "\n",
              "  .colab-df-quickchart:hover {\n",
              "    background-color: var(--hover-bg-color);\n",
              "    box-shadow: 0 1px 2px rgba(60, 64, 67, 0.3), 0 1px 3px 1px rgba(60, 64, 67, 0.15);\n",
              "    fill: var(--button-hover-fill-color);\n",
              "  }\n",
              "\n",
              "  .colab-df-quickchart-complete:disabled,\n",
              "  .colab-df-quickchart-complete:disabled:hover {\n",
              "    background-color: var(--disabled-bg-color);\n",
              "    fill: var(--disabled-fill-color);\n",
              "    box-shadow: none;\n",
              "  }\n",
              "\n",
              "  .colab-df-spinner {\n",
              "    border: 2px solid var(--fill-color);\n",
              "    border-color: transparent;\n",
              "    border-bottom-color: var(--fill-color);\n",
              "    animation:\n",
              "      spin 1s steps(1) infinite;\n",
              "  }\n",
              "\n",
              "  @keyframes spin {\n",
              "    0% {\n",
              "      border-color: transparent;\n",
              "      border-bottom-color: var(--fill-color);\n",
              "      border-left-color: var(--fill-color);\n",
              "    }\n",
              "    20% {\n",
              "      border-color: transparent;\n",
              "      border-left-color: var(--fill-color);\n",
              "      border-top-color: var(--fill-color);\n",
              "    }\n",
              "    30% {\n",
              "      border-color: transparent;\n",
              "      border-left-color: var(--fill-color);\n",
              "      border-top-color: var(--fill-color);\n",
              "      border-right-color: var(--fill-color);\n",
              "    }\n",
              "    40% {\n",
              "      border-color: transparent;\n",
              "      border-right-color: var(--fill-color);\n",
              "      border-top-color: var(--fill-color);\n",
              "    }\n",
              "    60% {\n",
              "      border-color: transparent;\n",
              "      border-right-color: var(--fill-color);\n",
              "    }\n",
              "    80% {\n",
              "      border-color: transparent;\n",
              "      border-right-color: var(--fill-color);\n",
              "      border-bottom-color: var(--fill-color);\n",
              "    }\n",
              "    90% {\n",
              "      border-color: transparent;\n",
              "      border-bottom-color: var(--fill-color);\n",
              "    }\n",
              "  }\n",
              "</style>\n",
              "\n",
              "  <script>\n",
              "    async function quickchart(key) {\n",
              "      const quickchartButtonEl =\n",
              "        document.querySelector('#' + key + ' button');\n",
              "      quickchartButtonEl.disabled = true;  // To prevent multiple clicks.\n",
              "      quickchartButtonEl.classList.add('colab-df-spinner');\n",
              "      try {\n",
              "        const charts = await google.colab.kernel.invokeFunction(\n",
              "            'suggestCharts', [key], {});\n",
              "      } catch (error) {\n",
              "        console.error('Error during call to suggestCharts:', error);\n",
              "      }\n",
              "      quickchartButtonEl.classList.remove('colab-df-spinner');\n",
              "      quickchartButtonEl.classList.add('colab-df-quickchart-complete');\n",
              "    }\n",
              "    (() => {\n",
              "      let quickchartButtonEl =\n",
              "        document.querySelector('#df-e40b8dcd-86da-4195-bcc6-1918baac8253 button');\n",
              "      quickchartButtonEl.style.display =\n",
              "        google.colab.kernel.accessAllowed ? 'block' : 'none';\n",
              "    })();\n",
              "  </script>\n",
              "</div>\n",
              "\n",
              "    </div>\n",
              "  </div>\n"
            ],
            "application/vnd.google.colaboratory.intrinsic+json": {
              "type": "dataframe",
              "variable_name": "phishing",
              "summary": "{\n  \"name\": \"phishing\",\n  \"rows\": 96005,\n  \"fields\": [\n    {\n      \"column\": \"domain\",\n      \"properties\": {\n        \"dtype\": \"string\",\n        \"num_unique_values\": 96003,\n        \"samples\": [\n          \"jbfeirao.com.br/~mpolvora/accounts.department.online.team/webscr.php?cmd=_login-run\",\n          \"www.criaseg.net46.net/aguarde/Redirecionamento.php\",\n          \"soften.ktu.lt/~s72482/nx8220/\"\n        ],\n        \"semantic_type\": \"\",\n        \"description\": \"\"\n      }\n    },\n    {\n      \"column\": \"ranking\",\n      \"properties\": {\n        \"dtype\": \"category\",\n        \"num_unique_values\": 8206,\n        \"samples\": [\n          \"726958\",\n          \"3776\",\n          \"529916\"\n        ],\n        \"semantic_type\": \"\",\n        \"description\": \"\"\n      }\n    },\n    {\n      \"column\": \"mld_res\",\n      \"properties\": {\n        \"dtype\": \"category\",\n        \"num_unique_values\": 21,\n        \"samples\": [\n          \"1.0\",\n          \"'\\u00e9\\u00bf\\u00d6\\ufb01\\u0007\\uf8ff\\u203aL\\u0012d\\u00d2P\\u001e=bYW\\u00c4d$\\u00ff\\u201ep\\u00cb.-7\\u00ec\\u00d5\\u00bf\\u00ea\\u00fc\\u00a3\\u0011\\u00fa\\u00fc\\u02c6\\u0017\\u000f\\u001a\\u00d2X\\u00fb\\u2019\\bs#B\\u02d9B\\\\\\u00e8\\u00c1\\u2044\\u00f7\\u000bVE\\u00d2\\u2018\\u2013'\\u00fc\\u00a1U\",\n          \"\\tM\\u02ddrH\\u00f6Yu\\u00c9\\u2248\\u00e5q0z\\u00eb\\u00a5<\\u00d6\\u0153\\u0006 \\t\\u0018\\u02da\\u00b7\\u00d5\\u00f9\\u0016\\u2030L<\\u00df\\u00c3\\u00df\\u00e0\\u2020\\u00c0\\u00d2\\u00f2W\\u00e5\\u00a7\\u220f\\u00e1\\u2039>K\\u02c7x\\u00d2\\u2026\\u0011k\\u0014\\u2122\\u00da\"\n        ],\n        \"semantic_type\": \"\",\n        \"description\": \"\"\n      }\n    },\n    {\n      \"column\": \"mld.ps_res\",\n      \"properties\": {\n        \"dtype\": \"category\",\n        \"num_unique_values\": 10,\n        \"samples\": [\n          0.0,\n          \"1.0\",\n          \"7\"\n        ],\n        \"semantic_type\": \"\",\n        \"description\": \"\"\n      }\n    },\n    {\n      \"column\": \"card_rem\",\n      \"properties\": {\n        \"dtype\": \"number\",\n        \"std\": 4.466072927870405,\n        \"min\": 0.0,\n        \"max\": 187.333333,\n        \"num_unique_values\": 53,\n        \"samples\": [\n          17.0,\n          187.333333,\n          51.0\n        ],\n        \"semantic_type\": \"\",\n        \"description\": \"\"\n      }\n    },\n    {\n      \"column\": \"ratio_Rrem\",\n      \"properties\": {\n        \"dtype\": \"number\",\n        \"std\": 160.9888954046324,\n        \"min\": 0.0,\n        \"max\": 5507.0,\n        \"num_unique_values\": 10042,\n        \"samples\": [\n          135.642857,\n          149.9,\n          256.1875\n        ],\n        \"semantic_type\": \"\",\n        \"description\": \"\"\n      }\n    },\n    {\n      \"column\": \"ratio_Arem\",\n      \"properties\": {\n        \"dtype\": \"number\",\n        \"std\": 175.48048538637568,\n        \"min\": 0.0,\n        \"max\": 6097.0,\n        \"num_unique_values\": 10231,\n        \"samples\": [\n          36.642857,\n          98.333333,\n          362.833333\n        ],\n        \"semantic_type\": \"\",\n        \"description\": \"\"\n      }\n    },\n    {\n      \"column\": \"jaccard_RR\",\n      \"properties\": {\n        \"dtype\": \"number\",\n        \"std\": 0.31130841337208554,\n        \"min\": 0.0,\n        \"max\": 96.0,\n        \"num_unique_values\": 5446,\n        \"samples\": [\n          0.015311,\n          0.015554,\n          0.001821\n        ],\n        \"semantic_type\": \"\",\n        \"description\": \"\"\n      }\n    },\n    {\n      \"column\": \"jaccard_RA\",\n      \"properties\": {\n        \"dtype\": \"number\",\n        \"std\": 0.02481462452538979,\n        \"min\": 0.0,\n        \"max\": 1.0,\n        \"num_unique_values\": 5628,\n        \"samples\": [\n          0.015636,\n          0.003096,\n          0.007024\n        ],\n        \"semantic_type\": \"\",\n        \"description\": \"\"\n      }\n    },\n    {\n      \"column\": \"jaccard_AR\",\n      \"properties\": {\n        \"dtype\": \"number\",\n        \"std\": 0.024010515885554046,\n        \"min\": 0.0,\n        \"max\": 1.0,\n        \"num_unique_values\": 5071,\n        \"samples\": [\n          0.042857,\n          0.004871,\n          0.001498\n        ],\n        \"semantic_type\": \"\",\n        \"description\": \"\"\n      }\n    },\n    {\n      \"column\": \"jaccard_AA\",\n      \"properties\": {\n        \"dtype\": \"number\",\n        \"std\": 0.02849249122833477,\n        \"min\": 0.0,\n        \"max\": 1.0,\n        \"num_unique_values\": 5313,\n        \"samples\": [\n          0.003759,\n          0.255278,\n          0.000366\n        ],\n        \"semantic_type\": \"\",\n        \"description\": \"\"\n      }\n    },\n    {\n      \"column\": \"jaccard_ARrd\",\n      \"properties\": {\n        \"dtype\": \"category\",\n        \"num_unique_values\": 1072,\n        \"samples\": [\n          0.347826,\n          0.555556,\n          0.681592\n        ],\n        \"semantic_type\": \"\",\n        \"description\": \"\"\n      }\n    },\n    {\n      \"column\": \"jaccard_ARrem\",\n      \"properties\": {\n        \"dtype\": \"category\",\n        \"num_unique_values\": 30752,\n        \"samples\": [\n          \"0.784818\",\n          0.70229,\n          0.568966\n        ],\n        \"semantic_type\": \"\",\n        \"description\": \"\"\n      }\n    },\n    {\n      \"column\": \"label\",\n      \"properties\": {\n        \"dtype\": \"number\",\n        \"std\": 0.5000023069324918,\n        \"min\": 0.0,\n        \"max\": 1.0,\n        \"num_unique_values\": 2,\n        \"samples\": [\n          0.0,\n          1.0\n        ],\n        \"semantic_type\": \"\",\n        \"description\": \"\"\n      }\n    }\n  ]\n}"
            }
          },
          "metadata": {},
          "execution_count": 7
        }
      ],
      "source": [
        "phishing.head()"
      ]
    },
    {
      "cell_type": "code",
      "execution_count": 8,
      "metadata": {
        "id": "aNhKwn_2L4Bn",
        "colab": {
          "base_uri": "https://localhost:8080/"
        },
        "outputId": "9c499648-dcd1-4978-d80a-21f860720250"
      },
      "outputs": [
        {
          "output_type": "execute_result",
          "data": {
            "text/plain": [
              "(96005, 14)"
            ]
          },
          "metadata": {},
          "execution_count": 8
        }
      ],
      "source": [
        "phishing.shape"
      ]
    },
    {
      "cell_type": "code",
      "execution_count": 9,
      "metadata": {
        "id": "HmcXdjXlL4D-",
        "colab": {
          "base_uri": "https://localhost:8080/",
          "height": 206
        },
        "outputId": "f9e73ba9-3819-4dbd-e7be-df603e6a93ab"
      },
      "outputs": [
        {
          "output_type": "execute_result",
          "data": {
            "text/plain": [
              "                                              domain ranking mld_res  \\\n",
              "96000        xbox360.ign.com/objects/850/850402.html     339     1.0   \n",
              "96001   games.teamxbox.com/xbox-360/1860/Dead-Space/   63029     1.0   \n",
              "96002     www.gamespot.com/xbox360/action/deadspace/     753     1.0   \n",
              "96003  en.wikipedia.org/wiki/Dead_Space_(video_game)       6     1.0   \n",
              "96004      www.angelfire.com/goth/devilmaycrytonite/    2547     1.0   \n",
              "\n",
              "      mld.ps_res  card_rem  ratio_Rrem  ratio_Arem  jaccard_RR  jaccard_RA  \\\n",
              "96000        1.0       2.0       142.5  141.000000    0.009009    0.009091   \n",
              "96001        0.0       3.0       114.0  128.333333    0.002899    0.002577   \n",
              "96002        1.0       3.0        91.0  101.333333    0.000000    0.003106   \n",
              "96003        1.0       4.0       682.0  744.250000    0.033075    0.029412   \n",
              "96004        1.0       5.0        32.4   27.200000    0.022222    0.032680   \n",
              "\n",
              "       jaccard_AR  jaccard_AA jaccard_ARrd jaccard_ARrem  label  \n",
              "96000    0.006536    0.006601      0.45098      0.846906    0.0  \n",
              "96001    0.002907    0.002584         0.75      0.714623    0.0  \n",
              "96002    0.000000    0.000000     0.111111      0.648571    0.0  \n",
              "96003    0.030250    0.029145     0.809735      0.840323    0.0  \n",
              "96004    0.017341    0.020408     0.636364      0.674157    0.0  "
            ],
            "text/html": [
              "\n",
              "  <div id=\"df-2b3bd6c3-801d-4402-8d6a-9febbf5c7064\" class=\"colab-df-container\">\n",
              "    <div>\n",
              "<style scoped>\n",
              "    .dataframe tbody tr th:only-of-type {\n",
              "        vertical-align: middle;\n",
              "    }\n",
              "\n",
              "    .dataframe tbody tr th {\n",
              "        vertical-align: top;\n",
              "    }\n",
              "\n",
              "    .dataframe thead th {\n",
              "        text-align: right;\n",
              "    }\n",
              "</style>\n",
              "<table border=\"1\" class=\"dataframe\">\n",
              "  <thead>\n",
              "    <tr style=\"text-align: right;\">\n",
              "      <th></th>\n",
              "      <th>domain</th>\n",
              "      <th>ranking</th>\n",
              "      <th>mld_res</th>\n",
              "      <th>mld.ps_res</th>\n",
              "      <th>card_rem</th>\n",
              "      <th>ratio_Rrem</th>\n",
              "      <th>ratio_Arem</th>\n",
              "      <th>jaccard_RR</th>\n",
              "      <th>jaccard_RA</th>\n",
              "      <th>jaccard_AR</th>\n",
              "      <th>jaccard_AA</th>\n",
              "      <th>jaccard_ARrd</th>\n",
              "      <th>jaccard_ARrem</th>\n",
              "      <th>label</th>\n",
              "    </tr>\n",
              "  </thead>\n",
              "  <tbody>\n",
              "    <tr>\n",
              "      <th>96000</th>\n",
              "      <td>xbox360.ign.com/objects/850/850402.html</td>\n",
              "      <td>339</td>\n",
              "      <td>1.0</td>\n",
              "      <td>1.0</td>\n",
              "      <td>2.0</td>\n",
              "      <td>142.5</td>\n",
              "      <td>141.000000</td>\n",
              "      <td>0.009009</td>\n",
              "      <td>0.009091</td>\n",
              "      <td>0.006536</td>\n",
              "      <td>0.006601</td>\n",
              "      <td>0.45098</td>\n",
              "      <td>0.846906</td>\n",
              "      <td>0.0</td>\n",
              "    </tr>\n",
              "    <tr>\n",
              "      <th>96001</th>\n",
              "      <td>games.teamxbox.com/xbox-360/1860/Dead-Space/</td>\n",
              "      <td>63029</td>\n",
              "      <td>1.0</td>\n",
              "      <td>0.0</td>\n",
              "      <td>3.0</td>\n",
              "      <td>114.0</td>\n",
              "      <td>128.333333</td>\n",
              "      <td>0.002899</td>\n",
              "      <td>0.002577</td>\n",
              "      <td>0.002907</td>\n",
              "      <td>0.002584</td>\n",
              "      <td>0.75</td>\n",
              "      <td>0.714623</td>\n",
              "      <td>0.0</td>\n",
              "    </tr>\n",
              "    <tr>\n",
              "      <th>96002</th>\n",
              "      <td>www.gamespot.com/xbox360/action/deadspace/</td>\n",
              "      <td>753</td>\n",
              "      <td>1.0</td>\n",
              "      <td>1.0</td>\n",
              "      <td>3.0</td>\n",
              "      <td>91.0</td>\n",
              "      <td>101.333333</td>\n",
              "      <td>0.000000</td>\n",
              "      <td>0.003106</td>\n",
              "      <td>0.000000</td>\n",
              "      <td>0.000000</td>\n",
              "      <td>0.111111</td>\n",
              "      <td>0.648571</td>\n",
              "      <td>0.0</td>\n",
              "    </tr>\n",
              "    <tr>\n",
              "      <th>96003</th>\n",
              "      <td>en.wikipedia.org/wiki/Dead_Space_(video_game)</td>\n",
              "      <td>6</td>\n",
              "      <td>1.0</td>\n",
              "      <td>1.0</td>\n",
              "      <td>4.0</td>\n",
              "      <td>682.0</td>\n",
              "      <td>744.250000</td>\n",
              "      <td>0.033075</td>\n",
              "      <td>0.029412</td>\n",
              "      <td>0.030250</td>\n",
              "      <td>0.029145</td>\n",
              "      <td>0.809735</td>\n",
              "      <td>0.840323</td>\n",
              "      <td>0.0</td>\n",
              "    </tr>\n",
              "    <tr>\n",
              "      <th>96004</th>\n",
              "      <td>www.angelfire.com/goth/devilmaycrytonite/</td>\n",
              "      <td>2547</td>\n",
              "      <td>1.0</td>\n",
              "      <td>1.0</td>\n",
              "      <td>5.0</td>\n",
              "      <td>32.4</td>\n",
              "      <td>27.200000</td>\n",
              "      <td>0.022222</td>\n",
              "      <td>0.032680</td>\n",
              "      <td>0.017341</td>\n",
              "      <td>0.020408</td>\n",
              "      <td>0.636364</td>\n",
              "      <td>0.674157</td>\n",
              "      <td>0.0</td>\n",
              "    </tr>\n",
              "  </tbody>\n",
              "</table>\n",
              "</div>\n",
              "    <div class=\"colab-df-buttons\">\n",
              "\n",
              "  <div class=\"colab-df-container\">\n",
              "    <button class=\"colab-df-convert\" onclick=\"convertToInteractive('df-2b3bd6c3-801d-4402-8d6a-9febbf5c7064')\"\n",
              "            title=\"Convert this dataframe to an interactive table.\"\n",
              "            style=\"display:none;\">\n",
              "\n",
              "  <svg xmlns=\"http://www.w3.org/2000/svg\" height=\"24px\" viewBox=\"0 -960 960 960\">\n",
              "    <path d=\"M120-120v-720h720v720H120Zm60-500h600v-160H180v160Zm220 220h160v-160H400v160Zm0 220h160v-160H400v160ZM180-400h160v-160H180v160Zm440 0h160v-160H620v160ZM180-180h160v-160H180v160Zm440 0h160v-160H620v160Z\"/>\n",
              "  </svg>\n",
              "    </button>\n",
              "\n",
              "  <style>\n",
              "    .colab-df-container {\n",
              "      display:flex;\n",
              "      gap: 12px;\n",
              "    }\n",
              "\n",
              "    .colab-df-convert {\n",
              "      background-color: #E8F0FE;\n",
              "      border: none;\n",
              "      border-radius: 50%;\n",
              "      cursor: pointer;\n",
              "      display: none;\n",
              "      fill: #1967D2;\n",
              "      height: 32px;\n",
              "      padding: 0 0 0 0;\n",
              "      width: 32px;\n",
              "    }\n",
              "\n",
              "    .colab-df-convert:hover {\n",
              "      background-color: #E2EBFA;\n",
              "      box-shadow: 0px 1px 2px rgba(60, 64, 67, 0.3), 0px 1px 3px 1px rgba(60, 64, 67, 0.15);\n",
              "      fill: #174EA6;\n",
              "    }\n",
              "\n",
              "    .colab-df-buttons div {\n",
              "      margin-bottom: 4px;\n",
              "    }\n",
              "\n",
              "    [theme=dark] .colab-df-convert {\n",
              "      background-color: #3B4455;\n",
              "      fill: #D2E3FC;\n",
              "    }\n",
              "\n",
              "    [theme=dark] .colab-df-convert:hover {\n",
              "      background-color: #434B5C;\n",
              "      box-shadow: 0px 1px 3px 1px rgba(0, 0, 0, 0.15);\n",
              "      filter: drop-shadow(0px 1px 2px rgba(0, 0, 0, 0.3));\n",
              "      fill: #FFFFFF;\n",
              "    }\n",
              "  </style>\n",
              "\n",
              "    <script>\n",
              "      const buttonEl =\n",
              "        document.querySelector('#df-2b3bd6c3-801d-4402-8d6a-9febbf5c7064 button.colab-df-convert');\n",
              "      buttonEl.style.display =\n",
              "        google.colab.kernel.accessAllowed ? 'block' : 'none';\n",
              "\n",
              "      async function convertToInteractive(key) {\n",
              "        const element = document.querySelector('#df-2b3bd6c3-801d-4402-8d6a-9febbf5c7064');\n",
              "        const dataTable =\n",
              "          await google.colab.kernel.invokeFunction('convertToInteractive',\n",
              "                                                    [key], {});\n",
              "        if (!dataTable) return;\n",
              "\n",
              "        const docLinkHtml = 'Like what you see? Visit the ' +\n",
              "          '<a target=\"_blank\" href=https://colab.research.google.com/notebooks/data_table.ipynb>data table notebook</a>'\n",
              "          + ' to learn more about interactive tables.';\n",
              "        element.innerHTML = '';\n",
              "        dataTable['output_type'] = 'display_data';\n",
              "        await google.colab.output.renderOutput(dataTable, element);\n",
              "        const docLink = document.createElement('div');\n",
              "        docLink.innerHTML = docLinkHtml;\n",
              "        element.appendChild(docLink);\n",
              "      }\n",
              "    </script>\n",
              "  </div>\n",
              "\n",
              "\n",
              "<div id=\"df-ffae503a-bebe-4076-b317-f7bec18d7908\">\n",
              "  <button class=\"colab-df-quickchart\" onclick=\"quickchart('df-ffae503a-bebe-4076-b317-f7bec18d7908')\"\n",
              "            title=\"Suggest charts\"\n",
              "            style=\"display:none;\">\n",
              "\n",
              "<svg xmlns=\"http://www.w3.org/2000/svg\" height=\"24px\"viewBox=\"0 0 24 24\"\n",
              "     width=\"24px\">\n",
              "    <g>\n",
              "        <path d=\"M19 3H5c-1.1 0-2 .9-2 2v14c0 1.1.9 2 2 2h14c1.1 0 2-.9 2-2V5c0-1.1-.9-2-2-2zM9 17H7v-7h2v7zm4 0h-2V7h2v10zm4 0h-2v-4h2v4z\"/>\n",
              "    </g>\n",
              "</svg>\n",
              "  </button>\n",
              "\n",
              "<style>\n",
              "  .colab-df-quickchart {\n",
              "      --bg-color: #E8F0FE;\n",
              "      --fill-color: #1967D2;\n",
              "      --hover-bg-color: #E2EBFA;\n",
              "      --hover-fill-color: #174EA6;\n",
              "      --disabled-fill-color: #AAA;\n",
              "      --disabled-bg-color: #DDD;\n",
              "  }\n",
              "\n",
              "  [theme=dark] .colab-df-quickchart {\n",
              "      --bg-color: #3B4455;\n",
              "      --fill-color: #D2E3FC;\n",
              "      --hover-bg-color: #434B5C;\n",
              "      --hover-fill-color: #FFFFFF;\n",
              "      --disabled-bg-color: #3B4455;\n",
              "      --disabled-fill-color: #666;\n",
              "  }\n",
              "\n",
              "  .colab-df-quickchart {\n",
              "    background-color: var(--bg-color);\n",
              "    border: none;\n",
              "    border-radius: 50%;\n",
              "    cursor: pointer;\n",
              "    display: none;\n",
              "    fill: var(--fill-color);\n",
              "    height: 32px;\n",
              "    padding: 0;\n",
              "    width: 32px;\n",
              "  }\n",
              "\n",
              "  .colab-df-quickchart:hover {\n",
              "    background-color: var(--hover-bg-color);\n",
              "    box-shadow: 0 1px 2px rgba(60, 64, 67, 0.3), 0 1px 3px 1px rgba(60, 64, 67, 0.15);\n",
              "    fill: var(--button-hover-fill-color);\n",
              "  }\n",
              "\n",
              "  .colab-df-quickchart-complete:disabled,\n",
              "  .colab-df-quickchart-complete:disabled:hover {\n",
              "    background-color: var(--disabled-bg-color);\n",
              "    fill: var(--disabled-fill-color);\n",
              "    box-shadow: none;\n",
              "  }\n",
              "\n",
              "  .colab-df-spinner {\n",
              "    border: 2px solid var(--fill-color);\n",
              "    border-color: transparent;\n",
              "    border-bottom-color: var(--fill-color);\n",
              "    animation:\n",
              "      spin 1s steps(1) infinite;\n",
              "  }\n",
              "\n",
              "  @keyframes spin {\n",
              "    0% {\n",
              "      border-color: transparent;\n",
              "      border-bottom-color: var(--fill-color);\n",
              "      border-left-color: var(--fill-color);\n",
              "    }\n",
              "    20% {\n",
              "      border-color: transparent;\n",
              "      border-left-color: var(--fill-color);\n",
              "      border-top-color: var(--fill-color);\n",
              "    }\n",
              "    30% {\n",
              "      border-color: transparent;\n",
              "      border-left-color: var(--fill-color);\n",
              "      border-top-color: var(--fill-color);\n",
              "      border-right-color: var(--fill-color);\n",
              "    }\n",
              "    40% {\n",
              "      border-color: transparent;\n",
              "      border-right-color: var(--fill-color);\n",
              "      border-top-color: var(--fill-color);\n",
              "    }\n",
              "    60% {\n",
              "      border-color: transparent;\n",
              "      border-right-color: var(--fill-color);\n",
              "    }\n",
              "    80% {\n",
              "      border-color: transparent;\n",
              "      border-right-color: var(--fill-color);\n",
              "      border-bottom-color: var(--fill-color);\n",
              "    }\n",
              "    90% {\n",
              "      border-color: transparent;\n",
              "      border-bottom-color: var(--fill-color);\n",
              "    }\n",
              "  }\n",
              "</style>\n",
              "\n",
              "  <script>\n",
              "    async function quickchart(key) {\n",
              "      const quickchartButtonEl =\n",
              "        document.querySelector('#' + key + ' button');\n",
              "      quickchartButtonEl.disabled = true;  // To prevent multiple clicks.\n",
              "      quickchartButtonEl.classList.add('colab-df-spinner');\n",
              "      try {\n",
              "        const charts = await google.colab.kernel.invokeFunction(\n",
              "            'suggestCharts', [key], {});\n",
              "      } catch (error) {\n",
              "        console.error('Error during call to suggestCharts:', error);\n",
              "      }\n",
              "      quickchartButtonEl.classList.remove('colab-df-spinner');\n",
              "      quickchartButtonEl.classList.add('colab-df-quickchart-complete');\n",
              "    }\n",
              "    (() => {\n",
              "      let quickchartButtonEl =\n",
              "        document.querySelector('#df-ffae503a-bebe-4076-b317-f7bec18d7908 button');\n",
              "      quickchartButtonEl.style.display =\n",
              "        google.colab.kernel.accessAllowed ? 'block' : 'none';\n",
              "    })();\n",
              "  </script>\n",
              "</div>\n",
              "\n",
              "    </div>\n",
              "  </div>\n"
            ],
            "application/vnd.google.colaboratory.intrinsic+json": {
              "type": "dataframe",
              "repr_error": "0"
            }
          },
          "metadata": {},
          "execution_count": 9
        }
      ],
      "source": [
        "phishing.tail()"
      ]
    },
    {
      "cell_type": "code",
      "execution_count": 10,
      "metadata": {
        "id": "5EGh3OdYL4Gf",
        "colab": {
          "base_uri": "https://localhost:8080/"
        },
        "outputId": "34ff99fd-8245-470f-eec1-2c8e4c4f7963"
      },
      "outputs": [
        {
          "output_type": "execute_result",
          "data": {
            "text/plain": [
              "domain            0\n",
              "ranking          52\n",
              "mld_res          70\n",
              "mld.ps_res       81\n",
              "card_rem         82\n",
              "ratio_Rrem       82\n",
              "ratio_Arem       82\n",
              "jaccard_RR       83\n",
              "jaccard_RA       84\n",
              "jaccard_AR       85\n",
              "jaccard_AA       86\n",
              "jaccard_ARrd     86\n",
              "jaccard_ARrem    88\n",
              "label            92\n",
              "dtype: int64"
            ]
          },
          "metadata": {},
          "execution_count": 10
        }
      ],
      "source": [
        "phishing.isnull().sum()"
      ]
    },
    {
      "cell_type": "code",
      "execution_count": 11,
      "metadata": {
        "id": "nhX3kCn6L4JN",
        "colab": {
          "base_uri": "https://localhost:8080/",
          "height": 544
        },
        "outputId": "d37cb52c-b25e-48b8-d183-97ff36afa546"
      },
      "outputs": [
        {
          "output_type": "execute_result",
          "data": {
            "text/plain": [
              "<Axes: >"
            ]
          },
          "metadata": {},
          "execution_count": 11
        },
        {
          "output_type": "display_data",
          "data": {
            "text/plain": [
              "<Figure size 640x480 with 2 Axes>"
            ],
            "image/png": "[encoded data removed]"
          },
          "metadata": {}
        }
      ],
      "source": [
        "sns.heatmap(phishing.isnull(),yticklabels = False, cbar =True, cmap = 'viridis')"
      ]
    },
    {
      "cell_type": "code",
      "execution_count": 12,
      "metadata": {
        "id": "pRaJfaenL4Lp"
      },
      "outputs": [],
      "source": [
        "phishing = phishing.drop(columns=['domain'])"
      ]
    },
    {
      "cell_type": "code",
      "execution_count": 13,
      "metadata": {
        "id": "jva4s8NUL4Nw"
      },
      "outputs": [],
      "source": [
        "phishing_numeric = phishing.apply(pd.to_numeric, errors='coerce')"
      ]
    },
    {
      "cell_type": "code",
      "execution_count": 14,
      "metadata": {
        "id": "eaJoKpsbL4QJ"
      },
      "outputs": [],
      "source": [
        "def fill_ranking(cols):\n",
        "    ranking = cols[0]\n",
        "    if pd.isnull(ranking):\n",
        "        return 10000000\n",
        "    else:\n",
        "        return ranking\n",
        "\n",
        "def fill_mld_res(cols):\n",
        "    mld_res = cols[0]\n",
        "    if pd.isnull(mld_res):\n",
        "        return 0\n",
        "    else:\n",
        "        return mld_res\n",
        "\n",
        "def fill_mld_ps_res(cols):\n",
        "    mld_ps_res = cols[0]\n",
        "    if pd.isnull(mld_ps_res):\n",
        "        return 0\n",
        "    else:\n",
        "        return mld_ps_res\n",
        "\n",
        "def fill_card_rem(cols):\n",
        "    card_rem = cols[0]\n",
        "    if pd.isnull(card_rem):\n",
        "        return 6\n",
        "    else:\n",
        "        return card_rem\n",
        "\n",
        "def fill_ratio_Rrem(cols):\n",
        "    ratio_Rrem = cols[0]\n",
        "    if pd.isnull(ratio_Rrem):\n",
        "        return 152.674\n",
        "    else:\n",
        "        return ratio_Rrem\n",
        "\n",
        "def fill_ratio_Arem(cols):\n",
        "    ratio_Arem = cols[0]\n",
        "    if pd.isnull(ratio_Arem):\n",
        "        return 82\n",
        "    else:\n",
        "        return ratio_Arem\n",
        "\n",
        "def fill_jaccard_RR(cols):\n",
        "    jaccard_RR = cols[0]\n",
        "    if pd.isnull(jaccard_RR):\n",
        "        return 0\n",
        "    else:\n",
        "        return jaccard_RR\n",
        "\n",
        "def fill_jaccard_RA(cols):\n",
        "    jaccard_RA = cols[0]\n",
        "    if pd.isnull(jaccard_RA):\n",
        "        return 0\n",
        "    else:\n",
        "        return jaccard_RA\n",
        "\n",
        "def fill_jaccard_AR(cols):\n",
        "    jaccard_AR = cols[0]\n",
        "    if pd.isnull(jaccard_AR):\n",
        "        return 0\n",
        "    else:\n",
        "        return jaccard_AR\n",
        "\n",
        "def fill_jaccard_AA(cols):\n",
        "    jaccard_AA = cols[0]\n",
        "    if pd.isnull(jaccard_AA):\n",
        "        return 0\n",
        "    else:\n",
        "        return jaccard_AA\n",
        "\n",
        "def fill_jaccard_ARrd(cols):\n",
        "    jaccard_ARrd = cols[0]\n",
        "    if pd.isnull(jaccard_ARrd):\n",
        "        return 0\n",
        "    else:\n",
        "        return jaccard_ARrd\n",
        "\n",
        "def fill_jaccard_ARrem(cols):\n",
        "    jaccard_ARrem = cols[0]\n",
        "    if pd.isnull(jaccard_ARrem):\n",
        "        return 0.633333333\n",
        "    else:\n",
        "        return jaccard_ARrem\n",
        "\n",
        "def fill_label(cols):\n",
        "    label = cols[0]\n",
        "    if pd.isnull(label):\n",
        "        return 1\n",
        "    else:\n",
        "        return label"
      ]
    },
    {
      "cell_type": "code",
      "execution_count": 15,
      "metadata": {
        "id": "j4WXcWaWL4Sn"
      },
      "outputs": [],
      "source": [
        "phishing['ranking'] = phishing[['ranking']].apply(fill_ranking, axis=1)\n",
        "phishing['mld_res'] = phishing[['mld_res']].apply(fill_mld_res, axis=1)\n",
        "phishing['mld.ps_res'] = phishing[['mld.ps_res']].apply(fill_mld_ps_res, axis=1)\n",
        "phishing['card_rem'] = phishing[['card_rem']].apply(fill_card_rem, axis=1)\n",
        "phishing['ratio_Rrem'] = phishing[['ratio_Rrem']].apply(fill_ratio_Rrem, axis=1)\n",
        "phishing['ratio_Arem'] = phishing[['ratio_Arem']].apply(fill_ratio_Arem, axis=1)\n",
        "phishing['jaccard_RR'] = phishing[['jaccard_RR']].apply(fill_jaccard_RR, axis=1)\n",
        "phishing['jaccard_RA'] = phishing[['jaccard_RA']].apply(fill_jaccard_RA, axis=1)\n",
        "phishing['jaccard_AR'] = phishing[['jaccard_AR']].apply(fill_jaccard_AR, axis=1)\n",
        "phishing['jaccard_AA'] = phishing[['jaccard_AA']].apply(fill_jaccard_AA, axis=1)\n",
        "phishing['jaccard_ARrd'] = phishing[['jaccard_ARrd']].apply(fill_jaccard_ARrd, axis=1)\n",
        "phishing['jaccard_ARrem'] = phishing[['jaccard_ARrem']].apply(fill_jaccard_ARrem, axis=1)\n",
        "phishing['label'] = phishing[['label']].apply(fill_label, axis=1)"
      ]
    },
    {
      "cell_type": "code",
      "execution_count": 16,
      "metadata": {
        "id": "Dsc0n7MSM4TD",
        "colab": {
          "base_uri": "https://localhost:8080/",
          "height": 544
        },
        "outputId": "e53d1f6b-642c-46ac-f94d-0dd27e100ff9"
      },
      "outputs": [
        {
          "output_type": "execute_result",
          "data": {
            "text/plain": [
              "<Axes: >"
            ]
          },
          "metadata": {},
          "execution_count": 16
        },
        {
          "output_type": "display_data",
          "data": {
            "text/plain": [
              "<Figure size 640x480 with 2 Axes>"
            ],
            "image/png": "[encoded data removed]"
          },
          "metadata": {}
        }
      ],
      "source": [
        "sns.heatmap(phishing.isnull(), yticklabels=False, cbar=True, cmap='viridis')"
      ]
    },
    {
      "cell_type": "code",
      "execution_count": 17,
      "metadata": {
        "id": "OI3cYyxaM4Pr"
      },
      "outputs": [],
      "source": [
        "for col in phishing.columns:\n",
        "    phishing[col] = pd.to_numeric(phishing[col], errors='coerce')\n",
        "\n",
        "# Drop rows with any remaining non-numeric values\n",
        "phishing.dropna(inplace=True)"
      ]
    },
    {
      "cell_type": "code",
      "execution_count": 18,
      "metadata": {
        "id": "e3_P-xrnM4IQ"
      },
      "outputs": [],
      "source": [
        "from sklearn.model_selection import train_test_split"
      ]
    },
    {
      "cell_type": "code",
      "execution_count": 19,
      "metadata": {
        "id": "2rUk4L0OM4Fy"
      },
      "outputs": [],
      "source": [
        "X = phishing.drop('label', axis=1)"
      ]
    },
    {
      "cell_type": "code",
      "execution_count": 20,
      "metadata": {
        "id": "H8UfpNDEM4Da"
      },
      "outputs": [],
      "source": [
        "y = phishing['label']"
      ]
    },
    {
      "cell_type": "code",
      "execution_count": 21,
      "metadata": {
        "id": "vTj7PMLhM4Av"
      },
      "outputs": [],
      "source": [
        "X_train, X_test, y_train, y_test = train_test_split(X, y, test_size=0.2, random_state=42)"
      ]
    },
    {
      "cell_type": "code",
      "execution_count": 22,
      "metadata": {
        "id": "2diB5fJ-L4U0",
        "colab": {
          "base_uri": "https://localhost:8080/"
        },
        "outputId": "6e94543c-91a6-4069-ab82-0fbf854f6207"
      },
      "outputs": [
        {
          "output_type": "execute_result",
          "data": {
            "text/plain": [
              "(76777, 12)"
            ]
          },
          "metadata": {},
          "execution_count": 22
        }
      ],
      "source": [
        "X_train.shape"
      ]
    },
    {
      "cell_type": "code",
      "execution_count": 23,
      "metadata": {
        "id": "cZWISm64PMUd",
        "colab": {
          "base_uri": "https://localhost:8080/",
          "height": 206
        },
        "outputId": "2e73e791-71f1-42c3-9240-f27f6de3326a"
      },
      "outputs": [
        {
          "output_type": "execute_result",
          "data": {
            "text/plain": [
              "          ranking  mld_res  mld.ps_res  card_rem  ratio_Rrem  ratio_Arem  \\\n",
              "88985  10000000.0      0.0         0.0       4.0  198.500000  211.000000   \n",
              "8248   10000000.0      0.0         0.0       1.0  197.000000  213.000000   \n",
              "86922    313605.0      0.0         0.0       1.0   14.000000   18.000000   \n",
              "15342  10000000.0      0.0         0.0      12.0  136.750000  134.583333   \n",
              "45499  10000000.0      0.0         0.0      11.0   82.272727   78.090909   \n",
              "\n",
              "       jaccard_RR  jaccard_RA  jaccard_AR  jaccard_AA  jaccard_ARrd  \\\n",
              "88985         0.0         0.0         0.0         0.0           0.0   \n",
              "8248          0.0         0.0         0.0         0.0           0.0   \n",
              "86922         0.0         0.0         0.0         0.0           0.0   \n",
              "15342         0.0         0.0         0.0         0.0           0.0   \n",
              "45499         0.0         0.0         0.0         0.0           0.0   \n",
              "\n",
              "       jaccard_ARrem  \n",
              "88985       0.800000  \n",
              "8248        0.722689  \n",
              "86922       0.454545  \n",
              "15342       0.771491  \n",
              "45499       0.697786  "
            ],
            "text/html": [
              "\n",
              "  <div id=\"df-193c137d-ea3e-466c-bb3b-6aa2d7fd5c47\" class=\"colab-df-container\">\n",
              "    <div>\n",
              "<style scoped>\n",
              "    .dataframe tbody tr th:only-of-type {\n",
              "        vertical-align: middle;\n",
              "    }\n",
              "\n",
              "    .dataframe tbody tr th {\n",
              "        vertical-align: top;\n",
              "    }\n",
              "\n",
              "    .dataframe thead th {\n",
              "        text-align: right;\n",
              "    }\n",
              "</style>\n",
              "<table border=\"1\" class=\"dataframe\">\n",
              "  <thead>\n",
              "    <tr style=\"text-align: right;\">\n",
              "      <th></th>\n",
              "      <th>ranking</th>\n",
              "      <th>mld_res</th>\n",
              "      <th>mld.ps_res</th>\n",
              "      <th>card_rem</th>\n",
              "      <th>ratio_Rrem</th>\n",
              "      <th>ratio_Arem</th>\n",
              "      <th>jaccard_RR</th>\n",
              "      <th>jaccard_RA</th>\n",
              "      <th>jaccard_AR</th>\n",
              "      <th>jaccard_AA</th>\n",
              "      <th>jaccard_ARrd</th>\n",
              "      <th>jaccard_ARrem</th>\n",
              "    </tr>\n",
              "  </thead>\n",
              "  <tbody>\n",
              "    <tr>\n",
              "      <th>88985</th>\n",
              "      <td>10000000.0</td>\n",
              "      <td>0.0</td>\n",
              "      <td>0.0</td>\n",
              "      <td>4.0</td>\n",
              "      <td>198.500000</td>\n",
              "      <td>211.000000</td>\n",
              "      <td>0.0</td>\n",
              "      <td>0.0</td>\n",
              "      <td>0.0</td>\n",
              "      <td>0.0</td>\n",
              "      <td>0.0</td>\n",
              "      <td>0.800000</td>\n",
              "    </tr>\n",
              "    <tr>\n",
              "      <th>8248</th>\n",
              "      <td>10000000.0</td>\n",
              "      <td>0.0</td>\n",
              "      <td>0.0</td>\n",
              "      <td>1.0</td>\n",
              "      <td>197.000000</td>\n",
              "      <td>213.000000</td>\n",
              "      <td>0.0</td>\n",
              "      <td>0.0</td>\n",
              "      <td>0.0</td>\n",
              "      <td>0.0</td>\n",
              "      <td>0.0</td>\n",
              "      <td>0.722689</td>\n",
              "    </tr>\n",
              "    <tr>\n",
              "      <th>86922</th>\n",
              "      <td>313605.0</td>\n",
              "      <td>0.0</td>\n",
              "      <td>0.0</td>\n",
              "      <td>1.0</td>\n",
              "      <td>14.000000</td>\n",
              "      <td>18.000000</td>\n",
              "      <td>0.0</td>\n",
              "      <td>0.0</td>\n",
              "      <td>0.0</td>\n",
              "      <td>0.0</td>\n",
              "      <td>0.0</td>\n",
              "      <td>0.454545</td>\n",
              "    </tr>\n",
              "    <tr>\n",
              "      <th>15342</th>\n",
              "      <td>10000000.0</td>\n",
              "      <td>0.0</td>\n",
              "      <td>0.0</td>\n",
              "      <td>12.0</td>\n",
              "      <td>136.750000</td>\n",
              "      <td>134.583333</td>\n",
              "      <td>0.0</td>\n",
              "      <td>0.0</td>\n",
              "      <td>0.0</td>\n",
              "      <td>0.0</td>\n",
              "      <td>0.0</td>\n",
              "      <td>0.771491</td>\n",
              "    </tr>\n",
              "    <tr>\n",
              "      <th>45499</th>\n",
              "      <td>10000000.0</td>\n",
              "      <td>0.0</td>\n",
              "      <td>0.0</td>\n",
              "      <td>11.0</td>\n",
              "      <td>82.272727</td>\n",
              "      <td>78.090909</td>\n",
              "      <td>0.0</td>\n",
              "      <td>0.0</td>\n",
              "      <td>0.0</td>\n",
              "      <td>0.0</td>\n",
              "      <td>0.0</td>\n",
              "      <td>0.697786</td>\n",
              "    </tr>\n",
              "  </tbody>\n",
              "</table>\n",
              "</div>\n",
              "    <div class=\"colab-df-buttons\">\n",
              "\n",
              "  <div class=\"colab-df-container\">\n",
              "    <button class=\"colab-df-convert\" onclick=\"convertToInteractive('df-193c137d-ea3e-466c-bb3b-6aa2d7fd5c47')\"\n",
              "            title=\"Convert this dataframe to an interactive table.\"\n",
              "            style=\"display:none;\">\n",
              "\n",
              "  <svg xmlns=\"http://www.w3.org/2000/svg\" height=\"24px\" viewBox=\"0 -960 960 960\">\n",
              "    <path d=\"M120-120v-720h720v720H120Zm60-500h600v-160H180v160Zm220 220h160v-160H400v160Zm0 220h160v-160H400v160ZM180-400h160v-160H180v160Zm440 0h160v-160H620v160ZM180-180h160v-160H180v160Zm440 0h160v-160H620v160Z\"/>\n",
              "  </svg>\n",
              "    </button>\n",
              "\n",
              "  <style>\n",
              "    .colab-df-container {\n",
              "      display:flex;\n",
              "      gap: 12px;\n",
              "    }\n",
              "\n",
              "    .colab-df-convert {\n",
              "      background-color: #E8F0FE;\n",
              "      border: none;\n",
              "      border-radius: 50%;\n",
              "      cursor: pointer;\n",
              "      display: none;\n",
              "      fill: #1967D2;\n",
              "      height: 32px;\n",
              "      padding: 0 0 0 0;\n",
              "      width: 32px;\n",
              "    }\n",
              "\n",
              "    .colab-df-convert:hover {\n",
              "      background-color: #E2EBFA;\n",
              "      box-shadow: 0px 1px 2px rgba(60, 64, 67, 0.3), 0px 1px 3px 1px rgba(60, 64, 67, 0.15);\n",
              "      fill: #174EA6;\n",
              "    }\n",
              "\n",
              "    .colab-df-buttons div {\n",
              "      margin-bottom: 4px;\n",
              "    }\n",
              "\n",
              "    [theme=dark] .colab-df-convert {\n",
              "      background-color: #3B4455;\n",
              "      fill: #D2E3FC;\n",
              "    }\n",
              "\n",
              "    [theme=dark] .colab-df-convert:hover {\n",
              "      background-color: #434B5C;\n",
              "      box-shadow: 0px 1px 3px 1px rgba(0, 0, 0, 0.15);\n",
              "      filter: drop-shadow(0px 1px 2px rgba(0, 0, 0, 0.3));\n",
              "      fill: #FFFFFF;\n",
              "    }\n",
              "  </style>\n",
              "\n",
              "    <script>\n",
              "      const buttonEl =\n",
              "        document.querySelector('#df-193c137d-ea3e-466c-bb3b-6aa2d7fd5c47 button.colab-df-convert');\n",
              "      buttonEl.style.display =\n",
              "        google.colab.kernel.accessAllowed ? 'block' : 'none';\n",
              "\n",
              "      async function convertToInteractive(key) {\n",
              "        const element = document.querySelector('#df-193c137d-ea3e-466c-bb3b-6aa2d7fd5c47');\n",
              "        const dataTable =\n",
              "          await google.colab.kernel.invokeFunction('convertToInteractive',\n",
              "                                                    [key], {});\n",
              "        if (!dataTable) return;\n",
              "\n",
              "        const docLinkHtml = 'Like what you see? Visit the ' +\n",
              "          '<a target=\"_blank\" href=https://colab.research.google.com/notebooks/data_table.ipynb>data table notebook</a>'\n",
              "          + ' to learn more about interactive tables.';\n",
              "        element.innerHTML = '';\n",
              "        dataTable['output_type'] = 'display_data';\n",
              "        await google.colab.output.renderOutput(dataTable, element);\n",
              "        const docLink = document.createElement('div');\n",
              "        docLink.innerHTML = docLinkHtml;\n",
              "        element.appendChild(docLink);\n",
              "      }\n",
              "    </script>\n",
              "  </div>\n",
              "\n",
              "\n",
              "<div id=\"df-c234ff55-a75f-42f9-88a9-03bf7140dad2\">\n",
              "  <button class=\"colab-df-quickchart\" onclick=\"quickchart('df-c234ff55-a75f-42f9-88a9-03bf7140dad2')\"\n",
              "            title=\"Suggest charts\"\n",
              "            style=\"display:none;\">\n",
              "\n",
              "<svg xmlns=\"http://www.w3.org/2000/svg\" height=\"24px\"viewBox=\"0 0 24 24\"\n",
              "     width=\"24px\">\n",
              "    <g>\n",
              "        <path d=\"M19 3H5c-1.1 0-2 .9-2 2v14c0 1.1.9 2 2 2h14c1.1 0 2-.9 2-2V5c0-1.1-.9-2-2-2zM9 17H7v-7h2v7zm4 0h-2V7h2v10zm4 0h-2v-4h2v4z\"/>\n",
              "    </g>\n",
              "</svg>\n",
              "  </button>\n",
              "\n",
              "<style>\n",
              "  .colab-df-quickchart {\n",
              "      --bg-color: #E8F0FE;\n",
              "      --fill-color: #1967D2;\n",
              "      --hover-bg-color: #E2EBFA;\n",
              "      --hover-fill-color: #174EA6;\n",
              "      --disabled-fill-color: #AAA;\n",
              "      --disabled-bg-color: #DDD;\n",
              "  }\n",
              "\n",
              "  [theme=dark] .colab-df-quickchart {\n",
              "      --bg-color: #3B4455;\n",
              "      --fill-color: #D2E3FC;\n",
              "      --hover-bg-color: #434B5C;\n",
              "      --hover-fill-color: #FFFFFF;\n",
              "      --disabled-bg-color: #3B4455;\n",
              "      --disabled-fill-color: #666;\n",
              "  }\n",
              "\n",
              "  .colab-df-quickchart {\n",
              "    background-color: var(--bg-color);\n",
              "    border: none;\n",
              "    border-radius: 50%;\n",
              "    cursor: pointer;\n",
              "    display: none;\n",
              "    fill: var(--fill-color);\n",
              "    height: 32px;\n",
              "    padding: 0;\n",
              "    width: 32px;\n",
              "  }\n",
              "\n",
              "  .colab-df-quickchart:hover {\n",
              "    background-color: var(--hover-bg-color);\n",
              "    box-shadow: 0 1px 2px rgba(60, 64, 67, 0.3), 0 1px 3px 1px rgba(60, 64, 67, 0.15);\n",
              "    fill: var(--button-hover-fill-color);\n",
              "  }\n",
              "\n",
              "  .colab-df-quickchart-complete:disabled,\n",
              "  .colab-df-quickchart-complete:disabled:hover {\n",
              "    background-color: var(--disabled-bg-color);\n",
              "    fill: var(--disabled-fill-color);\n",
              "    box-shadow: none;\n",
              "  }\n",
              "\n",
              "  .colab-df-spinner {\n",
              "    border: 2px solid var(--fill-color);\n",
              "    border-color: transparent;\n",
              "    border-bottom-color: var(--fill-color);\n",
              "    animation:\n",
              "      spin 1s steps(1) infinite;\n",
              "  }\n",
              "\n",
              "  @keyframes spin {\n",
              "    0% {\n",
              "      border-color: transparent;\n",
              "      border-bottom-color: var(--fill-color);\n",
              "      border-left-color: var(--fill-color);\n",
              "    }\n",
              "    20% {\n",
              "      border-color: transparent;\n",
              "      border-left-color: var(--fill-color);\n",
              "      border-top-color: var(--fill-color);\n",
              "    }\n",
              "    30% {\n",
              "      border-color: transparent;\n",
              "      border-left-color: var(--fill-color);\n",
              "      border-top-color: var(--fill-color);\n",
              "      border-right-color: var(--fill-color);\n",
              "    }\n",
              "    40% {\n",
              "      border-color: transparent;\n",
              "      border-right-color: var(--fill-color);\n",
              "      border-top-color: var(--fill-color);\n",
              "    }\n",
              "    60% {\n",
              "      border-color: transparent;\n",
              "      border-right-color: var(--fill-color);\n",
              "    }\n",
              "    80% {\n",
              "      border-color: transparent;\n",
              "      border-right-color: var(--fill-color);\n",
              "      border-bottom-color: var(--fill-color);\n",
              "    }\n",
              "    90% {\n",
              "      border-color: transparent;\n",
              "      border-bottom-color: var(--fill-color);\n",
              "    }\n",
              "  }\n",
              "</style>\n",
              "\n",
              "  <script>\n",
              "    async function quickchart(key) {\n",
              "      const quickchartButtonEl =\n",
              "        document.querySelector('#' + key + ' button');\n",
              "      quickchartButtonEl.disabled = true;  // To prevent multiple clicks.\n",
              "      quickchartButtonEl.classList.add('colab-df-spinner');\n",
              "      try {\n",
              "        const charts = await google.colab.kernel.invokeFunction(\n",
              "            'suggestCharts', [key], {});\n",
              "      } catch (error) {\n",
              "        console.error('Error during call to suggestCharts:', error);\n",
              "      }\n",
              "      quickchartButtonEl.classList.remove('colab-df-spinner');\n",
              "      quickchartButtonEl.classList.add('colab-df-quickchart-complete');\n",
              "    }\n",
              "    (() => {\n",
              "      let quickchartButtonEl =\n",
              "        document.querySelector('#df-c234ff55-a75f-42f9-88a9-03bf7140dad2 button');\n",
              "      quickchartButtonEl.style.display =\n",
              "        google.colab.kernel.accessAllowed ? 'block' : 'none';\n",
              "    })();\n",
              "  </script>\n",
              "</div>\n",
              "\n",
              "    </div>\n",
              "  </div>\n"
            ],
            "application/vnd.google.colaboratory.intrinsic+json": {
              "type": "dataframe",
              "variable_name": "X_train",
              "summary": "{\n  \"name\": \"X_train\",\n  \"rows\": 76777,\n  \"fields\": [\n    {\n      \"column\": \"ranking\",\n      \"properties\": {\n        \"dtype\": \"number\",\n        \"std\": 4878904.36519699,\n        \"min\": 0.0,\n        \"max\": 10000000.0,\n        \"num_unique_values\": 6161,\n        \"samples\": [\n          2927.0,\n          602.0,\n          203046.0\n        ],\n        \"semantic_type\": \"\",\n        \"description\": \"\"\n      }\n    },\n    {\n      \"column\": \"mld_res\",\n      \"properties\": {\n        \"dtype\": \"number\",\n        \"std\": 0.4994005925211006,\n        \"min\": 0.0,\n        \"max\": 11.0,\n        \"num_unique_values\": 3,\n        \"samples\": [\n          0.0,\n          1.0,\n          11.0\n        ],\n        \"semantic_type\": \"\",\n        \"description\": \"\"\n      }\n    },\n    {\n      \"column\": \"mld.ps_res\",\n      \"properties\": {\n        \"dtype\": \"number\",\n        \"std\": 0.6717762681077432,\n        \"min\": 0.0,\n        \"max\": 148.818182,\n        \"num_unique_values\": 5,\n        \"samples\": [\n          1.0,\n          11.0,\n          7.0\n        ],\n        \"semantic_type\": \"\",\n        \"description\": \"\"\n      }\n    },\n    {\n      \"column\": \"card_rem\",\n      \"properties\": {\n        \"dtype\": \"number\",\n        \"std\": 4.44024361982649,\n        \"min\": 0.0,\n        \"max\": 173.857143,\n        \"num_unique_values\": 47,\n        \"samples\": [\n          20.0,\n          39.0,\n          19.0\n        ],\n        \"semantic_type\": \"\",\n        \"description\": \"\"\n      }\n    },\n    {\n      \"column\": \"ratio_Rrem\",\n      \"properties\": {\n        \"dtype\": \"number\",\n        \"std\": 160.38113781697186,\n        \"min\": 0.0,\n        \"max\": 5507.0,\n        \"num_unique_values\": 9084,\n        \"samples\": [\n          371.75,\n          141.777778,\n          199.0\n        ],\n        \"semantic_type\": \"\",\n        \"description\": \"\"\n      }\n    },\n    {\n      \"column\": \"ratio_Arem\",\n      \"properties\": {\n        \"dtype\": \"number\",\n        \"std\": 174.83085755327443,\n        \"min\": 0.0,\n        \"max\": 6097.0,\n        \"num_unique_values\": 9248,\n        \"samples\": [\n          144.3,\n          380.5,\n          203.333333\n        ],\n        \"semantic_type\": \"\",\n        \"description\": \"\"\n      }\n    },\n    {\n      \"column\": \"jaccard_RR\",\n      \"properties\": {\n        \"dtype\": \"number\",\n        \"std\": 0.02886745431261714,\n        \"min\": 0.0,\n        \"max\": 1.0,\n        \"num_unique_values\": 4799,\n        \"samples\": [\n          0.006645,\n          0.090705,\n          0.324154\n        ],\n        \"semantic_type\": \"\",\n        \"description\": \"\"\n      }\n    },\n    {\n      \"column\": \"jaccard_RA\",\n      \"properties\": {\n        \"dtype\": \"number\",\n        \"std\": 0.02472445272423778,\n        \"min\": 0.0,\n        \"max\": 1.0,\n        \"num_unique_values\": 4958,\n        \"samples\": [\n          0.001662,\n          0.00064,\n          0.025092\n        ],\n        \"semantic_type\": \"\",\n        \"description\": \"\"\n      }\n    },\n    {\n      \"column\": \"jaccard_AR\",\n      \"properties\": {\n        \"dtype\": \"number\",\n        \"std\": 0.02381187988510818,\n        \"min\": 0.0,\n        \"max\": 1.0,\n        \"num_unique_values\": 4473,\n        \"samples\": [\n          0.353527,\n          0.079694,\n          0.02058\n        ],\n        \"semantic_type\": \"\",\n        \"description\": \"\"\n      }\n    },\n    {\n      \"column\": \"jaccard_AA\",\n      \"properties\": {\n        \"dtype\": \"number\",\n        \"std\": 0.028414227477436195,\n        \"min\": 0.0,\n        \"max\": 1.0,\n        \"num_unique_values\": 4672,\n        \"samples\": [\n          0.02544,\n          0.004754,\n          0.001504\n        ],\n        \"semantic_type\": \"\",\n        \"description\": \"\"\n      }\n    },\n    {\n      \"column\": \"jaccard_ARrd\",\n      \"properties\": {\n        \"dtype\": \"number\",\n        \"std\": 0.36276831162722006,\n        \"min\": 0.0,\n        \"max\": 1.0,\n        \"num_unique_values\": 667,\n        \"samples\": [\n          0.786517,\n          0.68,\n          0.603774\n        ],\n        \"semantic_type\": \"\",\n        \"description\": \"\"\n      }\n    },\n    {\n      \"column\": \"jaccard_ARrem\",\n      \"properties\": {\n        \"dtype\": \"number\",\n        \"std\": 0.20422616134319807,\n        \"min\": 0.0,\n        \"max\": 1.0,\n        \"num_unique_values\": 22677,\n        \"samples\": [\n          0.655072,\n          0.828056,\n          0.702222\n        ],\n        \"semantic_type\": \"\",\n        \"description\": \"\"\n      }\n    }\n  ]\n}"
            }
          },
          "metadata": {},
          "execution_count": 23
        }
      ],
      "source": [
        "X_train.head()"
      ]
    },
    {
      "cell_type": "code",
      "execution_count": 24,
      "metadata": {
        "id": "g6VGPPT2PMRd",
        "colab": {
          "base_uri": "https://localhost:8080/"
        },
        "outputId": "e1ac1168-d9f2-4caa-add1-c782355b34a3"
      },
      "outputs": [
        {
          "output_type": "execute_result",
          "data": {
            "text/plain": [
              "(19195, 12)"
            ]
          },
          "metadata": {},
          "execution_count": 24
        }
      ],
      "source": [
        "X_test.shape"
      ]
    },
    {
      "cell_type": "code",
      "execution_count": 25,
      "metadata": {
        "id": "bXmhLB3YPMPP",
        "colab": {
          "base_uri": "https://localhost:8080/"
        },
        "outputId": "ee5475ee-98cd-46b3-859f-2ca8c27f1f9e"
      },
      "outputs": [
        {
          "output_type": "execute_result",
          "data": {
            "text/plain": [
              "(76777,)"
            ]
          },
          "metadata": {},
          "execution_count": 25
        }
      ],
      "source": [
        "y_train.shape"
      ]
    },
    {
      "cell_type": "code",
      "execution_count": 26,
      "metadata": {
        "id": "tQVfj1fyPMNG",
        "colab": {
          "base_uri": "https://localhost:8080/"
        },
        "outputId": "d703c37b-bd02-4ec3-cc10-7841ee1678a4"
      },
      "outputs": [
        {
          "output_type": "execute_result",
          "data": {
            "text/plain": [
              "88985    0.0\n",
              "8248     1.0\n",
              "86922    0.0\n",
              "15342    1.0\n",
              "45499    1.0\n",
              "Name: label, dtype: float64"
            ]
          },
          "metadata": {},
          "execution_count": 26
        }
      ],
      "source": [
        "y_train.head()"
      ]
    },
    {
      "cell_type": "code",
      "execution_count": 27,
      "metadata": {
        "id": "I38hLTQ7PMLC",
        "colab": {
          "base_uri": "https://localhost:8080/"
        },
        "outputId": "96116f67-df6d-4bba-9ebb-9949b070d5e2"
      },
      "outputs": [
        {
          "output_type": "execute_result",
          "data": {
            "text/plain": [
              "(19195,)"
            ]
          },
          "metadata": {},
          "execution_count": 27
        }
      ],
      "source": [
        "y_test.shape"
      ]
    },
    {
      "cell_type": "code",
      "execution_count": 28,
      "metadata": {
        "id": "0T6uWXmQPMI4",
        "colab": {
          "base_uri": "https://localhost:8080/"
        },
        "outputId": "e1b8de41-af7a-4d0c-9233-ba74784034dd"
      },
      "outputs": [
        {
          "output_type": "execute_result",
          "data": {
            "text/plain": [
              "Index(['ranking', 'mld_res', 'mld.ps_res', 'card_rem', 'ratio_Rrem',\n",
              "       'ratio_Arem', 'jaccard_RR', 'jaccard_RA', 'jaccard_AR', 'jaccard_AA',\n",
              "       'jaccard_ARrd', 'jaccard_ARrem'],\n",
              "      dtype='object')"
            ]
          },
          "metadata": {},
          "execution_count": 28
        }
      ],
      "source": [
        "X_train.columns"
      ]
    },
    {
      "cell_type": "code",
      "execution_count": 29,
      "metadata": {
        "id": "8tlE57ugPME6"
      },
      "outputs": [],
      "source": [
        "from sklearn.linear_model import LogisticRegression"
      ]
    },
    {
      "cell_type": "code",
      "execution_count": 30,
      "metadata": {
        "id": "-up4MnN4PMB_"
      },
      "outputs": [],
      "source": [
        "logmodel = LogisticRegression()"
      ]
    },
    {
      "cell_type": "code",
      "execution_count": 31,
      "metadata": {
        "id": "orDm8iHhPL_c",
        "colab": {
          "base_uri": "https://localhost:8080/",
          "height": 74
        },
        "outputId": "de5ea3b8-ca85-4a9f-b9db-a9285ee95f56"
      },
      "outputs": [
        {
          "output_type": "execute_result",
          "data": {
            "text/plain": [
              "LogisticRegression()"
            ],
            "text/html": [
              "<style>#sk-container-id-1 {color: black;background-color: white;}#sk-container-id-1 pre{padding: 0;}#sk-container-id-1 div.sk-toggleable {background-color: white;}#sk-container-id-1 label.sk-toggleable__label {cursor: pointer;display: block;width: 100%;margin-bottom: 0;padding: 0.3em;box-sizing: border-box;text-align: center;}#sk-container-id-1 label.sk-toggleable__label-arrow:before {content: \"▸\";float: left;margin-right: 0.25em;color: #696969;}#sk-container-id-1 label.sk-toggleable__label-arrow:hover:before {color: black;}#sk-container-id-1 div.sk-estimator:hover label.sk-toggleable__label-arrow:before {color: black;}#sk-container-id-1 div.sk-toggleable__content {max-height: 0;max-width: 0;overflow: hidden;text-align: left;background-color: #f0f8ff;}#sk-container-id-1 div.sk-toggleable__content pre {margin: 0.2em;color: black;border-radius: 0.25em;background-color: #f0f8ff;}#sk-container-id-1 input.sk-toggleable__control:checked~div.sk-toggleable__content {max-height: 200px;max-width: 100%;overflow: auto;}#sk-container-id-1 input.sk-toggleable__control:checked~label.sk-toggleable__label-arrow:before {content: \"▾\";}#sk-container-id-1 div.sk-estimator input.sk-toggleable__control:checked~label.sk-toggleable__label {background-color: #d4ebff;}#sk-container-id-1 div.sk-label input.sk-toggleable__control:checked~label.sk-toggleable__label {background-color: #d4ebff;}#sk-container-id-1 input.sk-hidden--visually {border: 0;clip: rect(1px 1px 1px 1px);clip: rect(1px, 1px, 1px, 1px);height: 1px;margin: -1px;overflow: hidden;padding: 0;position: absolute;width: 1px;}#sk-container-id-1 div.sk-estimator {font-family: monospace;background-color: #f0f8ff;border: 1px dotted black;border-radius: 0.25em;box-sizing: border-box;margin-bottom: 0.5em;}#sk-container-id-1 div.sk-estimator:hover {background-color: #d4ebff;}#sk-container-id-1 div.sk-parallel-item::after {content: \"\";width: 100%;border-bottom: 1px solid gray;flex-grow: 1;}#sk-container-id-1 div.sk-label:hover label.sk-toggleable__label {background-color: #d4ebff;}#sk-container-id-1 div.sk-serial::before {content: \"\";position: absolute;border-left: 1px solid gray;box-sizing: border-box;top: 0;bottom: 0;left: 50%;z-index: 0;}#sk-container-id-1 div.sk-serial {display: flex;flex-direction: column;align-items: center;background-color: white;padding-right: 0.2em;padding-left: 0.2em;position: relative;}#sk-container-id-1 div.sk-item {position: relative;z-index: 1;}#sk-container-id-1 div.sk-parallel {display: flex;align-items: stretch;justify-content: center;background-color: white;position: relative;}#sk-container-id-1 div.sk-item::before, #sk-container-id-1 div.sk-parallel-item::before {content: \"\";position: absolute;border-left: 1px solid gray;box-sizing: border-box;top: 0;bottom: 0;left: 50%;z-index: -1;}#sk-container-id-1 div.sk-parallel-item {display: flex;flex-direction: column;z-index: 1;position: relative;background-color: white;}#sk-container-id-1 div.sk-parallel-item:first-child::after {align-self: flex-end;width: 50%;}#sk-container-id-1 div.sk-parallel-item:last-child::after {align-self: flex-start;width: 50%;}#sk-container-id-1 div.sk-parallel-item:only-child::after {width: 0;}#sk-container-id-1 div.sk-dashed-wrapped {border: 1px dashed gray;margin: 0 0.4em 0.5em 0.4em;box-sizing: border-box;padding-bottom: 0.4em;background-color: white;}#sk-container-id-1 div.sk-label label {font-family: monospace;font-weight: bold;display: inline-block;line-height: 1.2em;}#sk-container-id-1 div.sk-label-container {text-align: center;}#sk-container-id-1 div.sk-container {/* jupyter's `normalize.less` sets `[hidden] { display: none; }` but bootstrap.min.css set `[hidden] { display: none !important; }` so we also need the `!important` here to be able to override the default hidden behavior on the sphinx rendered scikit-learn.org. See: https://github.com/scikit-learn/scikit-learn/issues/21755 */display: inline-block !important;position: relative;}#sk-container-id-1 div.sk-text-repr-fallback {display: none;}</style><div id=\"sk-container-id-1\" class=\"sk-top-container\"><div class=\"sk-text-repr-fallback\"><pre>LogisticRegression()</pre><b>In a Jupyter environment, please rerun this cell to show the HTML representation or trust the notebook. <br />On GitHub, the HTML representation is unable to render, please try loading this page with nbviewer.org.</b></div><div class=\"sk-container\" hidden><div class=\"sk-item\"><div class=\"sk-estimator sk-toggleable\"><input class=\"sk-toggleable__control sk-hidden--visually\" id=\"sk-estimator-id-1\" type=\"checkbox\" checked><label for=\"sk-estimator-id-1\" class=\"sk-toggleable__label sk-toggleable__label-arrow\">LogisticRegression</label><div class=\"sk-toggleable__content\"><pre>LogisticRegression()</pre></div></div></div></div></div>"
            ]
          },
          "metadata": {},
          "execution_count": 31
        }
      ],
      "source": [
        "logmodel"
      ]
    },
    {
      "cell_type": "code",
      "execution_count": 32,
      "metadata": {
        "id": "n_378OCdPL85",
        "colab": {
          "base_uri": "https://localhost:8080/",
          "height": 74
        },
        "outputId": "44a4dc52-bd15-4a25-c6d8-1ab77112f13d"
      },
      "outputs": [
        {
          "output_type": "execute_result",
          "data": {
            "text/plain": [
              "LogisticRegression()"
            ],
            "text/html": [
              "<style>#sk-container-id-2 {color: black;background-color: white;}#sk-container-id-2 pre{padding: 0;}#sk-container-id-2 div.sk-toggleable {background-color: white;}#sk-container-id-2 label.sk-toggleable__label {cursor: pointer;display: block;width: 100%;margin-bottom: 0;padding: 0.3em;box-sizing: border-box;text-align: center;}#sk-container-id-2 label.sk-toggleable__label-arrow:before {content: \"▸\";float: left;margin-right: 0.25em;color: #696969;}#sk-container-id-2 label.sk-toggleable__label-arrow:hover:before {color: black;}#sk-container-id-2 div.sk-estimator:hover label.sk-toggleable__label-arrow:before {color: black;}#sk-container-id-2 div.sk-toggleable__content {max-height: 0;max-width: 0;overflow: hidden;text-align: left;background-color: #f0f8ff;}#sk-container-id-2 div.sk-toggleable__content pre {margin: 0.2em;color: black;border-radius: 0.25em;background-color: #f0f8ff;}#sk-container-id-2 input.sk-toggleable__control:checked~div.sk-toggleable__content {max-height: 200px;max-width: 100%;overflow: auto;}#sk-container-id-2 input.sk-toggleable__control:checked~label.sk-toggleable__label-arrow:before {content: \"▾\";}#sk-container-id-2 div.sk-estimator input.sk-toggleable__control:checked~label.sk-toggleable__label {background-color: #d4ebff;}#sk-container-id-2 div.sk-label input.sk-toggleable__control:checked~label.sk-toggleable__label {background-color: #d4ebff;}#sk-container-id-2 input.sk-hidden--visually {border: 0;clip: rect(1px 1px 1px 1px);clip: rect(1px, 1px, 1px, 1px);height: 1px;margin: -1px;overflow: hidden;padding: 0;position: absolute;width: 1px;}#sk-container-id-2 div.sk-estimator {font-family: monospace;background-color: #f0f8ff;border: 1px dotted black;border-radius: 0.25em;box-sizing: border-box;margin-bottom: 0.5em;}#sk-container-id-2 div.sk-estimator:hover {background-color: #d4ebff;}#sk-container-id-2 div.sk-parallel-item::after {content: \"\";width: 100%;border-bottom: 1px solid gray;flex-grow: 1;}#sk-container-id-2 div.sk-label:hover label.sk-toggleable__label {background-color: #d4ebff;}#sk-container-id-2 div.sk-serial::before {content: \"\";position: absolute;border-left: 1px solid gray;box-sizing: border-box;top: 0;bottom: 0;left: 50%;z-index: 0;}#sk-container-id-2 div.sk-serial {display: flex;flex-direction: column;align-items: center;background-color: white;padding-right: 0.2em;padding-left: 0.2em;position: relative;}#sk-container-id-2 div.sk-item {position: relative;z-index: 1;}#sk-container-id-2 div.sk-parallel {display: flex;align-items: stretch;justify-content: center;background-color: white;position: relative;}#sk-container-id-2 div.sk-item::before, #sk-container-id-2 div.sk-parallel-item::before {content: \"\";position: absolute;border-left: 1px solid gray;box-sizing: border-box;top: 0;bottom: 0;left: 50%;z-index: -1;}#sk-container-id-2 div.sk-parallel-item {display: flex;flex-direction: column;z-index: 1;position: relative;background-color: white;}#sk-container-id-2 div.sk-parallel-item:first-child::after {align-self: flex-end;width: 50%;}#sk-container-id-2 div.sk-parallel-item:last-child::after {align-self: flex-start;width: 50%;}#sk-container-id-2 div.sk-parallel-item:only-child::after {width: 0;}#sk-container-id-2 div.sk-dashed-wrapped {border: 1px dashed gray;margin: 0 0.4em 0.5em 0.4em;box-sizing: border-box;padding-bottom: 0.4em;background-color: white;}#sk-container-id-2 div.sk-label label {font-family: monospace;font-weight: bold;display: inline-block;line-height: 1.2em;}#sk-container-id-2 div.sk-label-container {text-align: center;}#sk-container-id-2 div.sk-container {/* jupyter's `normalize.less` sets `[hidden] { display: none; }` but bootstrap.min.css set `[hidden] { display: none !important; }` so we also need the `!important` here to be able to override the default hidden behavior on the sphinx rendered scikit-learn.org. See: https://github.com/scikit-learn/scikit-learn/issues/21755 */display: inline-block !important;position: relative;}#sk-container-id-2 div.sk-text-repr-fallback {display: none;}</style><div id=\"sk-container-id-2\" class=\"sk-top-container\"><div class=\"sk-text-repr-fallback\"><pre>LogisticRegression()</pre><b>In a Jupyter environment, please rerun this cell to show the HTML representation or trust the notebook. <br />On GitHub, the HTML representation is unable to render, please try loading this page with nbviewer.org.</b></div><div class=\"sk-container\" hidden><div class=\"sk-item\"><div class=\"sk-estimator sk-toggleable\"><input class=\"sk-toggleable__control sk-hidden--visually\" id=\"sk-estimator-id-2\" type=\"checkbox\" checked><label for=\"sk-estimator-id-2\" class=\"sk-toggleable__label sk-toggleable__label-arrow\">LogisticRegression</label><div class=\"sk-toggleable__content\"><pre>LogisticRegression()</pre></div></div></div></div></div>"
            ]
          },
          "metadata": {},
          "execution_count": 32
        }
      ],
      "source": [
        "logmodel.fit(X_train, y_train)"
      ]
    },
    {
      "cell_type": "code",
      "execution_count": 33,
      "metadata": {
        "id": "TH5vgSPBPL6e"
      },
      "outputs": [],
      "source": [
        "predictions = logmodel.predict(X_test)"
      ]
    },
    {
      "cell_type": "code",
      "execution_count": 34,
      "metadata": {
        "id": "qebcfSEGPL3t",
        "colab": {
          "base_uri": "https://localhost:8080/"
        },
        "outputId": "ebab5ac9-4748-4e8d-b50c-dac630ce7ce6"
      },
      "outputs": [
        {
          "output_type": "execute_result",
          "data": {
            "text/plain": [
              "array([1., 1., 1., ..., 1., 1., 1.])"
            ]
          },
          "metadata": {},
          "execution_count": 34
        }
      ],
      "source": [
        "predictions"
      ]
    },
    {
      "cell_type": "code",
      "execution_count": 35,
      "metadata": {
        "id": "b9YR8Mo9PL1O"
      },
      "outputs": [],
      "source": [
        "from sklearn.metrics import auc, accuracy_score, classification_report, log_loss, confusion_matrix"
      ]
    },
    {
      "cell_type": "code",
      "execution_count": 36,
      "metadata": {
        "id": "-KNoOei_L4W-",
        "colab": {
          "base_uri": "https://localhost:8080/"
        },
        "outputId": "f0c9bb76-8f11-4a4b-bda6-cdc6989d1b5c"
      },
      "outputs": [
        {
          "output_type": "stream",
          "name": "stdout",
          "text": [
            "              precision    recall  f1-score   support\n",
            "\n",
            "         0.0       0.00      0.00      0.00      9605\n",
            "         1.0       0.50      1.00      0.67      9590\n",
            "\n",
            "    accuracy                           0.50     19195\n",
            "   macro avg       0.25      0.50      0.33     19195\n",
            "weighted avg       0.25      0.50      0.33     19195\n",
            "\n"
          ]
        }
      ],
      "source": [
        "print(classification_report(y_test, predictions))"
      ]
    },
    {
      "cell_type": "code",
      "execution_count": 37,
      "metadata": {
        "id": "lCAyBvFLL4aQ",
        "colab": {
          "base_uri": "https://localhost:8080/",
          "height": 448
        },
        "outputId": "5c5cd4ef-7647-4034-a54c-b3135f7dbf9b"
      },
      "outputs": [
        {
          "output_type": "stream",
          "name": "stdout",
          "text": [
            "Axes(0.125,0.11;0.62x0.77)\n"
          ]
        },
        {
          "output_type": "display_data",
          "data": {
            "text/plain": [
              "<Figure size 640x480 with 2 Axes>"
            ],
            "image/png": "[encoded data removed]"
          },
          "metadata": {}
        }
      ],
      "source": [
        "print(sns.heatmap(confusion_matrix(predictions, y_test), annot = True))"
      ]
    },
    {
      "cell_type": "code",
      "execution_count": 38,
      "metadata": {
        "id": "KU-rCBMNRWeg"
      },
      "outputs": [],
      "source": [
        "regression_accuracy= accuracy_score(y_test, predictions)"
      ]
    },
    {
      "cell_type": "code",
      "execution_count": 39,
      "metadata": {
        "id": "kUQnaBXORWax"
      },
      "outputs": [],
      "source": [
        "wandb.log({\"accuracy\": regression_accuracy})"
      ]
    },
    {
      "cell_type": "code",
      "execution_count": 40,
      "metadata": {
        "id": "BIvRkFvwRWV2",
        "colab": {
          "base_uri": "https://localhost:8080/"
        },
        "outputId": "14c6dc10-6eeb-49aa-f908-3b7d30ec2c8f"
      },
      "outputs": [
        {
          "output_type": "stream",
          "name": "stdout",
          "text": [
            "Logistic Regression Accuracy: 0.4995571763480073\n"
          ]
        }
      ],
      "source": [
        "print(f\"Logistic Regression Accuracy: {regression_accuracy}\")"
      ]
    },
    {
      "cell_type": "code",
      "execution_count": 41,
      "metadata": {
        "id": "el1Gscg6RWTT"
      },
      "outputs": [],
      "source": [
        "#DECISION TREE"
      ]
    },
    {
      "cell_type": "code",
      "execution_count": 42,
      "metadata": {
        "id": "Gd8X8PJ4RWKK",
        "colab": {
          "base_uri": "https://localhost:8080/"
        },
        "outputId": "4a477e25-3e96-49d8-b9b7-77526bf25bc9"
      },
      "outputs": [
        {
          "output_type": "stream",
          "name": "stderr",
          "text": [
            "<ipython-input-42-5348aab4fcad>:9: DtypeWarning: Columns (1,2,3,11,12) have mixed types. Specify dtype option on import or set low_memory=False.\n",
            "  phishing = pd.read_csv(io.StringIO(decoded_data), on_bad_lines='skip')\n"
          ]
        }
      ],
      "source": [
        "# Read the file in binary mode\n",
        "with open('/content/urlset.csv', 'rb') as file:\n",
        "    raw_data = file.read()\n",
        "\n",
        "# Decode the content manually with error handling\n",
        "decoded_data = raw_data.decode('MacRoman', errors='replace')\n",
        "\n",
        "# Use io.StringIO to read the decoded content as if it were a file\n",
        "phishing = pd.read_csv(io.StringIO(decoded_data), on_bad_lines='skip')\n"
      ]
    },
    {
      "cell_type": "code",
      "execution_count": 43,
      "metadata": {
        "id": "vdgccItgRWFr",
        "colab": {
          "base_uri": "https://localhost:8080/",
          "height": 423
        },
        "outputId": "b6482705-9b11-4381-c096-ee7ba36b9719"
      },
      "outputs": [
        {
          "output_type": "execute_result",
          "data": {
            "text/plain": [
              "                                                  domain   ranking mld_res  \\\n",
              "0      nobell.it/70ffb52d079109dca5664cce6f317373782/...  10000000     1.0   \n",
              "1      www.dghjdgf.com/paypal.co.uk/cycgi-bin/webscrc...  10000000     0.0   \n",
              "2      serviciosbys.com/paypal.cgi.bin.get-into.herf....  10000000     0.0   \n",
              "3      mail.printakid.com/www.online.americanexpress....  10000000     0.0   \n",
              "4      thewhiskeydregs.com/wp-content/themes/widescre...  10000000     0.0   \n",
              "...                                                  ...       ...     ...   \n",
              "96000            xbox360.ign.com/objects/850/850402.html       339     1.0   \n",
              "96001       games.teamxbox.com/xbox-360/1860/Dead-Space/     63029     1.0   \n",
              "96002         www.gamespot.com/xbox360/action/deadspace/       753     1.0   \n",
              "96003      en.wikipedia.org/wiki/Dead_Space_(video_game)         6     1.0   \n",
              "96004          www.angelfire.com/goth/devilmaycrytonite/      2547     1.0   \n",
              "\n",
              "      mld.ps_res  card_rem  ratio_Rrem  ratio_Arem  jaccard_RR  jaccard_RA  \\\n",
              "0            0.0      18.0  107.611111  107.277778    0.000000    0.000000   \n",
              "1            0.0      11.0  150.636364  152.272727    0.000000    0.000000   \n",
              "2            0.0      14.0   73.500000   72.642857    0.000000    0.000000   \n",
              "3            0.0       6.0  562.000000  590.666667    0.000000    0.000000   \n",
              "4            0.0       8.0   29.000000   24.125000    0.000000    0.000000   \n",
              "...          ...       ...         ...         ...         ...         ...   \n",
              "96000        1.0       2.0  142.500000  141.000000    0.009009    0.009091   \n",
              "96001        0.0       3.0  114.000000  128.333333    0.002899    0.002577   \n",
              "96002        1.0       3.0   91.000000  101.333333    0.000000    0.003106   \n",
              "96003        1.0       4.0  682.000000  744.250000    0.033075    0.029412   \n",
              "96004        1.0       5.0   32.400000   27.200000    0.022222    0.032680   \n",
              "\n",
              "       jaccard_AR  jaccard_AA jaccard_ARrd jaccard_ARrem  label  \n",
              "0        0.000000    0.000000          0.8      0.795729    1.0  \n",
              "1        0.000000    0.000000            0      0.768577    1.0  \n",
              "2        0.000000    0.000000            0      0.726582    1.0  \n",
              "3        0.000000    0.000000            0       0.85964    1.0  \n",
              "4        0.000000    0.000000            0      0.748971    1.0  \n",
              "...           ...         ...          ...           ...    ...  \n",
              "96000    0.006536    0.006601      0.45098      0.846906    0.0  \n",
              "96001    0.002907    0.002584         0.75      0.714623    0.0  \n",
              "96002    0.000000    0.000000     0.111111      0.648571    0.0  \n",
              "96003    0.030250    0.029145     0.809735      0.840323    0.0  \n",
              "96004    0.017341    0.020408     0.636364      0.674157    0.0  \n",
              "\n",
              "[96005 rows x 14 columns]"
            ],
            "text/html": [
              "\n",
              "  <div id=\"df-385b74d9-c6d3-44c8-a21d-825e2eaa7500\" class=\"colab-df-container\">\n",
              "    <div>\n",
              "<style scoped>\n",
              "    .dataframe tbody tr th:only-of-type {\n",
              "        vertical-align: middle;\n",
              "    }\n",
              "\n",
              "    .dataframe tbody tr th {\n",
              "        vertical-align: top;\n",
              "    }\n",
              "\n",
              "    .dataframe thead th {\n",
              "        text-align: right;\n",
              "    }\n",
              "</style>\n",
              "<table border=\"1\" class=\"dataframe\">\n",
              "  <thead>\n",
              "    <tr style=\"text-align: right;\">\n",
              "      <th></th>\n",
              "      <th>domain</th>\n",
              "      <th>ranking</th>\n",
              "      <th>mld_res</th>\n",
              "      <th>mld.ps_res</th>\n",
              "      <th>card_rem</th>\n",
              "      <th>ratio_Rrem</th>\n",
              "      <th>ratio_Arem</th>\n",
              "      <th>jaccard_RR</th>\n",
              "      <th>jaccard_RA</th>\n",
              "      <th>jaccard_AR</th>\n",
              "      <th>jaccard_AA</th>\n",
              "      <th>jaccard_ARrd</th>\n",
              "      <th>jaccard_ARrem</th>\n",
              "      <th>label</th>\n",
              "    </tr>\n",
              "  </thead>\n",
              "  <tbody>\n",
              "    <tr>\n",
              "      <th>0</th>\n",
              "      <td>nobell.it/70ffb52d079109dca5664cce6f317373782/...</td>\n",
              "      <td>10000000</td>\n",
              "      <td>1.0</td>\n",
              "      <td>0.0</td>\n",
              "      <td>18.0</td>\n",
              "      <td>107.611111</td>\n",
              "      <td>107.277778</td>\n",
              "      <td>0.000000</td>\n",
              "      <td>0.000000</td>\n",
              "      <td>0.000000</td>\n",
              "      <td>0.000000</td>\n",
              "      <td>0.8</td>\n",
              "      <td>0.795729</td>\n",
              "      <td>1.0</td>\n",
              "    </tr>\n",
              "    <tr>\n",
              "      <th>1</th>\n",
              "      <td>www.dghjdgf.com/paypal.co.uk/cycgi-bin/webscrc...</td>\n",
              "      <td>10000000</td>\n",
              "      <td>0.0</td>\n",
              "      <td>0.0</td>\n",
              "      <td>11.0</td>\n",
              "      <td>150.636364</td>\n",
              "      <td>152.272727</td>\n",
              "      <td>0.000000</td>\n",
              "      <td>0.000000</td>\n",
              "      <td>0.000000</td>\n",
              "      <td>0.000000</td>\n",
              "      <td>0</td>\n",
              "      <td>0.768577</td>\n",
              "      <td>1.0</td>\n",
              "    </tr>\n",
              "    <tr>\n",
              "      <th>2</th>\n",
              "      <td>serviciosbys.com/paypal.cgi.bin.get-into.herf....</td>\n",
              "      <td>10000000</td>\n",
              "      <td>0.0</td>\n",
              "      <td>0.0</td>\n",
              "      <td>14.0</td>\n",
              "      <td>73.500000</td>\n",
              "      <td>72.642857</td>\n",
              "      <td>0.000000</td>\n",
              "      <td>0.000000</td>\n",
              "      <td>0.000000</td>\n",
              "      <td>0.000000</td>\n",
              "      <td>0</td>\n",
              "      <td>0.726582</td>\n",
              "      <td>1.0</td>\n",
              "    </tr>\n",
              "    <tr>\n",
              "      <th>3</th>\n",
              "      <td>mail.printakid.com/www.online.americanexpress....</td>\n",
              "      <td>10000000</td>\n",
              "      <td>0.0</td>\n",
              "      <td>0.0</td>\n",
              "      <td>6.0</td>\n",
              "      <td>562.000000</td>\n",
              "      <td>590.666667</td>\n",
              "      <td>0.000000</td>\n",
              "      <td>0.000000</td>\n",
              "      <td>0.000000</td>\n",
              "      <td>0.000000</td>\n",
              "      <td>0</td>\n",
              "      <td>0.85964</td>\n",
              "      <td>1.0</td>\n",
              "    </tr>\n",
              "    <tr>\n",
              "      <th>4</th>\n",
              "      <td>thewhiskeydregs.com/wp-content/themes/widescre...</td>\n",
              "      <td>10000000</td>\n",
              "      <td>0.0</td>\n",
              "      <td>0.0</td>\n",
              "      <td>8.0</td>\n",
              "      <td>29.000000</td>\n",
              "      <td>24.125000</td>\n",
              "      <td>0.000000</td>\n",
              "      <td>0.000000</td>\n",
              "      <td>0.000000</td>\n",
              "      <td>0.000000</td>\n",
              "      <td>0</td>\n",
              "      <td>0.748971</td>\n",
              "      <td>1.0</td>\n",
              "    </tr>\n",
              "    <tr>\n",
              "      <th>...</th>\n",
              "      <td>...</td>\n",
              "      <td>...</td>\n",
              "      <td>...</td>\n",
              "      <td>...</td>\n",
              "      <td>...</td>\n",
              "      <td>...</td>\n",
              "      <td>...</td>\n",
              "      <td>...</td>\n",
              "      <td>...</td>\n",
              "      <td>...</td>\n",
              "      <td>...</td>\n",
              "      <td>...</td>\n",
              "      <td>...</td>\n",
              "      <td>...</td>\n",
              "    </tr>\n",
              "    <tr>\n",
              "      <th>96000</th>\n",
              "      <td>xbox360.ign.com/objects/850/850402.html</td>\n",
              "      <td>339</td>\n",
              "      <td>1.0</td>\n",
              "      <td>1.0</td>\n",
              "      <td>2.0</td>\n",
              "      <td>142.500000</td>\n",
              "      <td>141.000000</td>\n",
              "      <td>0.009009</td>\n",
              "      <td>0.009091</td>\n",
              "      <td>0.006536</td>\n",
              "      <td>0.006601</td>\n",
              "      <td>0.45098</td>\n",
              "      <td>0.846906</td>\n",
              "      <td>0.0</td>\n",
              "    </tr>\n",
              "    <tr>\n",
              "      <th>96001</th>\n",
              "      <td>games.teamxbox.com/xbox-360/1860/Dead-Space/</td>\n",
              "      <td>63029</td>\n",
              "      <td>1.0</td>\n",
              "      <td>0.0</td>\n",
              "      <td>3.0</td>\n",
              "      <td>114.000000</td>\n",
              "      <td>128.333333</td>\n",
              "      <td>0.002899</td>\n",
              "      <td>0.002577</td>\n",
              "      <td>0.002907</td>\n",
              "      <td>0.002584</td>\n",
              "      <td>0.75</td>\n",
              "      <td>0.714623</td>\n",
              "      <td>0.0</td>\n",
              "    </tr>\n",
              "    <tr>\n",
              "      <th>96002</th>\n",
              "      <td>www.gamespot.com/xbox360/action/deadspace/</td>\n",
              "      <td>753</td>\n",
              "      <td>1.0</td>\n",
              "      <td>1.0</td>\n",
              "      <td>3.0</td>\n",
              "      <td>91.000000</td>\n",
              "      <td>101.333333</td>\n",
              "      <td>0.000000</td>\n",
              "      <td>0.003106</td>\n",
              "      <td>0.000000</td>\n",
              "      <td>0.000000</td>\n",
              "      <td>0.111111</td>\n",
              "      <td>0.648571</td>\n",
              "      <td>0.0</td>\n",
              "    </tr>\n",
              "    <tr>\n",
              "      <th>96003</th>\n",
              "      <td>en.wikipedia.org/wiki/Dead_Space_(video_game)</td>\n",
              "      <td>6</td>\n",
              "      <td>1.0</td>\n",
              "      <td>1.0</td>\n",
              "      <td>4.0</td>\n",
              "      <td>682.000000</td>\n",
              "      <td>744.250000</td>\n",
              "      <td>0.033075</td>\n",
              "      <td>0.029412</td>\n",
              "      <td>0.030250</td>\n",
              "      <td>0.029145</td>\n",
              "      <td>0.809735</td>\n",
              "      <td>0.840323</td>\n",
              "      <td>0.0</td>\n",
              "    </tr>\n",
              "    <tr>\n",
              "      <th>96004</th>\n",
              "      <td>www.angelfire.com/goth/devilmaycrytonite/</td>\n",
              "      <td>2547</td>\n",
              "      <td>1.0</td>\n",
              "      <td>1.0</td>\n",
              "      <td>5.0</td>\n",
              "      <td>32.400000</td>\n",
              "      <td>27.200000</td>\n",
              "      <td>0.022222</td>\n",
              "      <td>0.032680</td>\n",
              "      <td>0.017341</td>\n",
              "      <td>0.020408</td>\n",
              "      <td>0.636364</td>\n",
              "      <td>0.674157</td>\n",
              "      <td>0.0</td>\n",
              "    </tr>\n",
              "  </tbody>\n",
              "</table>\n",
              "<p>96005 rows × 14 columns</p>\n",
              "</div>\n",
              "    <div class=\"colab-df-buttons\">\n",
              "\n",
              "  <div class=\"colab-df-container\">\n",
              "    <button class=\"colab-df-convert\" onclick=\"convertToInteractive('df-385b74d9-c6d3-44c8-a21d-825e2eaa7500')\"\n",
              "            title=\"Convert this dataframe to an interactive table.\"\n",
              "            style=\"display:none;\">\n",
              "\n",
              "  <svg xmlns=\"http://www.w3.org/2000/svg\" height=\"24px\" viewBox=\"0 -960 960 960\">\n",
              "    <path d=\"M120-120v-720h720v720H120Zm60-500h600v-160H180v160Zm220 220h160v-160H400v160Zm0 220h160v-160H400v160ZM180-400h160v-160H180v160Zm440 0h160v-160H620v160ZM180-180h160v-160H180v160Zm440 0h160v-160H620v160Z\"/>\n",
              "  </svg>\n",
              "    </button>\n",
              "\n",
              "  <style>\n",
              "    .colab-df-container {\n",
              "      display:flex;\n",
              "      gap: 12px;\n",
              "    }\n",
              "\n",
              "    .colab-df-convert {\n",
              "      background-color: #E8F0FE;\n",
              "      border: none;\n",
              "      border-radius: 50%;\n",
              "      cursor: pointer;\n",
              "      display: none;\n",
              "      fill: #1967D2;\n",
              "      height: 32px;\n",
              "      padding: 0 0 0 0;\n",
              "      width: 32px;\n",
              "    }\n",
              "\n",
              "    .colab-df-convert:hover {\n",
              "      background-color: #E2EBFA;\n",
              "      box-shadow: 0px 1px 2px rgba(60, 64, 67, 0.3), 0px 1px 3px 1px rgba(60, 64, 67, 0.15);\n",
              "      fill: #174EA6;\n",
              "    }\n",
              "\n",
              "    .colab-df-buttons div {\n",
              "      margin-bottom: 4px;\n",
              "    }\n",
              "\n",
              "    [theme=dark] .colab-df-convert {\n",
              "      background-color: #3B4455;\n",
              "      fill: #D2E3FC;\n",
              "    }\n",
              "\n",
              "    [theme=dark] .colab-df-convert:hover {\n",
              "      background-color: #434B5C;\n",
              "      box-shadow: 0px 1px 3px 1px rgba(0, 0, 0, 0.15);\n",
              "      filter: drop-shadow(0px 1px 2px rgba(0, 0, 0, 0.3));\n",
              "      fill: #FFFFFF;\n",
              "    }\n",
              "  </style>\n",
              "\n",
              "    <script>\n",
              "      const buttonEl =\n",
              "        document.querySelector('#df-385b74d9-c6d3-44c8-a21d-825e2eaa7500 button.colab-df-convert');\n",
              "      buttonEl.style.display =\n",
              "        google.colab.kernel.accessAllowed ? 'block' : 'none';\n",
              "\n",
              "      async function convertToInteractive(key) {\n",
              "        const element = document.querySelector('#df-385b74d9-c6d3-44c8-a21d-825e2eaa7500');\n",
              "        const dataTable =\n",
              "          await google.colab.kernel.invokeFunction('convertToInteractive',\n",
              "                                                    [key], {});\n",
              "        if (!dataTable) return;\n",
              "\n",
              "        const docLinkHtml = 'Like what you see? Visit the ' +\n",
              "          '<a target=\"_blank\" href=https://colab.research.google.com/notebooks/data_table.ipynb>data table notebook</a>'\n",
              "          + ' to learn more about interactive tables.';\n",
              "        element.innerHTML = '';\n",
              "        dataTable['output_type'] = 'display_data';\n",
              "        await google.colab.output.renderOutput(dataTable, element);\n",
              "        const docLink = document.createElement('div');\n",
              "        docLink.innerHTML = docLinkHtml;\n",
              "        element.appendChild(docLink);\n",
              "      }\n",
              "    </script>\n",
              "  </div>\n",
              "\n",
              "\n",
              "<div id=\"df-cb74dfc7-b0f9-4c95-b902-c3810e33ca5c\">\n",
              "  <button class=\"colab-df-quickchart\" onclick=\"quickchart('df-cb74dfc7-b0f9-4c95-b902-c3810e33ca5c')\"\n",
              "            title=\"Suggest charts\"\n",
              "            style=\"display:none;\">\n",
              "\n",
              "<svg xmlns=\"http://www.w3.org/2000/svg\" height=\"24px\"viewBox=\"0 0 24 24\"\n",
              "     width=\"24px\">\n",
              "    <g>\n",
              "        <path d=\"M19 3H5c-1.1 0-2 .9-2 2v14c0 1.1.9 2 2 2h14c1.1 0 2-.9 2-2V5c0-1.1-.9-2-2-2zM9 17H7v-7h2v7zm4 0h-2V7h2v10zm4 0h-2v-4h2v4z\"/>\n",
              "    </g>\n",
              "</svg>\n",
              "  </button>\n",
              "\n",
              "<style>\n",
              "  .colab-df-quickchart {\n",
              "      --bg-color: #E8F0FE;\n",
              "      --fill-color: #1967D2;\n",
              "      --hover-bg-color: #E2EBFA;\n",
              "      --hover-fill-color: #174EA6;\n",
              "      --disabled-fill-color: #AAA;\n",
              "      --disabled-bg-color: #DDD;\n",
              "  }\n",
              "\n",
              "  [theme=dark] .colab-df-quickchart {\n",
              "      --bg-color: #3B4455;\n",
              "      --fill-color: #D2E3FC;\n",
              "      --hover-bg-color: #434B5C;\n",
              "      --hover-fill-color: #FFFFFF;\n",
              "      --disabled-bg-color: #3B4455;\n",
              "      --disabled-fill-color: #666;\n",
              "  }\n",
              "\n",
              "  .colab-df-quickchart {\n",
              "    background-color: var(--bg-color);\n",
              "    border: none;\n",
              "    border-radius: 50%;\n",
              "    cursor: pointer;\n",
              "    display: none;\n",
              "    fill: var(--fill-color);\n",
              "    height: 32px;\n",
              "    padding: 0;\n",
              "    width: 32px;\n",
              "  }\n",
              "\n",
              "  .colab-df-quickchart:hover {\n",
              "    background-color: var(--hover-bg-color);\n",
              "    box-shadow: 0 1px 2px rgba(60, 64, 67, 0.3), 0 1px 3px 1px rgba(60, 64, 67, 0.15);\n",
              "    fill: var(--button-hover-fill-color);\n",
              "  }\n",
              "\n",
              "  .colab-df-quickchart-complete:disabled,\n",
              "  .colab-df-quickchart-complete:disabled:hover {\n",
              "    background-color: var(--disabled-bg-color);\n",
              "    fill: var(--disabled-fill-color);\n",
              "    box-shadow: none;\n",
              "  }\n",
              "\n",
              "  .colab-df-spinner {\n",
              "    border: 2px solid var(--fill-color);\n",
              "    border-color: transparent;\n",
              "    border-bottom-color: var(--fill-color);\n",
              "    animation:\n",
              "      spin 1s steps(1) infinite;\n",
              "  }\n",
              "\n",
              "  @keyframes spin {\n",
              "    0% {\n",
              "      border-color: transparent;\n",
              "      border-bottom-color: var(--fill-color);\n",
              "      border-left-color: var(--fill-color);\n",
              "    }\n",
              "    20% {\n",
              "      border-color: transparent;\n",
              "      border-left-color: var(--fill-color);\n",
              "      border-top-color: var(--fill-color);\n",
              "    }\n",
              "    30% {\n",
              "      border-color: transparent;\n",
              "      border-left-color: var(--fill-color);\n",
              "      border-top-color: var(--fill-color);\n",
              "      border-right-color: var(--fill-color);\n",
              "    }\n",
              "    40% {\n",
              "      border-color: transparent;\n",
              "      border-right-color: var(--fill-color);\n",
              "      border-top-color: var(--fill-color);\n",
              "    }\n",
              "    60% {\n",
              "      border-color: transparent;\n",
              "      border-right-color: var(--fill-color);\n",
              "    }\n",
              "    80% {\n",
              "      border-color: transparent;\n",
              "      border-right-color: var(--fill-color);\n",
              "      border-bottom-color: var(--fill-color);\n",
              "    }\n",
              "    90% {\n",
              "      border-color: transparent;\n",
              "      border-bottom-color: var(--fill-color);\n",
              "    }\n",
              "  }\n",
              "</style>\n",
              "\n",
              "  <script>\n",
              "    async function quickchart(key) {\n",
              "      const quickchartButtonEl =\n",
              "        document.querySelector('#' + key + ' button');\n",
              "      quickchartButtonEl.disabled = true;  // To prevent multiple clicks.\n",
              "      quickchartButtonEl.classList.add('colab-df-spinner');\n",
              "      try {\n",
              "        const charts = await google.colab.kernel.invokeFunction(\n",
              "            'suggestCharts', [key], {});\n",
              "      } catch (error) {\n",
              "        console.error('Error during call to suggestCharts:', error);\n",
              "      }\n",
              "      quickchartButtonEl.classList.remove('colab-df-spinner');\n",
              "      quickchartButtonEl.classList.add('colab-df-quickchart-complete');\n",
              "    }\n",
              "    (() => {\n",
              "      let quickchartButtonEl =\n",
              "        document.querySelector('#df-cb74dfc7-b0f9-4c95-b902-c3810e33ca5c button');\n",
              "      quickchartButtonEl.style.display =\n",
              "        google.colab.kernel.accessAllowed ? 'block' : 'none';\n",
              "    })();\n",
              "  </script>\n",
              "</div>\n",
              "\n",
              "  <div id=\"id_14f348fb-1bfa-46f0-a0e7-21cd1be9703c\">\n",
              "    <style>\n",
              "      .colab-df-generate {\n",
              "        background-color: #E8F0FE;\n",
              "        border: none;\n",
              "        border-radius: 50%;\n",
              "        cursor: pointer;\n",
              "        display: none;\n",
              "        fill: #1967D2;\n",
              "        height: 32px;\n",
              "        padding: 0 0 0 0;\n",
              "        width: 32px;\n",
              "      }\n",
              "\n",
              "      .colab-df-generate:hover {\n",
              "        background-color: #E2EBFA;\n",
              "        box-shadow: 0px 1px 2px rgba(60, 64, 67, 0.3), 0px 1px 3px 1px rgba(60, 64, 67, 0.15);\n",
              "        fill: #174EA6;\n",
              "      }\n",
              "\n",
              "      [theme=dark] .colab-df-generate {\n",
              "        background-color: #3B4455;\n",
              "        fill: #D2E3FC;\n",
              "      }\n",
              "\n",
              "      [theme=dark] .colab-df-generate:hover {\n",
              "        background-color: #434B5C;\n",
              "        box-shadow: 0px 1px 3px 1px rgba(0, 0, 0, 0.15);\n",
              "        filter: drop-shadow(0px 1px 2px rgba(0, 0, 0, 0.3));\n",
              "        fill: #FFFFFF;\n",
              "      }\n",
              "    </style>\n",
              "    <button class=\"colab-df-generate\" onclick=\"generateWithVariable('phishing')\"\n",
              "            title=\"Generate code using this dataframe.\"\n",
              "            style=\"display:none;\">\n",
              "\n",
              "  <svg xmlns=\"http://www.w3.org/2000/svg\" height=\"24px\"viewBox=\"0 0 24 24\"\n",
              "       width=\"24px\">\n",
              "    <path d=\"M7,19H8.4L18.45,9,17,7.55,7,17.6ZM5,21V16.75L18.45,3.32a2,2,0,0,1,2.83,0l1.4,1.43a1.91,1.91,0,0,1,.58,1.4,1.91,1.91,0,0,1-.58,1.4L9.25,21ZM18.45,9,17,7.55Zm-12,3A5.31,5.31,0,0,0,4.9,8.1,5.31,5.31,0,0,0,1,6.5,5.31,5.31,0,0,0,4.9,4.9,5.31,5.31,0,0,0,6.5,1,5.31,5.31,0,0,0,8.1,4.9,5.31,5.31,0,0,0,12,6.5,5.46,5.46,0,0,0,6.5,12Z\"/>\n",
              "  </svg>\n",
              "    </button>\n",
              "    <script>\n",
              "      (() => {\n",
              "      const buttonEl =\n",
              "        document.querySelector('#id_14f348fb-1bfa-46f0-a0e7-21cd1be9703c button.colab-df-generate');\n",
              "      buttonEl.style.display =\n",
              "        google.colab.kernel.accessAllowed ? 'block' : 'none';\n",
              "\n",
              "      buttonEl.onclick = () => {\n",
              "        google.colab.notebook.generateWithVariable('phishing');\n",
              "      }\n",
              "      })();\n",
              "    </script>\n",
              "  </div>\n",
              "\n",
              "    </div>\n",
              "  </div>\n"
            ],
            "application/vnd.google.colaboratory.intrinsic+json": {
              "type": "dataframe",
              "variable_name": "phishing",
              "summary": "{\n  \"name\": \"phishing\",\n  \"rows\": 96005,\n  \"fields\": [\n    {\n      \"column\": \"domain\",\n      \"properties\": {\n        \"dtype\": \"string\",\n        \"num_unique_values\": 96003,\n        \"samples\": [\n          \"jbfeirao.com.br/~mpolvora/accounts.department.online.team/webscr.php?cmd=_login-run\",\n          \"www.criaseg.net46.net/aguarde/Redirecionamento.php\",\n          \"soften.ktu.lt/~s72482/nx8220/\"\n        ],\n        \"semantic_type\": \"\",\n        \"description\": \"\"\n      }\n    },\n    {\n      \"column\": \"ranking\",\n      \"properties\": {\n        \"dtype\": \"category\",\n        \"num_unique_values\": 8206,\n        \"samples\": [\n          \"726958\",\n          \"3776\",\n          \"529916\"\n        ],\n        \"semantic_type\": \"\",\n        \"description\": \"\"\n      }\n    },\n    {\n      \"column\": \"mld_res\",\n      \"properties\": {\n        \"dtype\": \"category\",\n        \"num_unique_values\": 21,\n        \"samples\": [\n          \"1.0\",\n          \"'\\u00e9\\u00bf\\u00d6\\ufb01\\u0007\\uf8ff\\u203aL\\u0012d\\u00d2P\\u001e=bYW\\u00c4d$\\u00ff\\u201ep\\u00cb.-7\\u00ec\\u00d5\\u00bf\\u00ea\\u00fc\\u00a3\\u0011\\u00fa\\u00fc\\u02c6\\u0017\\u000f\\u001a\\u00d2X\\u00fb\\u2019\\bs#B\\u02d9B\\\\\\u00e8\\u00c1\\u2044\\u00f7\\u000bVE\\u00d2\\u2018\\u2013'\\u00fc\\u00a1U\",\n          \"\\tM\\u02ddrH\\u00f6Yu\\u00c9\\u2248\\u00e5q0z\\u00eb\\u00a5<\\u00d6\\u0153\\u0006 \\t\\u0018\\u02da\\u00b7\\u00d5\\u00f9\\u0016\\u2030L<\\u00df\\u00c3\\u00df\\u00e0\\u2020\\u00c0\\u00d2\\u00f2W\\u00e5\\u00a7\\u220f\\u00e1\\u2039>K\\u02c7x\\u00d2\\u2026\\u0011k\\u0014\\u2122\\u00da\"\n        ],\n        \"semantic_type\": \"\",\n        \"description\": \"\"\n      }\n    },\n    {\n      \"column\": \"mld.ps_res\",\n      \"properties\": {\n        \"dtype\": \"category\",\n        \"num_unique_values\": 10,\n        \"samples\": [\n          0.0,\n          \"1.0\",\n          \"7\"\n        ],\n        \"semantic_type\": \"\",\n        \"description\": \"\"\n      }\n    },\n    {\n      \"column\": \"card_rem\",\n      \"properties\": {\n        \"dtype\": \"number\",\n        \"std\": 4.466072927870405,\n        \"min\": 0.0,\n        \"max\": 187.333333,\n        \"num_unique_values\": 53,\n        \"samples\": [\n          17.0,\n          187.333333,\n          51.0\n        ],\n        \"semantic_type\": \"\",\n        \"description\": \"\"\n      }\n    },\n    {\n      \"column\": \"ratio_Rrem\",\n      \"properties\": {\n        \"dtype\": \"number\",\n        \"std\": 160.9888954046324,\n        \"min\": 0.0,\n        \"max\": 5507.0,\n        \"num_unique_values\": 10042,\n        \"samples\": [\n          135.642857,\n          149.9,\n          256.1875\n        ],\n        \"semantic_type\": \"\",\n        \"description\": \"\"\n      }\n    },\n    {\n      \"column\": \"ratio_Arem\",\n      \"properties\": {\n        \"dtype\": \"number\",\n        \"std\": 175.48048538637568,\n        \"min\": 0.0,\n        \"max\": 6097.0,\n        \"num_unique_values\": 10231,\n        \"samples\": [\n          36.642857,\n          98.333333,\n          362.833333\n        ],\n        \"semantic_type\": \"\",\n        \"description\": \"\"\n      }\n    },\n    {\n      \"column\": \"jaccard_RR\",\n      \"properties\": {\n        \"dtype\": \"number\",\n        \"std\": 0.31130841337208554,\n        \"min\": 0.0,\n        \"max\": 96.0,\n        \"num_unique_values\": 5446,\n        \"samples\": [\n          0.015311,\n          0.015554,\n          0.001821\n        ],\n        \"semantic_type\": \"\",\n        \"description\": \"\"\n      }\n    },\n    {\n      \"column\": \"jaccard_RA\",\n      \"properties\": {\n        \"dtype\": \"number\",\n        \"std\": 0.02481462452538979,\n        \"min\": 0.0,\n        \"max\": 1.0,\n        \"num_unique_values\": 5628,\n        \"samples\": [\n          0.015636,\n          0.003096,\n          0.007024\n        ],\n        \"semantic_type\": \"\",\n        \"description\": \"\"\n      }\n    },\n    {\n      \"column\": \"jaccard_AR\",\n      \"properties\": {\n        \"dtype\": \"number\",\n        \"std\": 0.024010515885554046,\n        \"min\": 0.0,\n        \"max\": 1.0,\n        \"num_unique_values\": 5071,\n        \"samples\": [\n          0.042857,\n          0.004871,\n          0.001498\n        ],\n        \"semantic_type\": \"\",\n        \"description\": \"\"\n      }\n    },\n    {\n      \"column\": \"jaccard_AA\",\n      \"properties\": {\n        \"dtype\": \"number\",\n        \"std\": 0.02849249122833477,\n        \"min\": 0.0,\n        \"max\": 1.0,\n        \"num_unique_values\": 5313,\n        \"samples\": [\n          0.003759,\n          0.255278,\n          0.000366\n        ],\n        \"semantic_type\": \"\",\n        \"description\": \"\"\n      }\n    },\n    {\n      \"column\": \"jaccard_ARrd\",\n      \"properties\": {\n        \"dtype\": \"category\",\n        \"num_unique_values\": 1072,\n        \"samples\": [\n          0.347826,\n          0.555556,\n          0.681592\n        ],\n        \"semantic_type\": \"\",\n        \"description\": \"\"\n      }\n    },\n    {\n      \"column\": \"jaccard_ARrem\",\n      \"properties\": {\n        \"dtype\": \"category\",\n        \"num_unique_values\": 30752,\n        \"samples\": [\n          \"0.784818\",\n          0.70229,\n          0.568966\n        ],\n        \"semantic_type\": \"\",\n        \"description\": \"\"\n      }\n    },\n    {\n      \"column\": \"label\",\n      \"properties\": {\n        \"dtype\": \"number\",\n        \"std\": 0.5000023069324918,\n        \"min\": 0.0,\n        \"max\": 1.0,\n        \"num_unique_values\": 2,\n        \"samples\": [\n          0.0,\n          1.0\n        ],\n        \"semantic_type\": \"\",\n        \"description\": \"\"\n      }\n    }\n  ]\n}"
            }
          },
          "metadata": {},
          "execution_count": 43
        }
      ],
      "source": [
        "phishing"
      ]
    },
    {
      "cell_type": "code",
      "execution_count": 44,
      "metadata": {
        "id": "eJFtix3wRnqX"
      },
      "outputs": [],
      "source": [
        "from sklearn import tree"
      ]
    },
    {
      "cell_type": "code",
      "execution_count": 45,
      "metadata": {
        "id": "wltNetQ8hpmK"
      },
      "outputs": [],
      "source": [
        "clf = tree.DecisionTreeClassifier(criterion='entropy',max_depth=3)"
      ]
    },
    {
      "cell_type": "code",
      "execution_count": 46,
      "metadata": {
        "id": "Xq0j5hGHhpUA",
        "colab": {
          "base_uri": "https://localhost:8080/",
          "height": 74
        },
        "outputId": "d5220da7-9dc8-43e7-adb9-a267ffb659db"
      },
      "outputs": [
        {
          "output_type": "execute_result",
          "data": {
            "text/plain": [
              "DecisionTreeClassifier(criterion='entropy', max_depth=3)"
            ],
            "text/html": [
              "<style>#sk-container-id-3 {color: black;background-color: white;}#sk-container-id-3 pre{padding: 0;}#sk-container-id-3 div.sk-toggleable {background-color: white;}#sk-container-id-3 label.sk-toggleable__label {cursor: pointer;display: block;width: 100%;margin-bottom: 0;padding: 0.3em;box-sizing: border-box;text-align: center;}#sk-container-id-3 label.sk-toggleable__label-arrow:before {content: \"▸\";float: left;margin-right: 0.25em;color: #696969;}#sk-container-id-3 label.sk-toggleable__label-arrow:hover:before {color: black;}#sk-container-id-3 div.sk-estimator:hover label.sk-toggleable__label-arrow:before {color: black;}#sk-container-id-3 div.sk-toggleable__content {max-height: 0;max-width: 0;overflow: hidden;text-align: left;background-color: #f0f8ff;}#sk-container-id-3 div.sk-toggleable__content pre {margin: 0.2em;color: black;border-radius: 0.25em;background-color: #f0f8ff;}#sk-container-id-3 input.sk-toggleable__control:checked~div.sk-toggleable__content {max-height: 200px;max-width: 100%;overflow: auto;}#sk-container-id-3 input.sk-toggleable__control:checked~label.sk-toggleable__label-arrow:before {content: \"▾\";}#sk-container-id-3 div.sk-estimator input.sk-toggleable__control:checked~label.sk-toggleable__label {background-color: #d4ebff;}#sk-container-id-3 div.sk-label input.sk-toggleable__control:checked~label.sk-toggleable__label {background-color: #d4ebff;}#sk-container-id-3 input.sk-hidden--visually {border: 0;clip: rect(1px 1px 1px 1px);clip: rect(1px, 1px, 1px, 1px);height: 1px;margin: -1px;overflow: hidden;padding: 0;position: absolute;width: 1px;}#sk-container-id-3 div.sk-estimator {font-family: monospace;background-color: #f0f8ff;border: 1px dotted black;border-radius: 0.25em;box-sizing: border-box;margin-bottom: 0.5em;}#sk-container-id-3 div.sk-estimator:hover {background-color: #d4ebff;}#sk-container-id-3 div.sk-parallel-item::after {content: \"\";width: 100%;border-bottom: 1px solid gray;flex-grow: 1;}#sk-container-id-3 div.sk-label:hover label.sk-toggleable__label {background-color: #d4ebff;}#sk-container-id-3 div.sk-serial::before {content: \"\";position: absolute;border-left: 1px solid gray;box-sizing: border-box;top: 0;bottom: 0;left: 50%;z-index: 0;}#sk-container-id-3 div.sk-serial {display: flex;flex-direction: column;align-items: center;background-color: white;padding-right: 0.2em;padding-left: 0.2em;position: relative;}#sk-container-id-3 div.sk-item {position: relative;z-index: 1;}#sk-container-id-3 div.sk-parallel {display: flex;align-items: stretch;justify-content: center;background-color: white;position: relative;}#sk-container-id-3 div.sk-item::before, #sk-container-id-3 div.sk-parallel-item::before {content: \"\";position: absolute;border-left: 1px solid gray;box-sizing: border-box;top: 0;bottom: 0;left: 50%;z-index: -1;}#sk-container-id-3 div.sk-parallel-item {display: flex;flex-direction: column;z-index: 1;position: relative;background-color: white;}#sk-container-id-3 div.sk-parallel-item:first-child::after {align-self: flex-end;width: 50%;}#sk-container-id-3 div.sk-parallel-item:last-child::after {align-self: flex-start;width: 50%;}#sk-container-id-3 div.sk-parallel-item:only-child::after {width: 0;}#sk-container-id-3 div.sk-dashed-wrapped {border: 1px dashed gray;margin: 0 0.4em 0.5em 0.4em;box-sizing: border-box;padding-bottom: 0.4em;background-color: white;}#sk-container-id-3 div.sk-label label {font-family: monospace;font-weight: bold;display: inline-block;line-height: 1.2em;}#sk-container-id-3 div.sk-label-container {text-align: center;}#sk-container-id-3 div.sk-container {/* jupyter's `normalize.less` sets `[hidden] { display: none; }` but bootstrap.min.css set `[hidden] { display: none !important; }` so we also need the `!important` here to be able to override the default hidden behavior on the sphinx rendered scikit-learn.org. See: https://github.com/scikit-learn/scikit-learn/issues/21755 */display: inline-block !important;position: relative;}#sk-container-id-3 div.sk-text-repr-fallback {display: none;}</style><div id=\"sk-container-id-3\" class=\"sk-top-container\"><div class=\"sk-text-repr-fallback\"><pre>DecisionTreeClassifier(criterion=&#x27;entropy&#x27;, max_depth=3)</pre><b>In a Jupyter environment, please rerun this cell to show the HTML representation or trust the notebook. <br />On GitHub, the HTML representation is unable to render, please try loading this page with nbviewer.org.</b></div><div class=\"sk-container\" hidden><div class=\"sk-item\"><div class=\"sk-estimator sk-toggleable\"><input class=\"sk-toggleable__control sk-hidden--visually\" id=\"sk-estimator-id-3\" type=\"checkbox\" checked><label for=\"sk-estimator-id-3\" class=\"sk-toggleable__label sk-toggleable__label-arrow\">DecisionTreeClassifier</label><div class=\"sk-toggleable__content\"><pre>DecisionTreeClassifier(criterion=&#x27;entropy&#x27;, max_depth=3)</pre></div></div></div></div></div>"
            ]
          },
          "metadata": {},
          "execution_count": 46
        }
      ],
      "source": [
        "clf"
      ]
    },
    {
      "cell_type": "code",
      "execution_count": 47,
      "metadata": {
        "id": "YY_TOSIDiyQ9"
      },
      "outputs": [],
      "source": [
        "clf=clf.fit(X,y)"
      ]
    },
    {
      "cell_type": "code",
      "execution_count": 48,
      "metadata": {
        "id": "5tyMUvchiyNv",
        "colab": {
          "base_uri": "https://localhost:8080/",
          "height": 74
        },
        "outputId": "ba62f871-c41a-45de-d6d1-899bda0f4282"
      },
      "outputs": [
        {
          "output_type": "execute_result",
          "data": {
            "text/plain": [
              "DecisionTreeClassifier(criterion='entropy', max_depth=3)"
            ],
            "text/html": [
              "<style>#sk-container-id-4 {color: black;background-color: white;}#sk-container-id-4 pre{padding: 0;}#sk-container-id-4 div.sk-toggleable {background-color: white;}#sk-container-id-4 label.sk-toggleable__label {cursor: pointer;display: block;width: 100%;margin-bottom: 0;padding: 0.3em;box-sizing: border-box;text-align: center;}#sk-container-id-4 label.sk-toggleable__label-arrow:before {content: \"▸\";float: left;margin-right: 0.25em;color: #696969;}#sk-container-id-4 label.sk-toggleable__label-arrow:hover:before {color: black;}#sk-container-id-4 div.sk-estimator:hover label.sk-toggleable__label-arrow:before {color: black;}#sk-container-id-4 div.sk-toggleable__content {max-height: 0;max-width: 0;overflow: hidden;text-align: left;background-color: #f0f8ff;}#sk-container-id-4 div.sk-toggleable__content pre {margin: 0.2em;color: black;border-radius: 0.25em;background-color: #f0f8ff;}#sk-container-id-4 input.sk-toggleable__control:checked~div.sk-toggleable__content {max-height: 200px;max-width: 100%;overflow: auto;}#sk-container-id-4 input.sk-toggleable__control:checked~label.sk-toggleable__label-arrow:before {content: \"▾\";}#sk-container-id-4 div.sk-estimator input.sk-toggleable__control:checked~label.sk-toggleable__label {background-color: #d4ebff;}#sk-container-id-4 div.sk-label input.sk-toggleable__control:checked~label.sk-toggleable__label {background-color: #d4ebff;}#sk-container-id-4 input.sk-hidden--visually {border: 0;clip: rect(1px 1px 1px 1px);clip: rect(1px, 1px, 1px, 1px);height: 1px;margin: -1px;overflow: hidden;padding: 0;position: absolute;width: 1px;}#sk-container-id-4 div.sk-estimator {font-family: monospace;background-color: #f0f8ff;border: 1px dotted black;border-radius: 0.25em;box-sizing: border-box;margin-bottom: 0.5em;}#sk-container-id-4 div.sk-estimator:hover {background-color: #d4ebff;}#sk-container-id-4 div.sk-parallel-item::after {content: \"\";width: 100%;border-bottom: 1px solid gray;flex-grow: 1;}#sk-container-id-4 div.sk-label:hover label.sk-toggleable__label {background-color: #d4ebff;}#sk-container-id-4 div.sk-serial::before {content: \"\";position: absolute;border-left: 1px solid gray;box-sizing: border-box;top: 0;bottom: 0;left: 50%;z-index: 0;}#sk-container-id-4 div.sk-serial {display: flex;flex-direction: column;align-items: center;background-color: white;padding-right: 0.2em;padding-left: 0.2em;position: relative;}#sk-container-id-4 div.sk-item {position: relative;z-index: 1;}#sk-container-id-4 div.sk-parallel {display: flex;align-items: stretch;justify-content: center;background-color: white;position: relative;}#sk-container-id-4 div.sk-item::before, #sk-container-id-4 div.sk-parallel-item::before {content: \"\";position: absolute;border-left: 1px solid gray;box-sizing: border-box;top: 0;bottom: 0;left: 50%;z-index: -1;}#sk-container-id-4 div.sk-parallel-item {display: flex;flex-direction: column;z-index: 1;position: relative;background-color: white;}#sk-container-id-4 div.sk-parallel-item:first-child::after {align-self: flex-end;width: 50%;}#sk-container-id-4 div.sk-parallel-item:last-child::after {align-self: flex-start;width: 50%;}#sk-container-id-4 div.sk-parallel-item:only-child::after {width: 0;}#sk-container-id-4 div.sk-dashed-wrapped {border: 1px dashed gray;margin: 0 0.4em 0.5em 0.4em;box-sizing: border-box;padding-bottom: 0.4em;background-color: white;}#sk-container-id-4 div.sk-label label {font-family: monospace;font-weight: bold;display: inline-block;line-height: 1.2em;}#sk-container-id-4 div.sk-label-container {text-align: center;}#sk-container-id-4 div.sk-container {/* jupyter's `normalize.less` sets `[hidden] { display: none; }` but bootstrap.min.css set `[hidden] { display: none !important; }` so we also need the `!important` here to be able to override the default hidden behavior on the sphinx rendered scikit-learn.org. See: https://github.com/scikit-learn/scikit-learn/issues/21755 */display: inline-block !important;position: relative;}#sk-container-id-4 div.sk-text-repr-fallback {display: none;}</style><div id=\"sk-container-id-4\" class=\"sk-top-container\"><div class=\"sk-text-repr-fallback\"><pre>DecisionTreeClassifier(criterion=&#x27;entropy&#x27;, max_depth=3)</pre><b>In a Jupyter environment, please rerun this cell to show the HTML representation or trust the notebook. <br />On GitHub, the HTML representation is unable to render, please try loading this page with nbviewer.org.</b></div><div class=\"sk-container\" hidden><div class=\"sk-item\"><div class=\"sk-estimator sk-toggleable\"><input class=\"sk-toggleable__control sk-hidden--visually\" id=\"sk-estimator-id-4\" type=\"checkbox\" checked><label for=\"sk-estimator-id-4\" class=\"sk-toggleable__label sk-toggleable__label-arrow\">DecisionTreeClassifier</label><div class=\"sk-toggleable__content\"><pre>DecisionTreeClassifier(criterion=&#x27;entropy&#x27;, max_depth=3)</pre></div></div></div></div></div>"
            ]
          },
          "metadata": {},
          "execution_count": 48
        }
      ],
      "source": [
        "clf"
      ]
    },
    {
      "cell_type": "code",
      "execution_count": 49,
      "metadata": {
        "id": "HpS7K9fZiyLV"
      },
      "outputs": [],
      "source": [
        "import pydotplus"
      ]
    },
    {
      "cell_type": "code",
      "execution_count": 50,
      "metadata": {
        "id": "KK-ViwGwiyIv"
      },
      "outputs": [],
      "source": [
        "from IPython.display import Image"
      ]
    },
    {
      "cell_type": "code",
      "execution_count": 51,
      "metadata": {
        "id": "FIuwtUSTjCJR"
      },
      "outputs": [],
      "source": [
        "dot_data = tree.export_graphviz(clf, feature_names=X.columns, class_names=['non-phishing', 'phishing'], filled=True,  out_file=None)"
      ]
    },
    {
      "cell_type": "code",
      "execution_count": 52,
      "metadata": {
        "id": "H-6yjTRzjCFx",
        "colab": {
          "base_uri": "https://localhost:8080/"
        },
        "outputId": "654dde78-5384-4d27-a61b-66ad8d644614"
      },
      "outputs": [
        {
          "output_type": "execute_result",
          "data": {
            "text/plain": [
              "True"
            ]
          },
          "metadata": {},
          "execution_count": 52
        }
      ],
      "source": [
        "graph = pydotplus.graph_from_dot_data(dot_data)\n",
        "graph.write_png(\"decision_tree.png\")"
      ]
    },
    {
      "cell_type": "code",
      "execution_count": 53,
      "metadata": {
        "id": "LSwn2m4rjCDU",
        "colab": {
          "base_uri": "https://localhost:8080/",
          "height": 581
        },
        "outputId": "c49f107b-5bcd-4705-ce0a-3ebfb1c30c84"
      },
      "outputs": [
        {
          "output_type": "execute_result",
          "data": {
            "image/png": "[encoded data removed]",
            "text/plain": [
              "<IPython.core.display.Image object>"
            ]
          },
          "metadata": {},
          "execution_count": 53
        }
      ],
      "source": [
        "graph\n",
        "\n",
        "Image(graph.create_png())"
      ]
    },
    {
      "cell_type": "code",
      "execution_count": 54,
      "metadata": {
        "id": "uK7fq8LSoYAX"
      },
      "outputs": [],
      "source": [
        "wandb.log({\"decision_tree\": wandb.Image(\"decision_tree.png\")})"
      ]
    },
    {
      "cell_type": "code",
      "execution_count": 55,
      "metadata": {
        "id": "HumBAadYjCAq"
      },
      "outputs": [],
      "source": [
        "testData = [\n",
        "    [630, 0, 0, 18.0, 107.611111, 107.277778, 0.0, 0.0, 0.0, 0.0, 0.8, 0.795729, 1],\n",
        "    [10000000, 0, 0, 18.0, 107.611111, 107.277778, 0.0, 0.0, 0.0, 0.0, 0.8, 0.795729, 1],\n",
        "    [1, 0, 0, 11.0, 150.636364, 152.272727, 0.0, 0.0, 0.0, 0.0, 0.0, 0.768577, 1],\n",
        "    [10000000, 0, 0, 14.0, 73.500000, 72.642857, 0.0, 0.0, 0.0, 0.0, 0.0, 0.726582, 1],\n",
        "    [46091, 0, 0, 6.0, 562.000000, 590.666667, 0.0, 0.0, 0.0, 0.0, 0.0, 0.85964, 1]\n",
        "]"
      ]
    },
    {
      "cell_type": "code",
      "execution_count": 56,
      "metadata": {
        "id": "VqvWi81Ik96W",
        "colab": {
          "base_uri": "https://localhost:8080/"
        },
        "outputId": "738868b4-adf7-49fd-f195-536266f3fcf2"
      },
      "outputs": [
        {
          "output_type": "execute_result",
          "data": {
            "text/plain": [
              "[[630,\n",
              "  0,\n",
              "  0,\n",
              "  18.0,\n",
              "  107.611111,\n",
              "  107.277778,\n",
              "  0.0,\n",
              "  0.0,\n",
              "  0.0,\n",
              "  0.0,\n",
              "  0.8,\n",
              "  0.795729,\n",
              "  1],\n",
              " [10000000,\n",
              "  0,\n",
              "  0,\n",
              "  18.0,\n",
              "  107.611111,\n",
              "  107.277778,\n",
              "  0.0,\n",
              "  0.0,\n",
              "  0.0,\n",
              "  0.0,\n",
              "  0.8,\n",
              "  0.795729,\n",
              "  1],\n",
              " [1, 0, 0, 11.0, 150.636364, 152.272727, 0.0, 0.0, 0.0, 0.0, 0.0, 0.768577, 1],\n",
              " [10000000, 0, 0, 14.0, 73.5, 72.642857, 0.0, 0.0, 0.0, 0.0, 0.0, 0.726582, 1],\n",
              " [46091, 0, 0, 6.0, 562.0, 590.666667, 0.0, 0.0, 0.0, 0.0, 0.0, 0.85964, 1]]"
            ]
          },
          "metadata": {},
          "execution_count": 56
        }
      ],
      "source": [
        "testData"
      ]
    },
    {
      "cell_type": "code",
      "execution_count": 57,
      "metadata": {
        "id": "Uz_Zsx6fmCG9",
        "colab": {
          "base_uri": "https://localhost:8080/"
        },
        "outputId": "b7e5e818-d17e-4f63-c840-56026e5b2cba"
      },
      "outputs": [
        {
          "output_type": "execute_result",
          "data": {
            "text/plain": [
              "Index(['ranking', 'mld_res', 'mld.ps_res', 'card_rem', 'ratio_Rrem',\n",
              "       'ratio_Arem', 'jaccard_RR', 'jaccard_RA', 'jaccard_AR', 'jaccard_AA',\n",
              "       'jaccard_ARrd', 'jaccard_ARrem'],\n",
              "      dtype='object')"
            ]
          },
          "metadata": {},
          "execution_count": 57
        }
      ],
      "source": [
        "X.columns"
      ]
    },
    {
      "cell_type": "code",
      "execution_count": 58,
      "metadata": {
        "id": "4Oop6u8MmKEQ"
      },
      "outputs": [],
      "source": [
        "columns_to_use = ['ranking','mld_res', 'mld.ps_res', 'card_rem', 'ratio_Rrem', 'ratio_Arem',\n",
        "                  'jaccard_RR', 'jaccard_RA', 'jaccard_AR', 'jaccard_AA', 'jaccard_ARrd', 'jaccard_ARrem']"
      ]
    },
    {
      "cell_type": "code",
      "execution_count": 59,
      "metadata": {
        "id": "axaBH2fjk923"
      },
      "outputs": [],
      "source": [
        "testData = pd.DataFrame(testData, columns = columns_to_use +  ['label'])"
      ]
    },
    {
      "cell_type": "code",
      "execution_count": 60,
      "metadata": {
        "id": "JyWN0PTJk90V",
        "colab": {
          "base_uri": "https://localhost:8080/",
          "height": 206
        },
        "outputId": "f11a77c4-9b2e-4486-f190-c91433d82f86"
      },
      "outputs": [
        {
          "output_type": "execute_result",
          "data": {
            "text/plain": [
              "    ranking  mld_res  mld.ps_res  card_rem  ratio_Rrem  ratio_Arem  \\\n",
              "0       630        0           0      18.0  107.611111  107.277778   \n",
              "1  10000000        0           0      18.0  107.611111  107.277778   \n",
              "2         1        0           0      11.0  150.636364  152.272727   \n",
              "3  10000000        0           0      14.0   73.500000   72.642857   \n",
              "4     46091        0           0       6.0  562.000000  590.666667   \n",
              "\n",
              "   jaccard_RR  jaccard_RA  jaccard_AR  jaccard_AA  jaccard_ARrd  \\\n",
              "0         0.0         0.0         0.0         0.0           0.8   \n",
              "1         0.0         0.0         0.0         0.0           0.8   \n",
              "2         0.0         0.0         0.0         0.0           0.0   \n",
              "3         0.0         0.0         0.0         0.0           0.0   \n",
              "4         0.0         0.0         0.0         0.0           0.0   \n",
              "\n",
              "   jaccard_ARrem  label  \n",
              "0       0.795729      1  \n",
              "1       0.795729      1  \n",
              "2       0.768577      1  \n",
              "3       0.726582      1  \n",
              "4       0.859640      1  "
            ],
            "text/html": [
              "\n",
              "  <div id=\"df-95d25b9d-4c2d-49c6-b61d-cf1348a7b90e\" class=\"colab-df-container\">\n",
              "    <div>\n",
              "<style scoped>\n",
              "    .dataframe tbody tr th:only-of-type {\n",
              "        vertical-align: middle;\n",
              "    }\n",
              "\n",
              "    .dataframe tbody tr th {\n",
              "        vertical-align: top;\n",
              "    }\n",
              "\n",
              "    .dataframe thead th {\n",
              "        text-align: right;\n",
              "    }\n",
              "</style>\n",
              "<table border=\"1\" class=\"dataframe\">\n",
              "  <thead>\n",
              "    <tr style=\"text-align: right;\">\n",
              "      <th></th>\n",
              "      <th>ranking</th>\n",
              "      <th>mld_res</th>\n",
              "      <th>mld.ps_res</th>\n",
              "      <th>card_rem</th>\n",
              "      <th>ratio_Rrem</th>\n",
              "      <th>ratio_Arem</th>\n",
              "      <th>jaccard_RR</th>\n",
              "      <th>jaccard_RA</th>\n",
              "      <th>jaccard_AR</th>\n",
              "      <th>jaccard_AA</th>\n",
              "      <th>jaccard_ARrd</th>\n",
              "      <th>jaccard_ARrem</th>\n",
              "      <th>label</th>\n",
              "    </tr>\n",
              "  </thead>\n",
              "  <tbody>\n",
              "    <tr>\n",
              "      <th>0</th>\n",
              "      <td>630</td>\n",
              "      <td>0</td>\n",
              "      <td>0</td>\n",
              "      <td>18.0</td>\n",
              "      <td>107.611111</td>\n",
              "      <td>107.277778</td>\n",
              "      <td>0.0</td>\n",
              "      <td>0.0</td>\n",
              "      <td>0.0</td>\n",
              "      <td>0.0</td>\n",
              "      <td>0.8</td>\n",
              "      <td>0.795729</td>\n",
              "      <td>1</td>\n",
              "    </tr>\n",
              "    <tr>\n",
              "      <th>1</th>\n",
              "      <td>10000000</td>\n",
              "      <td>0</td>\n",
              "      <td>0</td>\n",
              "      <td>18.0</td>\n",
              "      <td>107.611111</td>\n",
              "      <td>107.277778</td>\n",
              "      <td>0.0</td>\n",
              "      <td>0.0</td>\n",
              "      <td>0.0</td>\n",
              "      <td>0.0</td>\n",
              "      <td>0.8</td>\n",
              "      <td>0.795729</td>\n",
              "      <td>1</td>\n",
              "    </tr>\n",
              "    <tr>\n",
              "      <th>2</th>\n",
              "      <td>1</td>\n",
              "      <td>0</td>\n",
              "      <td>0</td>\n",
              "      <td>11.0</td>\n",
              "      <td>150.636364</td>\n",
              "      <td>152.272727</td>\n",
              "      <td>0.0</td>\n",
              "      <td>0.0</td>\n",
              "      <td>0.0</td>\n",
              "      <td>0.0</td>\n",
              "      <td>0.0</td>\n",
              "      <td>0.768577</td>\n",
              "      <td>1</td>\n",
              "    </tr>\n",
              "    <tr>\n",
              "      <th>3</th>\n",
              "      <td>10000000</td>\n",
              "      <td>0</td>\n",
              "      <td>0</td>\n",
              "      <td>14.0</td>\n",
              "      <td>73.500000</td>\n",
              "      <td>72.642857</td>\n",
              "      <td>0.0</td>\n",
              "      <td>0.0</td>\n",
              "      <td>0.0</td>\n",
              "      <td>0.0</td>\n",
              "      <td>0.0</td>\n",
              "      <td>0.726582</td>\n",
              "      <td>1</td>\n",
              "    </tr>\n",
              "    <tr>\n",
              "      <th>4</th>\n",
              "      <td>46091</td>\n",
              "      <td>0</td>\n",
              "      <td>0</td>\n",
              "      <td>6.0</td>\n",
              "      <td>562.000000</td>\n",
              "      <td>590.666667</td>\n",
              "      <td>0.0</td>\n",
              "      <td>0.0</td>\n",
              "      <td>0.0</td>\n",
              "      <td>0.0</td>\n",
              "      <td>0.0</td>\n",
              "      <td>0.859640</td>\n",
              "      <td>1</td>\n",
              "    </tr>\n",
              "  </tbody>\n",
              "</table>\n",
              "</div>\n",
              "    <div class=\"colab-df-buttons\">\n",
              "\n",
              "  <div class=\"colab-df-container\">\n",
              "    <button class=\"colab-df-convert\" onclick=\"convertToInteractive('df-95d25b9d-4c2d-49c6-b61d-cf1348a7b90e')\"\n",
              "            title=\"Convert this dataframe to an interactive table.\"\n",
              "            style=\"display:none;\">\n",
              "\n",
              "  <svg xmlns=\"http://www.w3.org/2000/svg\" height=\"24px\" viewBox=\"0 -960 960 960\">\n",
              "    <path d=\"M120-120v-720h720v720H120Zm60-500h600v-160H180v160Zm220 220h160v-160H400v160Zm0 220h160v-160H400v160ZM180-400h160v-160H180v160Zm440 0h160v-160H620v160ZM180-180h160v-160H180v160Zm440 0h160v-160H620v160Z\"/>\n",
              "  </svg>\n",
              "    </button>\n",
              "\n",
              "  <style>\n",
              "    .colab-df-container {\n",
              "      display:flex;\n",
              "      gap: 12px;\n",
              "    }\n",
              "\n",
              "    .colab-df-convert {\n",
              "      background-color: #E8F0FE;\n",
              "      border: none;\n",
              "      border-radius: 50%;\n",
              "      cursor: pointer;\n",
              "      display: none;\n",
              "      fill: #1967D2;\n",
              "      height: 32px;\n",
              "      padding: 0 0 0 0;\n",
              "      width: 32px;\n",
              "    }\n",
              "\n",
              "    .colab-df-convert:hover {\n",
              "      background-color: #E2EBFA;\n",
              "      box-shadow: 0px 1px 2px rgba(60, 64, 67, 0.3), 0px 1px 3px 1px rgba(60, 64, 67, 0.15);\n",
              "      fill: #174EA6;\n",
              "    }\n",
              "\n",
              "    .colab-df-buttons div {\n",
              "      margin-bottom: 4px;\n",
              "    }\n",
              "\n",
              "    [theme=dark] .colab-df-convert {\n",
              "      background-color: #3B4455;\n",
              "      fill: #D2E3FC;\n",
              "    }\n",
              "\n",
              "    [theme=dark] .colab-df-convert:hover {\n",
              "      background-color: #434B5C;\n",
              "      box-shadow: 0px 1px 3px 1px rgba(0, 0, 0, 0.15);\n",
              "      filter: drop-shadow(0px 1px 2px rgba(0, 0, 0, 0.3));\n",
              "      fill: #FFFFFF;\n",
              "    }\n",
              "  </style>\n",
              "\n",
              "    <script>\n",
              "      const buttonEl =\n",
              "        document.querySelector('#df-95d25b9d-4c2d-49c6-b61d-cf1348a7b90e button.colab-df-convert');\n",
              "      buttonEl.style.display =\n",
              "        google.colab.kernel.accessAllowed ? 'block' : 'none';\n",
              "\n",
              "      async function convertToInteractive(key) {\n",
              "        const element = document.querySelector('#df-95d25b9d-4c2d-49c6-b61d-cf1348a7b90e');\n",
              "        const dataTable =\n",
              "          await google.colab.kernel.invokeFunction('convertToInteractive',\n",
              "                                                    [key], {});\n",
              "        if (!dataTable) return;\n",
              "\n",
              "        const docLinkHtml = 'Like what you see? Visit the ' +\n",
              "          '<a target=\"_blank\" href=https://colab.research.google.com/notebooks/data_table.ipynb>data table notebook</a>'\n",
              "          + ' to learn more about interactive tables.';\n",
              "        element.innerHTML = '';\n",
              "        dataTable['output_type'] = 'display_data';\n",
              "        await google.colab.output.renderOutput(dataTable, element);\n",
              "        const docLink = document.createElement('div');\n",
              "        docLink.innerHTML = docLinkHtml;\n",
              "        element.appendChild(docLink);\n",
              "      }\n",
              "    </script>\n",
              "  </div>\n",
              "\n",
              "\n",
              "<div id=\"df-61a1ed7f-112d-4400-b2ed-84f1eb44cff7\">\n",
              "  <button class=\"colab-df-quickchart\" onclick=\"quickchart('df-61a1ed7f-112d-4400-b2ed-84f1eb44cff7')\"\n",
              "            title=\"Suggest charts\"\n",
              "            style=\"display:none;\">\n",
              "\n",
              "<svg xmlns=\"http://www.w3.org/2000/svg\" height=\"24px\"viewBox=\"0 0 24 24\"\n",
              "     width=\"24px\">\n",
              "    <g>\n",
              "        <path d=\"M19 3H5c-1.1 0-2 .9-2 2v14c0 1.1.9 2 2 2h14c1.1 0 2-.9 2-2V5c0-1.1-.9-2-2-2zM9 17H7v-7h2v7zm4 0h-2V7h2v10zm4 0h-2v-4h2v4z\"/>\n",
              "    </g>\n",
              "</svg>\n",
              "  </button>\n",
              "\n",
              "<style>\n",
              "  .colab-df-quickchart {\n",
              "      --bg-color: #E8F0FE;\n",
              "      --fill-color: #1967D2;\n",
              "      --hover-bg-color: #E2EBFA;\n",
              "      --hover-fill-color: #174EA6;\n",
              "      --disabled-fill-color: #AAA;\n",
              "      --disabled-bg-color: #DDD;\n",
              "  }\n",
              "\n",
              "  [theme=dark] .colab-df-quickchart {\n",
              "      --bg-color: #3B4455;\n",
              "      --fill-color: #D2E3FC;\n",
              "      --hover-bg-color: #434B5C;\n",
              "      --hover-fill-color: #FFFFFF;\n",
              "      --disabled-bg-color: #3B4455;\n",
              "      --disabled-fill-color: #666;\n",
              "  }\n",
              "\n",
              "  .colab-df-quickchart {\n",
              "    background-color: var(--bg-color);\n",
              "    border: none;\n",
              "    border-radius: 50%;\n",
              "    cursor: pointer;\n",
              "    display: none;\n",
              "    fill: var(--fill-color);\n",
              "    height: 32px;\n",
              "    padding: 0;\n",
              "    width: 32px;\n",
              "  }\n",
              "\n",
              "  .colab-df-quickchart:hover {\n",
              "    background-color: var(--hover-bg-color);\n",
              "    box-shadow: 0 1px 2px rgba(60, 64, 67, 0.3), 0 1px 3px 1px rgba(60, 64, 67, 0.15);\n",
              "    fill: var(--button-hover-fill-color);\n",
              "  }\n",
              "\n",
              "  .colab-df-quickchart-complete:disabled,\n",
              "  .colab-df-quickchart-complete:disabled:hover {\n",
              "    background-color: var(--disabled-bg-color);\n",
              "    fill: var(--disabled-fill-color);\n",
              "    box-shadow: none;\n",
              "  }\n",
              "\n",
              "  .colab-df-spinner {\n",
              "    border: 2px solid var(--fill-color);\n",
              "    border-color: transparent;\n",
              "    border-bottom-color: var(--fill-color);\n",
              "    animation:\n",
              "      spin 1s steps(1) infinite;\n",
              "  }\n",
              "\n",
              "  @keyframes spin {\n",
              "    0% {\n",
              "      border-color: transparent;\n",
              "      border-bottom-color: var(--fill-color);\n",
              "      border-left-color: var(--fill-color);\n",
              "    }\n",
              "    20% {\n",
              "      border-color: transparent;\n",
              "      border-left-color: var(--fill-color);\n",
              "      border-top-color: var(--fill-color);\n",
              "    }\n",
              "    30% {\n",
              "      border-color: transparent;\n",
              "      border-left-color: var(--fill-color);\n",
              "      border-top-color: var(--fill-color);\n",
              "      border-right-color: var(--fill-color);\n",
              "    }\n",
              "    40% {\n",
              "      border-color: transparent;\n",
              "      border-right-color: var(--fill-color);\n",
              "      border-top-color: var(--fill-color);\n",
              "    }\n",
              "    60% {\n",
              "      border-color: transparent;\n",
              "      border-right-color: var(--fill-color);\n",
              "    }\n",
              "    80% {\n",
              "      border-color: transparent;\n",
              "      border-right-color: var(--fill-color);\n",
              "      border-bottom-color: var(--fill-color);\n",
              "    }\n",
              "    90% {\n",
              "      border-color: transparent;\n",
              "      border-bottom-color: var(--fill-color);\n",
              "    }\n",
              "  }\n",
              "</style>\n",
              "\n",
              "  <script>\n",
              "    async function quickchart(key) {\n",
              "      const quickchartButtonEl =\n",
              "        document.querySelector('#' + key + ' button');\n",
              "      quickchartButtonEl.disabled = true;  // To prevent multiple clicks.\n",
              "      quickchartButtonEl.classList.add('colab-df-spinner');\n",
              "      try {\n",
              "        const charts = await google.colab.kernel.invokeFunction(\n",
              "            'suggestCharts', [key], {});\n",
              "      } catch (error) {\n",
              "        console.error('Error during call to suggestCharts:', error);\n",
              "      }\n",
              "      quickchartButtonEl.classList.remove('colab-df-spinner');\n",
              "      quickchartButtonEl.classList.add('colab-df-quickchart-complete');\n",
              "    }\n",
              "    (() => {\n",
              "      let quickchartButtonEl =\n",
              "        document.querySelector('#df-61a1ed7f-112d-4400-b2ed-84f1eb44cff7 button');\n",
              "      quickchartButtonEl.style.display =\n",
              "        google.colab.kernel.accessAllowed ? 'block' : 'none';\n",
              "    })();\n",
              "  </script>\n",
              "</div>\n",
              "\n",
              "  <div id=\"id_9e0a60c0-b6ed-404d-b4b1-e1507def9920\">\n",
              "    <style>\n",
              "      .colab-df-generate {\n",
              "        background-color: #E8F0FE;\n",
              "        border: none;\n",
              "        border-radius: 50%;\n",
              "        cursor: pointer;\n",
              "        display: none;\n",
              "        fill: #1967D2;\n",
              "        height: 32px;\n",
              "        padding: 0 0 0 0;\n",
              "        width: 32px;\n",
              "      }\n",
              "\n",
              "      .colab-df-generate:hover {\n",
              "        background-color: #E2EBFA;\n",
              "        box-shadow: 0px 1px 2px rgba(60, 64, 67, 0.3), 0px 1px 3px 1px rgba(60, 64, 67, 0.15);\n",
              "        fill: #174EA6;\n",
              "      }\n",
              "\n",
              "      [theme=dark] .colab-df-generate {\n",
              "        background-color: #3B4455;\n",
              "        fill: #D2E3FC;\n",
              "      }\n",
              "\n",
              "      [theme=dark] .colab-df-generate:hover {\n",
              "        background-color: #434B5C;\n",
              "        box-shadow: 0px 1px 3px 1px rgba(0, 0, 0, 0.15);\n",
              "        filter: drop-shadow(0px 1px 2px rgba(0, 0, 0, 0.3));\n",
              "        fill: #FFFFFF;\n",
              "      }\n",
              "    </style>\n",
              "    <button class=\"colab-df-generate\" onclick=\"generateWithVariable('testData')\"\n",
              "            title=\"Generate code using this dataframe.\"\n",
              "            style=\"display:none;\">\n",
              "\n",
              "  <svg xmlns=\"http://www.w3.org/2000/svg\" height=\"24px\"viewBox=\"0 0 24 24\"\n",
              "       width=\"24px\">\n",
              "    <path d=\"M7,19H8.4L18.45,9,17,7.55,7,17.6ZM5,21V16.75L18.45,3.32a2,2,0,0,1,2.83,0l1.4,1.43a1.91,1.91,0,0,1,.58,1.4,1.91,1.91,0,0,1-.58,1.4L9.25,21ZM18.45,9,17,7.55Zm-12,3A5.31,5.31,0,0,0,4.9,8.1,5.31,5.31,0,0,0,1,6.5,5.31,5.31,0,0,0,4.9,4.9,5.31,5.31,0,0,0,6.5,1,5.31,5.31,0,0,0,8.1,4.9,5.31,5.31,0,0,0,12,6.5,5.46,5.46,0,0,0,6.5,12Z\"/>\n",
              "  </svg>\n",
              "    </button>\n",
              "    <script>\n",
              "      (() => {\n",
              "      const buttonEl =\n",
              "        document.querySelector('#id_9e0a60c0-b6ed-404d-b4b1-e1507def9920 button.colab-df-generate');\n",
              "      buttonEl.style.display =\n",
              "        google.colab.kernel.accessAllowed ? 'block' : 'none';\n",
              "\n",
              "      buttonEl.onclick = () => {\n",
              "        google.colab.notebook.generateWithVariable('testData');\n",
              "      }\n",
              "      })();\n",
              "    </script>\n",
              "  </div>\n",
              "\n",
              "    </div>\n",
              "  </div>\n"
            ],
            "application/vnd.google.colaboratory.intrinsic+json": {
              "type": "dataframe",
              "variable_name": "testData",
              "summary": "{\n  \"name\": \"testData\",\n  \"rows\": 5,\n  \"fields\": [\n    {\n      \"column\": \"ranking\",\n      \"properties\": {\n        \"dtype\": \"number\",\n        \"std\": 5468727,\n        \"min\": 1,\n        \"max\": 10000000,\n        \"num_unique_values\": 4,\n        \"samples\": [\n          10000000,\n          46091,\n          630\n        ],\n        \"semantic_type\": \"\",\n        \"description\": \"\"\n      }\n    },\n    {\n      \"column\": \"mld_res\",\n      \"properties\": {\n        \"dtype\": \"number\",\n        \"std\": 0,\n        \"min\": 0,\n        \"max\": 0,\n        \"num_unique_values\": 1,\n        \"samples\": [\n          0\n        ],\n        \"semantic_type\": \"\",\n        \"description\": \"\"\n      }\n    },\n    {\n      \"column\": \"mld.ps_res\",\n      \"properties\": {\n        \"dtype\": \"number\",\n        \"std\": 0,\n        \"min\": 0,\n        \"max\": 0,\n        \"num_unique_values\": 1,\n        \"samples\": [\n          0\n        ],\n        \"semantic_type\": \"\",\n        \"description\": \"\"\n      }\n    },\n    {\n      \"column\": \"card_rem\",\n      \"properties\": {\n        \"dtype\": \"number\",\n        \"std\": 5.079370039680118,\n        \"min\": 6.0,\n        \"max\": 18.0,\n        \"num_unique_values\": 4,\n        \"samples\": [\n          11.0\n        ],\n        \"semantic_type\": \"\",\n        \"description\": \"\"\n      }\n    },\n    {\n      \"column\": \"ratio_Rrem\",\n      \"properties\": {\n        \"dtype\": \"number\",\n        \"std\": 204.0551782173545,\n        \"min\": 73.5,\n        \"max\": 562.0,\n        \"num_unique_values\": 4,\n        \"samples\": [\n          150.636364\n        ],\n        \"semantic_type\": \"\",\n        \"description\": \"\"\n      }\n    },\n    {\n      \"column\": \"ratio_Arem\",\n      \"properties\": {\n        \"dtype\": \"number\",\n        \"std\": 216.87055043799086,\n        \"min\": 72.642857,\n        \"max\": 590.666667,\n        \"num_unique_values\": 4,\n        \"samples\": [\n          152.272727\n        ],\n        \"semantic_type\": \"\",\n        \"description\": \"\"\n      }\n    },\n    {\n      \"column\": \"jaccard_RR\",\n      \"properties\": {\n        \"dtype\": \"number\",\n        \"std\": 0.0,\n        \"min\": 0.0,\n        \"max\": 0.0,\n        \"num_unique_values\": 1,\n        \"samples\": [\n          0.0\n        ],\n        \"semantic_type\": \"\",\n        \"description\": \"\"\n      }\n    },\n    {\n      \"column\": \"jaccard_RA\",\n      \"properties\": {\n        \"dtype\": \"number\",\n        \"std\": 0.0,\n        \"min\": 0.0,\n        \"max\": 0.0,\n        \"num_unique_values\": 1,\n        \"samples\": [\n          0.0\n        ],\n        \"semantic_type\": \"\",\n        \"description\": \"\"\n      }\n    },\n    {\n      \"column\": \"jaccard_AR\",\n      \"properties\": {\n        \"dtype\": \"number\",\n        \"std\": 0.0,\n        \"min\": 0.0,\n        \"max\": 0.0,\n        \"num_unique_values\": 1,\n        \"samples\": [\n          0.0\n        ],\n        \"semantic_type\": \"\",\n        \"description\": \"\"\n      }\n    },\n    {\n      \"column\": \"jaccard_AA\",\n      \"properties\": {\n        \"dtype\": \"number\",\n        \"std\": 0.0,\n        \"min\": 0.0,\n        \"max\": 0.0,\n        \"num_unique_values\": 1,\n        \"samples\": [\n          0.0\n        ],\n        \"semantic_type\": \"\",\n        \"description\": \"\"\n      }\n    },\n    {\n      \"column\": \"jaccard_ARrd\",\n      \"properties\": {\n        \"dtype\": \"number\",\n        \"std\": 0.43817804600413296,\n        \"min\": 0.0,\n        \"max\": 0.8,\n        \"num_unique_values\": 2,\n        \"samples\": [\n          0.0\n        ],\n        \"semantic_type\": \"\",\n        \"description\": \"\"\n      }\n    },\n    {\n      \"column\": \"jaccard_ARrem\",\n      \"properties\": {\n        \"dtype\": \"number\",\n        \"std\": 0.04845966912082666,\n        \"min\": 0.726582,\n        \"max\": 0.85964,\n        \"num_unique_values\": 4,\n        \"samples\": [\n          0.768577\n        ],\n        \"semantic_type\": \"\",\n        \"description\": \"\"\n      }\n    },\n    {\n      \"column\": \"label\",\n      \"properties\": {\n        \"dtype\": \"number\",\n        \"std\": 0,\n        \"min\": 1,\n        \"max\": 1,\n        \"num_unique_values\": 1,\n        \"samples\": [\n          1\n        ],\n        \"semantic_type\": \"\",\n        \"description\": \"\"\n      }\n    }\n  ]\n}"
            }
          },
          "metadata": {},
          "execution_count": 60
        }
      ],
      "source": [
        "testData"
      ]
    },
    {
      "cell_type": "code",
      "execution_count": 61,
      "metadata": {
        "id": "hS5oWEeIk9xs"
      },
      "outputs": [],
      "source": [
        "testY = testData['label']"
      ]
    },
    {
      "cell_type": "code",
      "execution_count": 62,
      "metadata": {
        "id": "VnoG5eXnm321",
        "colab": {
          "base_uri": "https://localhost:8080/"
        },
        "outputId": "6bb512c8-805b-4e29-90c0-9a3b2854d5a6"
      },
      "outputs": [
        {
          "output_type": "execute_result",
          "data": {
            "text/plain": [
              "0    1\n",
              "1    1\n",
              "2    1\n",
              "3    1\n",
              "4    1\n",
              "Name: label, dtype: int64"
            ]
          },
          "metadata": {},
          "execution_count": 62
        }
      ],
      "source": [
        "testY"
      ]
    },
    {
      "cell_type": "code",
      "execution_count": 63,
      "metadata": {
        "id": "iut1BJxam3zh"
      },
      "outputs": [],
      "source": [
        "testX = testData.drop(['label'], axis=1)"
      ]
    },
    {
      "cell_type": "code",
      "execution_count": 64,
      "metadata": {
        "id": "4NFCig3Nm3w0",
        "colab": {
          "base_uri": "https://localhost:8080/",
          "height": 206
        },
        "outputId": "5e21bf76-1030-469b-f521-107204aa649d"
      },
      "outputs": [
        {
          "output_type": "execute_result",
          "data": {
            "text/plain": [
              "    ranking  mld_res  mld.ps_res  card_rem  ratio_Rrem  ratio_Arem  \\\n",
              "0       630        0           0      18.0  107.611111  107.277778   \n",
              "1  10000000        0           0      18.0  107.611111  107.277778   \n",
              "2         1        0           0      11.0  150.636364  152.272727   \n",
              "3  10000000        0           0      14.0   73.500000   72.642857   \n",
              "4     46091        0           0       6.0  562.000000  590.666667   \n",
              "\n",
              "   jaccard_RR  jaccard_RA  jaccard_AR  jaccard_AA  jaccard_ARrd  jaccard_ARrem  \n",
              "0         0.0         0.0         0.0         0.0           0.8       0.795729  \n",
              "1         0.0         0.0         0.0         0.0           0.8       0.795729  \n",
              "2         0.0         0.0         0.0         0.0           0.0       0.768577  \n",
              "3         0.0         0.0         0.0         0.0           0.0       0.726582  \n",
              "4         0.0         0.0         0.0         0.0           0.0       0.859640  "
            ],
            "text/html": [
              "\n",
              "  <div id=\"df-f9be1a90-b551-4356-9dee-f21225f15087\" class=\"colab-df-container\">\n",
              "    <div>\n",
              "<style scoped>\n",
              "    .dataframe tbody tr th:only-of-type {\n",
              "        vertical-align: middle;\n",
              "    }\n",
              "\n",
              "    .dataframe tbody tr th {\n",
              "        vertical-align: top;\n",
              "    }\n",
              "\n",
              "    .dataframe thead th {\n",
              "        text-align: right;\n",
              "    }\n",
              "</style>\n",
              "<table border=\"1\" class=\"dataframe\">\n",
              "  <thead>\n",
              "    <tr style=\"text-align: right;\">\n",
              "      <th></th>\n",
              "      <th>ranking</th>\n",
              "      <th>mld_res</th>\n",
              "      <th>mld.ps_res</th>\n",
              "      <th>card_rem</th>\n",
              "      <th>ratio_Rrem</th>\n",
              "      <th>ratio_Arem</th>\n",
              "      <th>jaccard_RR</th>\n",
              "      <th>jaccard_RA</th>\n",
              "      <th>jaccard_AR</th>\n",
              "      <th>jaccard_AA</th>\n",
              "      <th>jaccard_ARrd</th>\n",
              "      <th>jaccard_ARrem</th>\n",
              "    </tr>\n",
              "  </thead>\n",
              "  <tbody>\n",
              "    <tr>\n",
              "      <th>0</th>\n",
              "      <td>630</td>\n",
              "      <td>0</td>\n",
              "      <td>0</td>\n",
              "      <td>18.0</td>\n",
              "      <td>107.611111</td>\n",
              "      <td>107.277778</td>\n",
              "      <td>0.0</td>\n",
              "      <td>0.0</td>\n",
              "      <td>0.0</td>\n",
              "      <td>0.0</td>\n",
              "      <td>0.8</td>\n",
              "      <td>0.795729</td>\n",
              "    </tr>\n",
              "    <tr>\n",
              "      <th>1</th>\n",
              "      <td>10000000</td>\n",
              "      <td>0</td>\n",
              "      <td>0</td>\n",
              "      <td>18.0</td>\n",
              "      <td>107.611111</td>\n",
              "      <td>107.277778</td>\n",
              "      <td>0.0</td>\n",
              "      <td>0.0</td>\n",
              "      <td>0.0</td>\n",
              "      <td>0.0</td>\n",
              "      <td>0.8</td>\n",
              "      <td>0.795729</td>\n",
              "    </tr>\n",
              "    <tr>\n",
              "      <th>2</th>\n",
              "      <td>1</td>\n",
              "      <td>0</td>\n",
              "      <td>0</td>\n",
              "      <td>11.0</td>\n",
              "      <td>150.636364</td>\n",
              "      <td>152.272727</td>\n",
              "      <td>0.0</td>\n",
              "      <td>0.0</td>\n",
              "      <td>0.0</td>\n",
              "      <td>0.0</td>\n",
              "      <td>0.0</td>\n",
              "      <td>0.768577</td>\n",
              "    </tr>\n",
              "    <tr>\n",
              "      <th>3</th>\n",
              "      <td>10000000</td>\n",
              "      <td>0</td>\n",
              "      <td>0</td>\n",
              "      <td>14.0</td>\n",
              "      <td>73.500000</td>\n",
              "      <td>72.642857</td>\n",
              "      <td>0.0</td>\n",
              "      <td>0.0</td>\n",
              "      <td>0.0</td>\n",
              "      <td>0.0</td>\n",
              "      <td>0.0</td>\n",
              "      <td>0.726582</td>\n",
              "    </tr>\n",
              "    <tr>\n",
              "      <th>4</th>\n",
              "      <td>46091</td>\n",
              "      <td>0</td>\n",
              "      <td>0</td>\n",
              "      <td>6.0</td>\n",
              "      <td>562.000000</td>\n",
              "      <td>590.666667</td>\n",
              "      <td>0.0</td>\n",
              "      <td>0.0</td>\n",
              "      <td>0.0</td>\n",
              "      <td>0.0</td>\n",
              "      <td>0.0</td>\n",
              "      <td>0.859640</td>\n",
              "    </tr>\n",
              "  </tbody>\n",
              "</table>\n",
              "</div>\n",
              "    <div class=\"colab-df-buttons\">\n",
              "\n",
              "  <div class=\"colab-df-container\">\n",
              "    <button class=\"colab-df-convert\" onclick=\"convertToInteractive('df-f9be1a90-b551-4356-9dee-f21225f15087')\"\n",
              "            title=\"Convert this dataframe to an interactive table.\"\n",
              "            style=\"display:none;\">\n",
              "\n",
              "  <svg xmlns=\"http://www.w3.org/2000/svg\" height=\"24px\" viewBox=\"0 -960 960 960\">\n",
              "    <path d=\"M120-120v-720h720v720H120Zm60-500h600v-160H180v160Zm220 220h160v-160H400v160Zm0 220h160v-160H400v160ZM180-400h160v-160H180v160Zm440 0h160v-160H620v160ZM180-180h160v-160H180v160Zm440 0h160v-160H620v160Z\"/>\n",
              "  </svg>\n",
              "    </button>\n",
              "\n",
              "  <style>\n",
              "    .colab-df-container {\n",
              "      display:flex;\n",
              "      gap: 12px;\n",
              "    }\n",
              "\n",
              "    .colab-df-convert {\n",
              "      background-color: #E8F0FE;\n",
              "      border: none;\n",
              "      border-radius: 50%;\n",
              "      cursor: pointer;\n",
              "      display: none;\n",
              "      fill: #1967D2;\n",
              "      height: 32px;\n",
              "      padding: 0 0 0 0;\n",
              "      width: 32px;\n",
              "    }\n",
              "\n",
              "    .colab-df-convert:hover {\n",
              "      background-color: #E2EBFA;\n",
              "      box-shadow: 0px 1px 2px rgba(60, 64, 67, 0.3), 0px 1px 3px 1px rgba(60, 64, 67, 0.15);\n",
              "      fill: #174EA6;\n",
              "    }\n",
              "\n",
              "    .colab-df-buttons div {\n",
              "      margin-bottom: 4px;\n",
              "    }\n",
              "\n",
              "    [theme=dark] .colab-df-convert {\n",
              "      background-color: #3B4455;\n",
              "      fill: #D2E3FC;\n",
              "    }\n",
              "\n",
              "    [theme=dark] .colab-df-convert:hover {\n",
              "      background-color: #434B5C;\n",
              "      box-shadow: 0px 1px 3px 1px rgba(0, 0, 0, 0.15);\n",
              "      filter: drop-shadow(0px 1px 2px rgba(0, 0, 0, 0.3));\n",
              "      fill: #FFFFFF;\n",
              "    }\n",
              "  </style>\n",
              "\n",
              "    <script>\n",
              "      const buttonEl =\n",
              "        document.querySelector('#df-f9be1a90-b551-4356-9dee-f21225f15087 button.colab-df-convert');\n",
              "      buttonEl.style.display =\n",
              "        google.colab.kernel.accessAllowed ? 'block' : 'none';\n",
              "\n",
              "      async function convertToInteractive(key) {\n",
              "        const element = document.querySelector('#df-f9be1a90-b551-4356-9dee-f21225f15087');\n",
              "        const dataTable =\n",
              "          await google.colab.kernel.invokeFunction('convertToInteractive',\n",
              "                                                    [key], {});\n",
              "        if (!dataTable) return;\n",
              "\n",
              "        const docLinkHtml = 'Like what you see? Visit the ' +\n",
              "          '<a target=\"_blank\" href=https://colab.research.google.com/notebooks/data_table.ipynb>data table notebook</a>'\n",
              "          + ' to learn more about interactive tables.';\n",
              "        element.innerHTML = '';\n",
              "        dataTable['output_type'] = 'display_data';\n",
              "        await google.colab.output.renderOutput(dataTable, element);\n",
              "        const docLink = document.createElement('div');\n",
              "        docLink.innerHTML = docLinkHtml;\n",
              "        element.appendChild(docLink);\n",
              "      }\n",
              "    </script>\n",
              "  </div>\n",
              "\n",
              "\n",
              "<div id=\"df-624ce0ad-10e2-4975-9fc2-a8c451957c17\">\n",
              "  <button class=\"colab-df-quickchart\" onclick=\"quickchart('df-624ce0ad-10e2-4975-9fc2-a8c451957c17')\"\n",
              "            title=\"Suggest charts\"\n",
              "            style=\"display:none;\">\n",
              "\n",
              "<svg xmlns=\"http://www.w3.org/2000/svg\" height=\"24px\"viewBox=\"0 0 24 24\"\n",
              "     width=\"24px\">\n",
              "    <g>\n",
              "        <path d=\"M19 3H5c-1.1 0-2 .9-2 2v14c0 1.1.9 2 2 2h14c1.1 0 2-.9 2-2V5c0-1.1-.9-2-2-2zM9 17H7v-7h2v7zm4 0h-2V7h2v10zm4 0h-2v-4h2v4z\"/>\n",
              "    </g>\n",
              "</svg>\n",
              "  </button>\n",
              "\n",
              "<style>\n",
              "  .colab-df-quickchart {\n",
              "      --bg-color: #E8F0FE;\n",
              "      --fill-color: #1967D2;\n",
              "      --hover-bg-color: #E2EBFA;\n",
              "      --hover-fill-color: #174EA6;\n",
              "      --disabled-fill-color: #AAA;\n",
              "      --disabled-bg-color: #DDD;\n",
              "  }\n",
              "\n",
              "  [theme=dark] .colab-df-quickchart {\n",
              "      --bg-color: #3B4455;\n",
              "      --fill-color: #D2E3FC;\n",
              "      --hover-bg-color: #434B5C;\n",
              "      --hover-fill-color: #FFFFFF;\n",
              "      --disabled-bg-color: #3B4455;\n",
              "      --disabled-fill-color: #666;\n",
              "  }\n",
              "\n",
              "  .colab-df-quickchart {\n",
              "    background-color: var(--bg-color);\n",
              "    border: none;\n",
              "    border-radius: 50%;\n",
              "    cursor: pointer;\n",
              "    display: none;\n",
              "    fill: var(--fill-color);\n",
              "    height: 32px;\n",
              "    padding: 0;\n",
              "    width: 32px;\n",
              "  }\n",
              "\n",
              "  .colab-df-quickchart:hover {\n",
              "    background-color: var(--hover-bg-color);\n",
              "    box-shadow: 0 1px 2px rgba(60, 64, 67, 0.3), 0 1px 3px 1px rgba(60, 64, 67, 0.15);\n",
              "    fill: var(--button-hover-fill-color);\n",
              "  }\n",
              "\n",
              "  .colab-df-quickchart-complete:disabled,\n",
              "  .colab-df-quickchart-complete:disabled:hover {\n",
              "    background-color: var(--disabled-bg-color);\n",
              "    fill: var(--disabled-fill-color);\n",
              "    box-shadow: none;\n",
              "  }\n",
              "\n",
              "  .colab-df-spinner {\n",
              "    border: 2px solid var(--fill-color);\n",
              "    border-color: transparent;\n",
              "    border-bottom-color: var(--fill-color);\n",
              "    animation:\n",
              "      spin 1s steps(1) infinite;\n",
              "  }\n",
              "\n",
              "  @keyframes spin {\n",
              "    0% {\n",
              "      border-color: transparent;\n",
              "      border-bottom-color: var(--fill-color);\n",
              "      border-left-color: var(--fill-color);\n",
              "    }\n",
              "    20% {\n",
              "      border-color: transparent;\n",
              "      border-left-color: var(--fill-color);\n",
              "      border-top-color: var(--fill-color);\n",
              "    }\n",
              "    30% {\n",
              "      border-color: transparent;\n",
              "      border-left-color: var(--fill-color);\n",
              "      border-top-color: var(--fill-color);\n",
              "      border-right-color: var(--fill-color);\n",
              "    }\n",
              "    40% {\n",
              "      border-color: transparent;\n",
              "      border-right-color: var(--fill-color);\n",
              "      border-top-color: var(--fill-color);\n",
              "    }\n",
              "    60% {\n",
              "      border-color: transparent;\n",
              "      border-right-color: var(--fill-color);\n",
              "    }\n",
              "    80% {\n",
              "      border-color: transparent;\n",
              "      border-right-color: var(--fill-color);\n",
              "      border-bottom-color: var(--fill-color);\n",
              "    }\n",
              "    90% {\n",
              "      border-color: transparent;\n",
              "      border-bottom-color: var(--fill-color);\n",
              "    }\n",
              "  }\n",
              "</style>\n",
              "\n",
              "  <script>\n",
              "    async function quickchart(key) {\n",
              "      const quickchartButtonEl =\n",
              "        document.querySelector('#' + key + ' button');\n",
              "      quickchartButtonEl.disabled = true;  // To prevent multiple clicks.\n",
              "      quickchartButtonEl.classList.add('colab-df-spinner');\n",
              "      try {\n",
              "        const charts = await google.colab.kernel.invokeFunction(\n",
              "            'suggestCharts', [key], {});\n",
              "      } catch (error) {\n",
              "        console.error('Error during call to suggestCharts:', error);\n",
              "      }\n",
              "      quickchartButtonEl.classList.remove('colab-df-spinner');\n",
              "      quickchartButtonEl.classList.add('colab-df-quickchart-complete');\n",
              "    }\n",
              "    (() => {\n",
              "      let quickchartButtonEl =\n",
              "        document.querySelector('#df-624ce0ad-10e2-4975-9fc2-a8c451957c17 button');\n",
              "      quickchartButtonEl.style.display =\n",
              "        google.colab.kernel.accessAllowed ? 'block' : 'none';\n",
              "    })();\n",
              "  </script>\n",
              "</div>\n",
              "\n",
              "  <div id=\"id_4f8c10e5-84a1-438d-ac4f-559de81cfe35\">\n",
              "    <style>\n",
              "      .colab-df-generate {\n",
              "        background-color: #E8F0FE;\n",
              "        border: none;\n",
              "        border-radius: 50%;\n",
              "        cursor: pointer;\n",
              "        display: none;\n",
              "        fill: #1967D2;\n",
              "        height: 32px;\n",
              "        padding: 0 0 0 0;\n",
              "        width: 32px;\n",
              "      }\n",
              "\n",
              "      .colab-df-generate:hover {\n",
              "        background-color: #E2EBFA;\n",
              "        box-shadow: 0px 1px 2px rgba(60, 64, 67, 0.3), 0px 1px 3px 1px rgba(60, 64, 67, 0.15);\n",
              "        fill: #174EA6;\n",
              "      }\n",
              "\n",
              "      [theme=dark] .colab-df-generate {\n",
              "        background-color: #3B4455;\n",
              "        fill: #D2E3FC;\n",
              "      }\n",
              "\n",
              "      [theme=dark] .colab-df-generate:hover {\n",
              "        background-color: #434B5C;\n",
              "        box-shadow: 0px 1px 3px 1px rgba(0, 0, 0, 0.15);\n",
              "        filter: drop-shadow(0px 1px 2px rgba(0, 0, 0, 0.3));\n",
              "        fill: #FFFFFF;\n",
              "      }\n",
              "    </style>\n",
              "    <button class=\"colab-df-generate\" onclick=\"generateWithVariable('testX')\"\n",
              "            title=\"Generate code using this dataframe.\"\n",
              "            style=\"display:none;\">\n",
              "\n",
              "  <svg xmlns=\"http://www.w3.org/2000/svg\" height=\"24px\"viewBox=\"0 0 24 24\"\n",
              "       width=\"24px\">\n",
              "    <path d=\"M7,19H8.4L18.45,9,17,7.55,7,17.6ZM5,21V16.75L18.45,3.32a2,2,0,0,1,2.83,0l1.4,1.43a1.91,1.91,0,0,1,.58,1.4,1.91,1.91,0,0,1-.58,1.4L9.25,21ZM18.45,9,17,7.55Zm-12,3A5.31,5.31,0,0,0,4.9,8.1,5.31,5.31,0,0,0,1,6.5,5.31,5.31,0,0,0,4.9,4.9,5.31,5.31,0,0,0,6.5,1,5.31,5.31,0,0,0,8.1,4.9,5.31,5.31,0,0,0,12,6.5,5.46,5.46,0,0,0,6.5,12Z\"/>\n",
              "  </svg>\n",
              "    </button>\n",
              "    <script>\n",
              "      (() => {\n",
              "      const buttonEl =\n",
              "        document.querySelector('#id_4f8c10e5-84a1-438d-ac4f-559de81cfe35 button.colab-df-generate');\n",
              "      buttonEl.style.display =\n",
              "        google.colab.kernel.accessAllowed ? 'block' : 'none';\n",
              "\n",
              "      buttonEl.onclick = () => {\n",
              "        google.colab.notebook.generateWithVariable('testX');\n",
              "      }\n",
              "      })();\n",
              "    </script>\n",
              "  </div>\n",
              "\n",
              "    </div>\n",
              "  </div>\n"
            ],
            "application/vnd.google.colaboratory.intrinsic+json": {
              "type": "dataframe",
              "variable_name": "testX",
              "summary": "{\n  \"name\": \"testX\",\n  \"rows\": 5,\n  \"fields\": [\n    {\n      \"column\": \"ranking\",\n      \"properties\": {\n        \"dtype\": \"number\",\n        \"std\": 5468727,\n        \"min\": 1,\n        \"max\": 10000000,\n        \"num_unique_values\": 4,\n        \"samples\": [\n          10000000,\n          46091,\n          630\n        ],\n        \"semantic_type\": \"\",\n        \"description\": \"\"\n      }\n    },\n    {\n      \"column\": \"mld_res\",\n      \"properties\": {\n        \"dtype\": \"number\",\n        \"std\": 0,\n        \"min\": 0,\n        \"max\": 0,\n        \"num_unique_values\": 1,\n        \"samples\": [\n          0\n        ],\n        \"semantic_type\": \"\",\n        \"description\": \"\"\n      }\n    },\n    {\n      \"column\": \"mld.ps_res\",\n      \"properties\": {\n        \"dtype\": \"number\",\n        \"std\": 0,\n        \"min\": 0,\n        \"max\": 0,\n        \"num_unique_values\": 1,\n        \"samples\": [\n          0\n        ],\n        \"semantic_type\": \"\",\n        \"description\": \"\"\n      }\n    },\n    {\n      \"column\": \"card_rem\",\n      \"properties\": {\n        \"dtype\": \"number\",\n        \"std\": 5.079370039680118,\n        \"min\": 6.0,\n        \"max\": 18.0,\n        \"num_unique_values\": 4,\n        \"samples\": [\n          11.0\n        ],\n        \"semantic_type\": \"\",\n        \"description\": \"\"\n      }\n    },\n    {\n      \"column\": \"ratio_Rrem\",\n      \"properties\": {\n        \"dtype\": \"number\",\n        \"std\": 204.0551782173545,\n        \"min\": 73.5,\n        \"max\": 562.0,\n        \"num_unique_values\": 4,\n        \"samples\": [\n          150.636364\n        ],\n        \"semantic_type\": \"\",\n        \"description\": \"\"\n      }\n    },\n    {\n      \"column\": \"ratio_Arem\",\n      \"properties\": {\n        \"dtype\": \"number\",\n        \"std\": 216.87055043799086,\n        \"min\": 72.642857,\n        \"max\": 590.666667,\n        \"num_unique_values\": 4,\n        \"samples\": [\n          152.272727\n        ],\n        \"semantic_type\": \"\",\n        \"description\": \"\"\n      }\n    },\n    {\n      \"column\": \"jaccard_RR\",\n      \"properties\": {\n        \"dtype\": \"number\",\n        \"std\": 0.0,\n        \"min\": 0.0,\n        \"max\": 0.0,\n        \"num_unique_values\": 1,\n        \"samples\": [\n          0.0\n        ],\n        \"semantic_type\": \"\",\n        \"description\": \"\"\n      }\n    },\n    {\n      \"column\": \"jaccard_RA\",\n      \"properties\": {\n        \"dtype\": \"number\",\n        \"std\": 0.0,\n        \"min\": 0.0,\n        \"max\": 0.0,\n        \"num_unique_values\": 1,\n        \"samples\": [\n          0.0\n        ],\n        \"semantic_type\": \"\",\n        \"description\": \"\"\n      }\n    },\n    {\n      \"column\": \"jaccard_AR\",\n      \"properties\": {\n        \"dtype\": \"number\",\n        \"std\": 0.0,\n        \"min\": 0.0,\n        \"max\": 0.0,\n        \"num_unique_values\": 1,\n        \"samples\": [\n          0.0\n        ],\n        \"semantic_type\": \"\",\n        \"description\": \"\"\n      }\n    },\n    {\n      \"column\": \"jaccard_AA\",\n      \"properties\": {\n        \"dtype\": \"number\",\n        \"std\": 0.0,\n        \"min\": 0.0,\n        \"max\": 0.0,\n        \"num_unique_values\": 1,\n        \"samples\": [\n          0.0\n        ],\n        \"semantic_type\": \"\",\n        \"description\": \"\"\n      }\n    },\n    {\n      \"column\": \"jaccard_ARrd\",\n      \"properties\": {\n        \"dtype\": \"number\",\n        \"std\": 0.43817804600413296,\n        \"min\": 0.0,\n        \"max\": 0.8,\n        \"num_unique_values\": 2,\n        \"samples\": [\n          0.0\n        ],\n        \"semantic_type\": \"\",\n        \"description\": \"\"\n      }\n    },\n    {\n      \"column\": \"jaccard_ARrem\",\n      \"properties\": {\n        \"dtype\": \"number\",\n        \"std\": 0.04845966912082666,\n        \"min\": 0.726582,\n        \"max\": 0.85964,\n        \"num_unique_values\": 4,\n        \"samples\": [\n          0.768577\n        ],\n        \"semantic_type\": \"\",\n        \"description\": \"\"\n      }\n    }\n  ]\n}"
            }
          },
          "metadata": {},
          "execution_count": 64
        }
      ],
      "source": [
        "testX"
      ]
    },
    {
      "cell_type": "code",
      "execution_count": 65,
      "metadata": {
        "id": "2U8ukVP2m3ub"
      },
      "outputs": [],
      "source": [
        "predY = clf.predict(testX)"
      ]
    },
    {
      "cell_type": "code",
      "execution_count": 66,
      "metadata": {
        "id": "gBUv4r27nH78",
        "colab": {
          "base_uri": "https://localhost:8080/"
        },
        "outputId": "3fa3590b-9d33-4c72-de28-7c6d5848c7b3"
      },
      "outputs": [
        {
          "output_type": "execute_result",
          "data": {
            "text/plain": [
              "array([1., 1., 1., 1., 0.])"
            ]
          },
          "metadata": {},
          "execution_count": 66
        }
      ],
      "source": [
        "predY"
      ]
    },
    {
      "cell_type": "code",
      "execution_count": 67,
      "metadata": {
        "id": "ee4CnzlVnH4f"
      },
      "outputs": [],
      "source": [
        "predictions = pd.concat([testData.reset_index(drop=True), pd.Series(predY, name='Predicted Class')], axis=1)"
      ]
    },
    {
      "cell_type": "code",
      "execution_count": 68,
      "metadata": {
        "id": "suzrMMVcnH1f"
      },
      "outputs": [],
      "source": [
        "accuracy = accuracy_score(testY, predY)"
      ]
    },
    {
      "cell_type": "code",
      "execution_count": 69,
      "metadata": {
        "id": "VQhZ7ZXrnHyz",
        "colab": {
          "base_uri": "https://localhost:8080/"
        },
        "outputId": "ce3f1815-7fc6-4e8c-f39c-d79432abf02c"
      },
      "outputs": [
        {
          "output_type": "stream",
          "name": "stdout",
          "text": [
            "Accuracy on test data is 0.80\n"
          ]
        }
      ],
      "source": [
        "print(f'Accuracy on test data is {accuracy:.2f}')"
      ]
    },
    {
      "cell_type": "code",
      "execution_count": 70,
      "metadata": {
        "id": "OaZz_JaAnHwK"
      },
      "outputs": [],
      "source": [
        "wandb.log({\"test_accuracy\": accuracy})"
      ]
    },
    {
      "cell_type": "code",
      "execution_count": 71,
      "metadata": {
        "id": "Gd3ZVzFunHt2"
      },
      "outputs": [],
      "source": [
        "maxDepths = [2, 3, 4, 5, 6, 7, 8, 9, 10, 15, 20, 25, 30, 35, 40, 45, 50]"
      ]
    },
    {
      "cell_type": "code",
      "execution_count": 72,
      "metadata": {
        "id": "j-8_kOr7nHrX"
      },
      "outputs": [],
      "source": [
        "trainAcc = np.zeros(len(maxDepths))"
      ]
    },
    {
      "cell_type": "code",
      "execution_count": 73,
      "metadata": {
        "id": "EGXuxzsmnHov",
        "colab": {
          "base_uri": "https://localhost:8080/"
        },
        "outputId": "e06e0c43-a823-4b2d-f16f-efc7dc210df4"
      },
      "outputs": [
        {
          "output_type": "execute_result",
          "data": {
            "text/plain": [
              "array([0., 0., 0., 0., 0., 0., 0., 0., 0., 0., 0., 0., 0., 0., 0., 0., 0.])"
            ]
          },
          "metadata": {},
          "execution_count": 73
        }
      ],
      "source": [
        "trainAcc"
      ]
    },
    {
      "cell_type": "code",
      "execution_count": 74,
      "metadata": {
        "id": "g3GVUI8GrcAn"
      },
      "outputs": [],
      "source": [
        "testAcc = np.zeros(len(maxDepths))"
      ]
    },
    {
      "cell_type": "code",
      "execution_count": 75,
      "metadata": {
        "id": "dY5v6F3Qrb9Y",
        "colab": {
          "base_uri": "https://localhost:8080/"
        },
        "outputId": "0afed4d0-724b-4942-cdd0-430fe93c716f"
      },
      "outputs": [
        {
          "output_type": "execute_result",
          "data": {
            "text/plain": [
              "array([0., 0., 0., 0., 0., 0., 0., 0., 0., 0., 0., 0., 0., 0., 0., 0., 0.])"
            ]
          },
          "metadata": {},
          "execution_count": 75
        }
      ],
      "source": [
        "testAcc"
      ]
    },
    {
      "cell_type": "code",
      "execution_count": 76,
      "metadata": {
        "id": "CHAs0HrMrb6_"
      },
      "outputs": [],
      "source": [
        "index = 0\n",
        "\n",
        "\n",
        "for depth in maxDepths:\n",
        "    clf = tree.DecisionTreeClassifier(max_depth=depth, random_state=42)\n",
        "    clf.fit(X_train, y_train)\n",
        "    Y_predTrain = clf.predict(X_train)\n",
        "    Y_predTest = clf.predict(X_test)\n",
        "    trainAcc[index] = accuracy_score(y_train, Y_predTrain)  # Training data accuracy\n",
        "    testAcc[index] = accuracy_score(y_test, Y_predTest)     # Test data accuracy\n",
        "    wandb.log({f\"train_accuracy_depth_{depth}\": trainAcc[index],\n",
        "               f\"test_accuracy_depth_{depth}\": testAcc[index]})\n",
        "    index += 1"
      ]
    },
    {
      "cell_type": "code",
      "execution_count": 77,
      "metadata": {
        "id": "n80bQlyDrb4g",
        "colab": {
          "base_uri": "https://localhost:8080/",
          "height": 564
        },
        "outputId": "1db5f736-46d1-4982-f4a4-b5d4612e2c8a"
      },
      "outputs": [
        {
          "output_type": "display_data",
          "data": {
            "text/plain": [
              "<Figure size 1200x600 with 1 Axes>"
            ],
            "image/png": "[encoded data removed]"
          },
          "metadata": {}
        }
      ],
      "source": [
        "plt.figure(figsize=(12, 6))\n",
        "plt.plot(maxDepths, trainAcc, 'ro-', maxDepths, testAcc, 'bv--')\n",
        "plt.legend(['Training Accuracy', 'Test Accuracy'])\n",
        "plt.xlabel('Max Depth')\n",
        "plt.ylabel('Accuracy')\n",
        "plt.title('Decision Tree Accuracy for Different Max Depths')\n",
        "plt.grid(True)\n",
        "plt.show()"
      ]
    },
    {
      "cell_type": "code",
      "execution_count": 78,
      "metadata": {
        "id": "90TYBVnlrb1u",
        "colab": {
          "base_uri": "https://localhost:8080/",
          "height": 962,
          "referenced_widgets": [
            "ac9476b6d2c244b2acf14a26bd127d9d",
            "fa38fbafea9c4f2c96f1cb2688e49d3f",
            "e2956eba31d842e6af90d013c40a5d84",
            "5f6204f1c6e24ea4a262293e46cf536a",
            "3f2ec99428be4ee7a602b03ca94078c0",
            "c6fb63f65b144b43bcf9ada012689640",
            "8878bde7c9fb4446a66fe6526251a23f",
            "d46291f189d94e408a60656420879523"
          ]
        },
        "outputId": "79ba6749-dbd6-4f44-eecd-c5d352ff9ab0"
      },
      "outputs": [
        {
          "output_type": "display_data",
          "data": {
            "text/plain": [
              "VBox(children=(Label(value='0.161 MB of 0.172 MB uploaded\\r'), FloatProgress(value=0.930656167398445, max=1.0)…"
            ],
            "application/vnd.jupyter.widget-view+json": {
              "version_major": 2,
              "version_minor": 0,
              "model_id": "ac9476b6d2c244b2acf14a26bd127d9d"
            }
          },
          "metadata": {}
        },
        {
          "output_type": "display_data",
          "data": {
            "text/plain": [
              "<IPython.core.display.HTML object>"
            ],
            "text/html": [
              "<style>\n",
              "    table.wandb td:nth-child(1) { padding: 0 10px; text-align: left ; width: auto;} td:nth-child(2) {text-align: left ; width: 100%}\n",
              "    .wandb-row { display: flex; flex-direction: row; flex-wrap: wrap; justify-content: flex-start; width: 100% }\n",
              "    .wandb-col { display: flex; flex-direction: column; flex-basis: 100%; flex: 1; padding: 10px; }\n",
              "    </style>\n",
              "<div class=\"wandb-row\"><div class=\"wandb-col\"><h3>Run history:</h3><br/><table class=\"wandb\"><tr><td>accuracy</td><td>▁</td></tr><tr><td>test_accuracy</td><td>▁</td></tr><tr><td>test_accuracy_depth_10</td><td>▁</td></tr><tr><td>test_accuracy_depth_15</td><td>▁</td></tr><tr><td>test_accuracy_depth_2</td><td>▁</td></tr><tr><td>test_accuracy_depth_20</td><td>▁</td></tr><tr><td>test_accuracy_depth_25</td><td>▁</td></tr><tr><td>test_accuracy_depth_3</td><td>▁</td></tr><tr><td>test_accuracy_depth_30</td><td>▁</td></tr><tr><td>test_accuracy_depth_35</td><td>▁</td></tr><tr><td>test_accuracy_depth_4</td><td>▁</td></tr><tr><td>test_accuracy_depth_40</td><td>▁</td></tr><tr><td>test_accuracy_depth_45</td><td>▁</td></tr><tr><td>test_accuracy_depth_5</td><td>▁</td></tr><tr><td>test_accuracy_depth_50</td><td>▁</td></tr><tr><td>test_accuracy_depth_6</td><td>▁</td></tr><tr><td>test_accuracy_depth_7</td><td>▁</td></tr><tr><td>test_accuracy_depth_8</td><td>▁</td></tr><tr><td>test_accuracy_depth_9</td><td>▁</td></tr><tr><td>train_accuracy_depth_10</td><td>▁</td></tr><tr><td>train_accuracy_depth_15</td><td>▁</td></tr><tr><td>train_accuracy_depth_2</td><td>▁</td></tr><tr><td>train_accuracy_depth_20</td><td>▁</td></tr><tr><td>train_accuracy_depth_25</td><td>▁</td></tr><tr><td>train_accuracy_depth_3</td><td>▁</td></tr><tr><td>train_accuracy_depth_30</td><td>▁</td></tr><tr><td>train_accuracy_depth_35</td><td>▁</td></tr><tr><td>train_accuracy_depth_4</td><td>▁</td></tr><tr><td>train_accuracy_depth_40</td><td>▁</td></tr><tr><td>train_accuracy_depth_45</td><td>▁</td></tr><tr><td>train_accuracy_depth_5</td><td>▁</td></tr><tr><td>train_accuracy_depth_50</td><td>▁</td></tr><tr><td>train_accuracy_depth_6</td><td>▁</td></tr><tr><td>train_accuracy_depth_7</td><td>▁</td></tr><tr><td>train_accuracy_depth_8</td><td>▁</td></tr><tr><td>train_accuracy_depth_9</td><td>▁</td></tr></table><br/></div><div class=\"wandb-col\"><h3>Run summary:</h3><br/><table class=\"wandb\"><tr><td>accuracy</td><td>0.49956</td></tr><tr><td>test_accuracy</td><td>0.8</td></tr><tr><td>test_accuracy_depth_10</td><td>0.89987</td></tr><tr><td>test_accuracy_depth_15</td><td>0.92175</td></tr><tr><td>test_accuracy_depth_2</td><td>0.76744</td></tr><tr><td>test_accuracy_depth_20</td><td>0.93405</td></tr><tr><td>test_accuracy_depth_25</td><td>0.93634</td></tr><tr><td>test_accuracy_depth_3</td><td>0.815</td></tr><tr><td>test_accuracy_depth_30</td><td>0.93728</td></tr><tr><td>test_accuracy_depth_35</td><td>0.93764</td></tr><tr><td>test_accuracy_depth_4</td><td>0.82058</td></tr><tr><td>test_accuracy_depth_40</td><td>0.93764</td></tr><tr><td>test_accuracy_depth_45</td><td>0.93764</td></tr><tr><td>test_accuracy_depth_5</td><td>0.84751</td></tr><tr><td>test_accuracy_depth_50</td><td>0.93764</td></tr><tr><td>test_accuracy_depth_6</td><td>0.86116</td></tr><tr><td>test_accuracy_depth_7</td><td>0.86757</td></tr><tr><td>test_accuracy_depth_8</td><td>0.88289</td></tr><tr><td>test_accuracy_depth_9</td><td>0.89232</td></tr><tr><td>train_accuracy_depth_10</td><td>0.9094</td></tr><tr><td>train_accuracy_depth_15</td><td>0.95384</td></tr><tr><td>train_accuracy_depth_2</td><td>0.76798</td></tr><tr><td>train_accuracy_depth_20</td><td>0.98608</td></tr><tr><td>train_accuracy_depth_25</td><td>0.99712</td></tr><tr><td>train_accuracy_depth_3</td><td>0.81713</td></tr><tr><td>train_accuracy_depth_30</td><td>0.99939</td></tr><tr><td>train_accuracy_depth_35</td><td>0.99952</td></tr><tr><td>train_accuracy_depth_4</td><td>0.82275</td></tr><tr><td>train_accuracy_depth_40</td><td>0.99952</td></tr><tr><td>train_accuracy_depth_45</td><td>0.99952</td></tr><tr><td>train_accuracy_depth_5</td><td>0.848</td></tr><tr><td>train_accuracy_depth_50</td><td>0.99952</td></tr><tr><td>train_accuracy_depth_6</td><td>0.86259</td></tr><tr><td>train_accuracy_depth_7</td><td>0.86867</td></tr><tr><td>train_accuracy_depth_8</td><td>0.88542</td></tr><tr><td>train_accuracy_depth_9</td><td>0.89725</td></tr></table><br/></div></div>"
            ]
          },
          "metadata": {}
        },
        {
          "output_type": "display_data",
          "data": {
            "text/plain": [
              "<IPython.core.display.HTML object>"
            ],
            "text/html": [
              " View run <strong style=\"color:#cdcd00\">hopeful-morning-16</strong> at: <a href='https://wandb.ai/michellebonchieku99-usiu/urlset-classification/runs/df3fxyz9' target=\"_blank\">https://wandb.ai/michellebonchieku99-usiu/urlset-classification/runs/df3fxyz9</a><br/> View project at: <a href='https://wandb.ai/michellebonchieku99-usiu/urlset-classification' target=\"_blank\">https://wandb.ai/michellebonchieku99-usiu/urlset-classification</a><br/>Synced 5 W&B file(s), 1 media file(s), 0 artifact file(s) and 0 other file(s)"
            ]
          },
          "metadata": {}
        },
        {
          "output_type": "display_data",
          "data": {
            "text/plain": [
              "<IPython.core.display.HTML object>"
            ],
            "text/html": [
              "Find logs at: <code>./wandb/run-20240723_045210-df3fxyz9/logs</code>"
            ]
          },
          "metadata": {}
        },
        {
          "output_type": "display_data",
          "data": {
            "text/plain": [
              "<IPython.core.display.HTML object>"
            ],
            "text/html": [
              "The new W&B backend becomes opt-out in version 0.18.0; try it out with `wandb.require(\"core\")`! See https://wandb.me/wandb-core for more information."
            ]
          },
          "metadata": {}
        }
      ],
      "source": [
        "wandb.finish()"
      ]
    },
    {
      "cell_type": "markdown",
      "source": [
        "**ANALYSIS ON OPTIMUM DEPTH**"
      ],
      "metadata": {
        "id": "I3Zwccf22nzp"
      }
    },
    {
      "cell_type": "code",
      "source": [
        "testAcc.max()"
      ],
      "metadata": {
        "colab": {
          "base_uri": "https://localhost:8080/"
        },
        "id": "3Cm0AhLA2iiU",
        "outputId": "2cd6d4e6-8f44-4116-af84-606668f1a88c"
      },
      "execution_count": 79,
      "outputs": [
        {
          "output_type": "execute_result",
          "data": {
            "text/plain": [
              "0.93764001041938"
            ]
          },
          "metadata": {},
          "execution_count": 79
        }
      ]
    },
    {
      "cell_type": "markdown",
      "source": [
        "The analysis of the optimum depth for the Decision Tree classifier aimed to identify the depth that yields the highest test accuracy on the dataset.\n",
        "By evaluating a range of depths `maxDepths = [2, 3, 4, 5, 6, 7, 8, 9, 10, 15, 20, 25, 30, 35, 40, 45, 50]` and recording the test accuracy (testAcc) for each, the depth corresponding to the highest accuracy was determined using the `testAcc.max()` function.\n",
        "**The wandb plot visually confirmed that the test accuracy peaked at depth 45 with a value of 0.9376, indicating that this depth provided the best performance. Thus, depth 45 was identified as the optimum depth for the Decision Tree, achieving the highest test accuracy compared to other depths.**\n",
        "\n",
        "![optimum depth.jpg](data:image/jpeg;base64,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)"
      ],
      "metadata": {
        "id": "t4ss729B8MCS"
      }
    }
  ],
  "metadata": {
    "colab": {
      "provenance": []
    },
    "kernelspec": {
      "display_name": "Python 3",
      "name": "python3"
    },
    "language_info": {
      "name": "python"
    },
    "widgets": {
      "application/vnd.jupyter.widget-state+json": {
        "ac9476b6d2c244b2acf14a26bd127d9d": {
          "model_module": "@jupyter-widgets/controls",
          "model_name": "VBoxModel",
          "model_module_version": "1.5.0",
          "state": {
            "_dom_classes": [],
            "_model_module": "@jupyter-widgets/controls",
            "_model_module_version": "1.5.0",
            "_model_name": "VBoxModel",
            "_view_count": null,
            "_view_module": "@jupyter-widgets/controls",
            "_view_module_version": "1.5.0",
            "_view_name": "VBoxView",
            "box_style": "",
            "children": [
              "IPY_MODEL_fa38fbafea9c4f2c96f1cb2688e49d3f",
              "IPY_MODEL_e2956eba31d842e6af90d013c40a5d84"
            ],
            "layout": "IPY_MODEL_5f6204f1c6e24ea4a262293e46cf536a"
          }
        },
        "fa38fbafea9c4f2c96f1cb2688e49d3f": {
          "model_module": "@jupyter-widgets/controls",
          "model_name": "LabelModel",
          "model_module_version": "1.5.0",
          "state": {
            "_dom_classes": [],
            "_model_module": "@jupyter-widgets/controls",
            "_model_module_version": "1.5.0",
            "_model_name": "LabelModel",
            "_view_count": null,
            "_view_module": "@jupyter-widgets/controls",
            "_view_module_version": "1.5.0",
            "_view_name": "LabelView",
            "description": "",
            "description_tooltip": null,
            "layout": "IPY_MODEL_3f2ec99428be4ee7a602b03ca94078c0",
            "placeholder": "​",
            "style": "IPY_MODEL_c6fb63f65b144b43bcf9ada012689640",
            "value": "0.172 MB of 0.172 MB uploaded\r"
          }
        },
        "e2956eba31d842e6af90d013c40a5d84": {
          "model_module": "@jupyter-widgets/controls",
          "model_name": "FloatProgressModel",
          "model_module_version": "1.5.0",
          "state": {
            "_dom_classes": [],
            "_model_module": "@jupyter-widgets/controls",
            "_model_module_version": "1.5.0",
            "_model_name": "FloatProgressModel",
            "_view_count": null,
            "_view_module": "@jupyter-widgets/controls",
            "_view_module_version": "1.5.0",
            "_view_name": "ProgressView",
            "bar_style": "",
            "description": "",
            "description_tooltip": null,
            "layout": "IPY_MODEL_8878bde7c9fb4446a66fe6526251a23f",
            "max": 1,
            "min": 0,
            "orientation": "horizontal",
            "style": "IPY_MODEL_d46291f189d94e408a60656420879523",
            "value": 1
          }
        },
        "5f6204f1c6e24ea4a262293e46cf536a": {
          "model_module": "@jupyter-widgets/base",
          "model_name": "LayoutModel",
          "model_module_version": "1.2.0",
          "state": {
            "_model_module": "@jupyter-widgets/base",
            "_model_module_version": "1.2.0",
            "_model_name": "LayoutModel",
            "_view_count": null,
            "_view_module": "@jupyter-widgets/base",
            "_view_module_version": "1.2.0",
            "_view_name": "LayoutView",
            "align_content": null,
            "align_items": null,
            "align_self": null,
            "border": null,
            "bottom": null,
            "display": null,
            "flex": null,
            "flex_flow": null,
            "grid_area": null,
            "grid_auto_columns": null,
            "grid_auto_flow": null,
            "grid_auto_rows": null,
            "grid_column": null,
            "grid_gap": null,
            "grid_row": null,
            "grid_template_areas": null,
            "grid_template_columns": null,
            "grid_template_rows": null,
            "height": null,
            "justify_content": null,
            "justify_items": null,
            "left": null,
            "margin": null,
            "max_height": null,
            "max_width": null,
            "min_height": null,
            "min_width": null,
            "object_fit": null,
            "object_position": null,
            "order": null,
            "overflow": null,
            "overflow_x": null,
            "overflow_y": null,
            "padding": null,
            "right": null,
            "top": null,
            "visibility": null,
            "width": null
          }
        },
        "3f2ec99428be4ee7a602b03ca94078c0": {
          "model_module": "@jupyter-widgets/base",
          "model_name": "LayoutModel",
          "model_module_version": "1.2.0",
          "state": {
            "_model_module": "@jupyter-widgets/base",
            "_model_module_version": "1.2.0",
            "_model_name": "LayoutModel",
            "_view_count": null,
            "_view_module": "@jupyter-widgets/base",
            "_view_module_version": "1.2.0",
            "_view_name": "LayoutView",
            "align_content": null,
            "align_items": null,
            "align_self": null,
            "border": null,
            "bottom": null,
            "display": null,
            "flex": null,
            "flex_flow": null,
            "grid_area": null,
            "grid_auto_columns": null,
            "grid_auto_flow": null,
            "grid_auto_rows": null,
            "grid_column": null,
            "grid_gap": null,
            "grid_row": null,
            "grid_template_areas": null,
            "grid_template_columns": null,
            "grid_template_rows": null,
            "height": null,
            "justify_content": null,
            "justify_items": null,
            "left": null,
            "margin": null,
            "max_height": null,
            "max_width": null,
            "min_height": null,
            "min_width": null,
            "object_fit": null,
            "object_position": null,
            "order": null,
            "overflow": null,
            "overflow_x": null,
            "overflow_y": null,
            "padding": null,
            "right": null,
            "top": null,
            "visibility": null,
            "width": null
          }
        },
        "c6fb63f65b144b43bcf9ada012689640": {
          "model_module": "@jupyter-widgets/controls",
          "model_name": "DescriptionStyleModel",
          "model_module_version": "1.5.0",
          "state": {
            "_model_module": "@jupyter-widgets/controls",
            "_model_module_version": "1.5.0",
            "_model_name": "DescriptionStyleModel",
            "_view_count": null,
            "_view_module": "@jupyter-widgets/base",
            "_view_module_version": "1.2.0",
            "_view_name": "StyleView",
            "description_width": ""
          }
        },
        "8878bde7c9fb4446a66fe6526251a23f": {
          "model_module": "@jupyter-widgets/base",
          "model_name": "LayoutModel",
          "model_module_version": "1.2.0",
          "state": {
            "_model_module": "@jupyter-widgets/base",
            "_model_module_version": "1.2.0",
            "_model_name": "LayoutModel",
            "_view_count": null,
            "_view_module": "@jupyter-widgets/base",
            "_view_module_version": "1.2.0",
            "_view_name": "LayoutView",
            "align_content": null,
            "align_items": null,
            "align_self": null,
            "border": null,
            "bottom": null,
            "display": null,
            "flex": null,
            "flex_flow": null,
            "grid_area": null,
            "grid_auto_columns": null,
            "grid_auto_flow": null,
            "grid_auto_rows": null,
            "grid_column": null,
            "grid_gap": null,
            "grid_row": null,
            "grid_template_areas": null,
            "grid_template_columns": null,
            "grid_template_rows": null,
            "height": null,
            "justify_content": null,
            "justify_items": null,
            "left": null,
            "margin": null,
            "max_height": null,
            "max_width": null,
            "min_height": null,
            "min_width": null,
            "object_fit": null,
            "object_position": null,
            "order": null,
            "overflow": null,
            "overflow_x": null,
            "overflow_y": null,
            "padding": null,
            "right": null,
            "top": null,
            "visibility": null,
            "width": null
          }
        },
        "d46291f189d94e408a60656420879523": {
          "model_module": "@jupyter-widgets/controls",
          "model_name": "ProgressStyleModel",
          "model_module_version": "1.5.0",
          "state": {
            "_model_module": "@jupyter-widgets/controls",
            "_model_module_version": "1.5.0",
            "_model_name": "ProgressStyleModel",
            "_view_count": null,
            "_view_module": "@jupyter-widgets/base",
            "_view_module_version": "1.2.0",
            "_view_name": "StyleView",
            "bar_color": null,
            "description_width": ""
          }
        }
      }
    }
  },
  "nbformat": 4,
  "nbformat_minor": 0
}